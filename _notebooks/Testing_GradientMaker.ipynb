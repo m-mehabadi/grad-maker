{
  "nbformat": 4,
  "nbformat_minor": 0,
  "metadata": {
    "colab": {
      "name": "Testing-GradientMaker.ipynb",
      "provenance": [],
      "collapsed_sections": [],
      "include_colab_link": true
    },
    "kernelspec": {
      "name": "python3",
      "display_name": "Python 3"
    },
    "language_info": {
      "name": "python"
    }
  },
  "cells": [
    {
      "cell_type": "markdown",
      "metadata": {
        "id": "view-in-github",
        "colab_type": "text"
      },
      "source": [
        "<a href=\"https://colab.research.google.com/github/m-mehabadi/grad-maker/blob/main/_notebooks/Testing_GradientMaker.ipynb\" target=\"_parent\"><img src=\"https://colab.research.google.com/assets/colab-badge.svg\" alt=\"Open In Colab\"/></a>"
      ]
    },
    {
      "cell_type": "markdown",
      "source": [
        "http://www.cs.cmu.edu/~pradeepr/convexopt/Lecture_Slides/dual-ascent.pdf"
      ],
      "metadata": {
        "id": "BphVoTyaLF5t"
      }
    },
    {
      "cell_type": "code",
      "execution_count": 1,
      "metadata": {
        "id": "WIHWSu69D0a-"
      },
      "outputs": [],
      "source": [
        "import numpy as np\n",
        "# import torch\n",
        "import matplotlib.pyplot as plt"
      ]
    },
    {
      "cell_type": "code",
      "source": [
        "# dim=2000000\n",
        "# a = 100*np.random.randn(4, dim) + 1123\n",
        "# g = np.random.randn(dim, 1)\n",
        "# b = (a-np.mean(a, axis=1)[:, np.newaxis])/np.std(a, axis=1)[:, np.newaxis]\n",
        "# np.mean(b@g/dim)"
      ],
      "metadata": {
        "id": "STG3F-Li43VS"
      },
      "execution_count": 2,
      "outputs": []
    },
    {
      "cell_type": "code",
      "source": [
        "def gradient_maker(domain_grads, epsilon=0.5, alpha=0.01):\n",
        "    def log():\n",
        "        # print(\"||||||||||||||||||||||||||||||||||||||||||||||||||||||||||||||||||||||||||||\")\n",
        "        # print(f\"u is {u_}\")\n",
        "        # print(f\"g is {g}\")\n",
        "        g_bar = np.sum(g)/dim\n",
        "        # E = g_bar.item()*dim*dgr_bar\n",
        "        inner = dgr@g/dim\n",
        "        print(f\"Iter={iter}: g_bar={g_bar}, Inner=({inner[0]}, {inner[1]}), Condition={np.min(dgr@g/dim)}\")\n",
        "\n",
        "    dgr = domain_grads\n",
        "    number_of_domains, dim = dgr.shape\n",
        "\n",
        "    #\n",
        "    _mean = np.mean(dgr, axis=1)[:, np.newaxis]\n",
        "    _std = np.std(dgr, axis=1)[:, np.newaxis]\n",
        "    dgr = (dgr-_mean)/_std\n",
        "\n",
        "    \n",
        "    # g = np.zeros(dim)\n",
        "    # u_ = np.zeros(number_of_domains)\n",
        "    \n",
        "    g = np.random.randn(dim)\n",
        "    u_ = np.zeros(number_of_domains)\n",
        "    \n",
        "    # dgr_bar = np.sum(dgr, axis=1)/dim\n",
        "    iter = 0\n",
        "    while not np.min(dgr@g/dim) >= 0.99 * epsilon:\n",
        "        if iter >= 100:\n",
        "            break\n",
        "        \n",
        "        log()\n",
        "\n",
        "        u_ = u_ + alpha*(epsilon - (dgr@g)/dim)\n",
        "        # g = (1./number_of_domains)*np.sum(((1+(u_>=0)*u_).reshape(number_of_domains, 1))*dgr, axis=0)\n",
        "        g = (1./number_of_domains)*np.sum(((1+u_).reshape(number_of_domains, 1))*dgr, axis=0)\n",
        "        iter += 1\n",
        "    log()\n",
        "    return g"
      ],
      "metadata": {
        "id": "8-FeagOWwo97"
      },
      "execution_count": 3,
      "outputs": []
    },
    {
      "cell_type": "markdown",
      "source": [
        "### Testcases\n",
        "\n",
        "Now let's write some test cases to make sure everything is working correctly\n"
      ],
      "metadata": {
        "id": "PWTyzUQQ5zrR"
      }
    },
    {
      "cell_type": "code",
      "source": [
        "epsilon=10\n",
        "alpha=0.9"
      ],
      "metadata": {
        "id": "FpmeOVAY7GuJ"
      },
      "execution_count": 4,
      "outputs": []
    },
    {
      "cell_type": "code",
      "source": [
        "grads = 100*np.random.randn(2, 20000000) + 10"
      ],
      "metadata": {
        "id": "C1ZjLcuk-8WO"
      },
      "execution_count": 5,
      "outputs": []
    },
    {
      "cell_type": "code",
      "source": [
        "g = gradient_maker(grads, epsilon=epsilon, alpha=alpha)"
      ],
      "metadata": {
        "colab": {
          "base_uri": "https://localhost:8080/"
        },
        "id": "grZhb7CjuiNT",
        "outputId": "3937951b-400f-44ad-f8c1-6b474a5089d4"
      },
      "execution_count": 6,
      "outputs": [
        {
          "output_type": "stream",
          "name": "stdout",
          "text": [
            "Iter=0: g_bar=9.103085289394385e-05, Inner=(0.00027434919342198574, 9.351729995714607e-05), Condition=9.351729995714607e-05\n",
            "Iter=1: g_bar=-5.639336109197756e-16, Inner=(4.999995621931551, 5.000076994345628), Condition=4.999995621931551\n",
            "Iter=2: g_bar=-8.156376907209051e-16, Inner=(7.250051177269096, 7.250095932968906), Condition=7.250051177269096\n",
            "Iter=3: g_bar=-9.60329771260149e-16, Inner=(8.487557618787438, 8.48758223490193), Condition=8.487557618787438\n",
            "Iter=4: g_bar=-1.0349964441047633e-15, Inner=(9.168172899226354, 9.168186438353176), Condition=9.168172899226354\n",
            "Iter=5: g_bar=-1.0763130831037414e-15, Inner=(9.542504009292113, 9.542511455957014), Condition=9.542504009292113\n",
            "Iter=6: g_bar=-1.1045756309613352e-15, Inner=(9.748382108109828, 9.748386203855288), Condition=9.748382108109828\n",
            "Iter=7: g_bar=-1.1130310895168805e-15, Inner=(9.86161285605736, 9.86161510876127), Condition=9.86161285605736\n",
            "Iter=8: g_bar=-1.1242292430324597e-15, Inner=(9.923888553930986, 9.923889792942283), Condition=9.923888553930986\n"
          ]
        }
      ]
    }
  ]
}