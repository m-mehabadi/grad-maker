{
  "nbformat": 4,
  "nbformat_minor": 0,
  "metadata": {
    "colab": {
      "name": "Testing-GradientMaker.ipynb",
      "provenance": [],
      "collapsed_sections": [],
      "include_colab_link": true
    },
    "kernelspec": {
      "name": "python3",
      "display_name": "Python 3"
    },
    "language_info": {
      "name": "python"
    }
  },
  "cells": [
    {
      "cell_type": "markdown",
      "metadata": {
        "id": "view-in-github",
        "colab_type": "text"
      },
      "source": [
        "<a href=\"https://colab.research.google.com/github/m-mehabadi/grad-maker/blob/main/_notebooks/Testing_GradientMaker.ipynb\" target=\"_parent\"><img src=\"https://colab.research.google.com/assets/colab-badge.svg\" alt=\"Open In Colab\"/></a>"
      ]
    },
    {
      "cell_type": "markdown",
      "source": [
        "http://www.cs.cmu.edu/~pradeepr/convexopt/Lecture_Slides/dual-ascent.pdf"
      ],
      "metadata": {
        "id": "BphVoTyaLF5t"
      }
    },
    {
      "cell_type": "code",
      "execution_count": 61,
      "metadata": {
        "id": "WIHWSu69D0a-"
      },
      "outputs": [],
      "source": [
        "import numpy as np\n",
        "# import torch\n",
        "import matplotlib.pyplot as plt"
      ]
    },
    {
      "cell_type": "code",
      "source": [
        "# dim=2000000\n",
        "# a = 100*np.random.randn(4, dim) + 1123\n",
        "# g = np.random.randn(dim, 1)\n",
        "# b = (a-np.mean(a, axis=1)[:, np.newaxis])/np.std(a, axis=1)[:, np.newaxis]\n",
        "# np.mean(b@g/dim)"
      ],
      "metadata": {
        "id": "STG3F-Li43VS"
      },
      "execution_count": 88,
      "outputs": []
    },
    {
      "cell_type": "code",
      "source": [
        "def gradient_maker(domain_grads, epsilon=0.5, alpha=0.01, eff=0.1):\n",
        "    def log():\n",
        "        print(f\"Iter={iter}, Condition={np.min(dgr@g/dim)}\")\n",
        "    \n",
        "    # def null(A, eps=1e-15):\n",
        "    #     u, s, vh = np.linalg.svd(A)\n",
        "    #     # print(vh)\n",
        "    #     null_space = np.compress(s <= eps, vh, axis=0)\n",
        "    #     return null_space.T\n",
        "\n",
        "    def null(A):\n",
        "        from scipy.linalg import null_space\n",
        "        n = null_space(A, rcond=1)\n",
        "        if n.shape[1] < 1:\n",
        "            return False, None\n",
        "        r = np.sqrt(np.sum((A@n)**2, axis=0)/n.shape[1])\n",
        "        if np.min(r) >= 1e-2:\n",
        "            return False, None\n",
        "        return True, n.T[np.argmin(r)].reshape(-1, 1)\n",
        "    \n",
        "    def scale():\n",
        "        G = np.concatenate((g.reshape(1, -1), domain_grads), axis=0)\n",
        "        is_fine, n = null(G@G.T)\n",
        "        if not is_fine:\n",
        "            return np.mean(np.sqrt(np.sum(domain_grads**2, axis=1)))/np.sqrt(np.sum(g**2))\n",
        "        n /= np.sum(n[1:])\n",
        "        return -1.*n[0,0]\n",
        "\n",
        "    dgr = np.copy(domain_grads)\n",
        "    number_of_domains, dim = dgr.shape\n",
        "\n",
        "    #\n",
        "    dgr /= np.sqrt(np.sum(dgr**2, axis=1))[:, np.newaxis]\n",
        "    \n",
        "    #\n",
        "    g = np.random.randn(dim)\n",
        "    g /= np.sqrt(np.sum(g**2))\n",
        "    u_ = np.zeros(number_of_domains)\n",
        "    \n",
        "    iter = 0\n",
        "    while not np.min(dgr@g/dim) >= epsilon:\n",
        "\n",
        "        log()\n",
        "        \n",
        "        u_ = u_ + alpha*((1.+eff)*epsilon - (dgr@g)/dim)\n",
        "        g = (1./number_of_domains)*np.sum(((1+u_).reshape(number_of_domains, 1))*dgr, axis=0)\n",
        "\n",
        "        iter += 1\n",
        "    \n",
        "    log()\n",
        "    return scale()*g"
      ],
      "metadata": {
        "id": "8-FeagOWwo97"
      },
      "execution_count": 63,
      "outputs": []
    },
    {
      "cell_type": "markdown",
      "source": [
        "### Testcases\n",
        "\n",
        "Now let's write some test cases to make sure everything is working correctly\n"
      ],
      "metadata": {
        "id": "PWTyzUQQ5zrR"
      }
    },
    {
      "cell_type": "code",
      "source": [
        "epsilon=10\n",
        "alpha=0.9"
      ],
      "metadata": {
        "id": "FpmeOVAY7GuJ"
      },
      "execution_count": 64,
      "outputs": []
    },
    {
      "cell_type": "code",
      "source": [
        "grads = 0.0000001*np.random.randn(2, 3) - 10000000\n",
        "print(grads)"
      ],
      "metadata": {
        "id": "C1ZjLcuk-8WO",
        "colab": {
          "base_uri": "https://localhost:8080/"
        },
        "outputId": "635a59f6-decd-490d-8fba-254335141ba5"
      },
      "execution_count": 70,
      "outputs": [
        {
          "output_type": "stream",
          "name": "stdout",
          "text": [
            "[[-10000000.00000006 -10000000.00000006 -10000000.00000017]\n",
            " [-10000000.00000002  -9999999.99999993 -10000000.00000006]]\n"
          ]
        }
      ]
    },
    {
      "cell_type": "code",
      "source": [
        "g = gradient_maker(grads, epsilon=epsilon, alpha=alpha)\n",
        "print(g)"
      ],
      "metadata": {
        "colab": {
          "base_uri": "https://localhost:8080/"
        },
        "id": "grZhb7CjuiNT",
        "outputId": "ef5e8ad9-25b1-420e-fb76-d9acaa3ff472"
      },
      "execution_count": 71,
      "outputs": [
        {
          "output_type": "stream",
          "name": "stdout",
          "text": [
            "Iter=0, Condition=0.12624283122407595\n",
            "Iter=1, Condition=3.5954604839661113\n",
            "Iter=2, Condition=5.816822338776277\n",
            "Iter=3, Condition=7.3717756371433945\n",
            "Iter=4, Condition=8.460242946000376\n",
            "Iter=5, Condition=9.222170062200265\n",
            "Iter=6, Condition=9.755519043540184\n",
            "Iter=7, Condition=10.128863330478131\n",
            "[-10000000.00000009 -10000000.00000004 -10000000.00000017]\n"
          ]
        }
      ]
    }
  ]
}