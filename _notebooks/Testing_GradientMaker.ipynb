{
  "nbformat": 4,
  "nbformat_minor": 0,
  "metadata": {
    "colab": {
      "name": "Testing-GradientMaker.ipynb",
      "provenance": [],
      "collapsed_sections": [],
      "include_colab_link": true
    },
    "kernelspec": {
      "name": "python3",
      "display_name": "Python 3"
    },
    "language_info": {
      "name": "python"
    }
  },
  "cells": [
    {
      "cell_type": "markdown",
      "metadata": {
        "id": "view-in-github",
        "colab_type": "text"
      },
      "source": [
        "<a href=\"https://colab.research.google.com/github/m-mehabadi/grad-maker/blob/main/_notebooks/Testing_GradientMaker.ipynb\" target=\"_parent\"><img src=\"https://colab.research.google.com/assets/colab-badge.svg\" alt=\"Open In Colab\"/></a>"
      ]
    },
    {
      "cell_type": "markdown",
      "source": [
        "http://www.cs.cmu.edu/~pradeepr/convexopt/Lecture_Slides/dual-ascent.pdf"
      ],
      "metadata": {
        "id": "BphVoTyaLF5t"
      }
    },
    {
      "cell_type": "code",
      "execution_count": 1,
      "metadata": {
        "id": "WIHWSu69D0a-"
      },
      "outputs": [],
      "source": [
        "import numpy as np\n",
        "# import torch\n",
        "import matplotlib.pyplot as plt"
      ]
    },
    {
      "cell_type": "code",
      "source": [
        "def gradient_maker(domain_grads, epsilon=0.5, alpha=0.01):\n",
        "\n",
        "    dgr = domain_grads\n",
        "    number_of_domains, dim = dgr.shape\n",
        "    \n",
        "    # g = np.zeros(dim)\n",
        "    # u_ = np.zeros(number_of_domains)\n",
        "    \n",
        "    g = np.random.randn(dim)\n",
        "    u_ = np.random.randn(number_of_domains)\n",
        "    \n",
        "    # dgr_bar = np.sum(dgr, axis=1)/dim\n",
        "    iter = 0\n",
        "    while not np.min(dgr@g)/dim >= 0.99 * epsilon:\n",
        "        if iter >= 100:\n",
        "            break\n",
        "        \n",
        "        # print(\"||||||||||||||||||||||||||||||||||||||||||||||||||||||||||||||||||||||||||||\")\n",
        "        # print(f\"u is {u_}\")\n",
        "        # print(f\"g is {g}\")\n",
        "        g_bar = np.sum(g)/dim\n",
        "        # E = g_bar.item()*dim*dgr_bar\n",
        "        inner = dgr@g\n",
        "        print(f\"Iter={iter}: g_bar={g_bar}, Inner=({inner[0]}, {inner[1]}), Condition={np.min(dgr@g)/dim}\")\n",
        "\n",
        "\n",
        "        u_ = u_ + alpha*(epsilon - (dgr@g)/dim)\n",
        "        # g = (1./number_of_domains)*np.sum(((1+(u_>=0)*u_).reshape(number_of_domains, 1))*dgr, axis=0)\n",
        "        g = (1./number_of_domains)*np.sum(((1+u_).reshape(number_of_domains, 1))*dgr, axis=0)\n",
        "        iter += 1\n",
        "    return g"
      ],
      "metadata": {
        "id": "8-FeagOWwo97"
      },
      "execution_count": 37,
      "outputs": []
    },
    {
      "cell_type": "markdown",
      "source": [
        "### Testcases\n",
        "\n",
        "Now let's write some test cases to make sure everything is working correctly\n"
      ],
      "metadata": {
        "id": "PWTyzUQQ5zrR"
      }
    },
    {
      "cell_type": "code",
      "source": [
        "epsilon=0.1\n",
        "alpha=0.9"
      ],
      "metadata": {
        "id": "FpmeOVAY7GuJ"
      },
      "execution_count": 32,
      "outputs": []
    },
    {
      "cell_type": "code",
      "source": [
        "grads = 100*np.random.randn(2, 20000000) + 10\n",
        "# print(grads)\n",
        "# g = gradient_maker(grads, epsilon=epsilon, alpha=alpha)"
      ],
      "metadata": {
        "id": "C1ZjLcuk-8WO"
      },
      "execution_count": null,
      "outputs": []
    },
    {
      "cell_type": "code",
      "source": [
        "g = gradient_maker(grads, epsilon=epsilon, alpha=alpha)"
      ],
      "metadata": {
        "colab": {
          "base_uri": "https://localhost:8080/"
        },
        "id": "grZhb7CjuiNT",
        "outputId": "9d53b47e-7ee5-451c-d0b4-6e710f37b44b"
      },
      "execution_count": 73,
      "outputs": [
        {
          "output_type": "stream",
          "name": "stdout",
          "text": [
            "Iter=0: g_bar=0.00035184299925025594, Inner=(366677.9449639169, -323081.7428071046), Condition=-0.01615408714035523\n",
            "Iter=1: g_bar=-1.215317135003231, Inner=(-71879268647.82149, 47403775293.9003), Condition=-3593.9634323910745\n",
            "Iter=2: g_bar=5565.7903592662, Inner=(324506199329920.9, -212391907237252.97), Condition=-10619595.361862648\n",
            "Iter=3: g_bar=-25486230.14671177, Inner=(-1.4650431516638528e+18, 9.515558134660358e+17), Condition=-73252157583.19264\n",
            "Iter=4: g_bar=116706718722.7659, Inner=(6.614518818134193e+21, -4.262674396551439e+21), Condition=-213133719827571.97\n",
            "Iter=5: g_bar=-534438117240422.25, Inner=(-2.9865292617543333e+25, 1.90932676019265e+25), Condition=-1.4932646308771666e+18\n",
            "Iter=6: g_bar=2.447429127000219e+18, Inner=(1.3485163978026634e+29, -8.551201146452395e+28), Condition=-4.2756005732261975e+21\n",
            "Iter=7: g_bar=-1.1208146058003226e+22, Inner=(-6.089293278138716e+32, 3.829316411420636e+32), Condition=-3.044646639069358e+25\n",
            "Iter=8: g_bar=5.132964092624229e+25, Inner=(2.749786763066968e+36, -1.714593207467515e+36), Condition=-8.572966037337576e+28\n",
            "Iter=9: g_bar=-2.350787041381917e+29, Inner=(-1.241803482456234e+40, 7.676178187248678e+39), Condition=-6.20901741228117e+32\n",
            "Iter=10: g_bar=1.076635758319804e+33, Inner=(5.608267583144168e+43, -3.436144536859619e+43), Condition=-1.7180722684298095e+36\n",
            "Iter=11: g_bar=-4.930995393201329e+36, Inner=(-2.532951321711114e+47, 1.5379367899532273e+47), Condition=-1.266475660855557e+40\n",
            "Iter=12: g_bar=2.258450183898078e+40, Inner=(1.1440565508995044e+51, -6.882471546198812e+50), Condition=-3.441235773099406e+43\n",
            "Iter=13: g_bar=-1.0344187764078932e+44, Inner=(-5.167624413409169e+54, 3.079550679763018e+54), Condition=-2.5838122067045843e+47\n",
            "Iter=14: g_bar=4.737967494056874e+47, Inner=(2.3343042478846173e+58, -1.377733818119273e+58), Condition=-6.888669090596364e+50\n",
            "Iter=15: g_bar=-2.1701882306764657e+51, Inner=(-1.054501785955873e+62, 6.162774441947546e+61), Condition=-5.272508929779365e+54\n",
            "Iter=16: g_bar=9.940591373712993e+54, Inner=(4.76387974467796e+65, -2.7562467246712973e+65), Condition=-1.3781233623356488e+58\n",
            "Iter=17: g_bar=-4.55340602261422e+58, Inner=(-2.1522768919679635e+69, 1.2325046188281945e+69), Condition=-1.0761384459839817e+62\n",
            "Iter=18: g_bar=2.085785870832687e+62, Inner=(9.724329144079237e+72, -5.510428284707149e+72), Condition=-2.7552141423535744e+65\n",
            "Iter=19: g_bar=-9.554591062588277e+65, Inner=(-4.393853617556714e+76, 2.4632362947720587e+76), Condition=-2.196926808778357e+69\n",
            "Iter=20: g_bar=4.3768672973001025e+69, Inner=(1.9854374864742726e+80, -1.100900824671875e+80), Condition=-5.5045041233593754e+72\n",
            "Iter=21: g_bar=-2.0050416714108604e+73, Inner=(-8.972052839489015e+83, 4.919365464297728e+83), Condition=-4.486026419744508e+76\n",
            "Iter=22: g_bar=9.185272238788144e+76, Inner=(4.054643475105058e+87, -2.197789000248982e+87), Condition=-1.0988945001244911e+80\n",
            "Iter=23: g_bar=-4.2079360181028497e+80, Inner=(-1.8324791440450572e+91, 9.816937829161694e+90), Condition=-9.162395720225286e+83\n",
            "Iter=24: g_bar=1.9277670356089182e+84, Inner=(8.282304605117735e+94, -4.3840571777813754e+94), Condition=-2.1920285888906876e+87\n",
            "Iter=25: g_bar=-8.831778368442045e+87, Inner=(-3.743599842835196e+98, 1.9574169550580935e+98), Condition=-1.871799921417598e+91\n",
            "Iter=26: g_bar=4.0462231464830615e+91, Inner=(1.6922089098478328e+102, -8.737639855119615e+101), Condition=-4.368819927559807e+94\n",
            "Iter=27: g_bar=-1.8537852463151096e+95, Inner=(-7.64971300222853e+105, 3.899465853128825e+105), Condition=-3.824856501114265e+98\n",
            "Iter=28: g_bar=8.493306660547434e+98, Inner=(3.458304145168239e+109, -1.7398533624730056e+109), Condition=-8.699266812365028e+101\n",
            "Iter=29: g_bar=-3.891363958464878e+102, Inner=(-1.563537775671491e+113, 7.76091430301537e+112), Condition=-7.817688878357455e+105\n",
            "Iter=30: g_bar=1.7829305876745496e+106, Inner=(7.069374542508047e+116, -3.461001764384873e+116), Condition=-1.7305008821924365e+109\n",
            "Iter=31: g_bar=-8.169104103376185e+109, Inner=(-3.196548470512502e+120, 1.543032987308073e+120), Condition=-1.598274235256251e+113\n",
            "Iter=32: g_bar=3.74301625614663e+113, Inner=(1.445471571168292e+124, -6.877468314563321e+123), Condition=-3.438734157281661e+116\n",
            "Iter=33: g_bar=-1.7150475380379324e+117, Inner=(-6.5368126849196295e+127, 3.0644834693925542e+127), Condition=-3.268406342459815e+120\n",
            "Iter=34: g_bar=7.858463822529386e+120, Inner=(2.956317113647122e+131, -1.3650743487503974e+131), Condition=-6.825371743751987e+123\n",
            "Iter=35: g_bar=-3.600858724148113e+124, Inner=(-1.3371026551276776e+135, 6.078836043942334e+134), Condition=-6.685513275638388e+127\n",
            "Iter=36: g_bar=1.6499900282213272e+128, Inner=(6.047940433800509e+138, -2.706101733599188e+138), Condition=-1.353050866799594e+131\n",
            "Iter=37: g_bar=-7.560721733300073e+131, Inner=(-2.735769739161813e+142, 1.2042634823438954e+142), Condition=-1.3678848695809066e+135\n",
            "Iter=38: g_bar=3.464589418683724e+135, Inner=(1.2376023364489344e+146, -5.357305570019352e+145), Condition=-2.678652785009676e+138\n",
            "Iter=39: g_bar=-1.587620759532792e+139, Inner=(-5.599026221612025e+149, 2.382386633073856e+149), Condition=-2.799513110806012e+142\n",
            "Iter=40: g_bar=7.275253462377032e+142, Inner=(2.5332260234446377e+153, -1.0590391329953725e+153), Condition=-5.295195664976862e+145\n",
            "Iter=41: g_bar=-3.333924378016828e+146, Inner=(-1.1462139606652911e+157, 4.705852249865517e+156), Condition=-5.7310698033264555e+149\n",
            "Iter=42: g_bar=1.5278105765022596e+150, Inner=(5.1866627875940096e+160, -2.0901775568677213e+160), Condition=-1.0450887784338607e+153\n",
            "Iter=43: g_bar=-7.001471516085299e+153, Inner=(-2.3471516452430095e+164, 9.279792530269557e+163), Condition=-1.1735758226215047e+157\n",
            "Iter=44: g_bar=3.2085963440265395e+157, Inner=(1.0622466035133905e+168, -4.1180779465180594e+167), Condition=-2.0590389732590298e+160\n",
            "Iter=45: g_bar=-1.4704378896894327e+161, Inner=(-4.8077387889688835e+171, 1.826595853475434e+171), Condition=-2.4038693944844417e+164\n",
            "Iter=46: g_bar=6.73882267433397e+164, Inner=(2.1761455062526692e+175, -8.097886903842826e+174), Condition=-4.048943451921413e+167\n",
            "Iter=47: g_bar=-3.088353585504595e+168, Inner=(-9.85069318187266e+178, 3.588155613837115e+178), Condition=-4.925346590936329e+171\n",
            "Iter=48: g_bar=1.4153881443449415e+172, Inner=(4.459412904500383e+182, -1.5890198886156976e+182), Condition=-7.945099443078488e+174\n",
            "Iter=49: g_bar=-6.486785591243351e+175, Inner=(-2.0189280736157632e+186, 7.032879622196915e+185), Condition=-1.0094640368078816e+179\n",
            "Iter=50: g_bar=2.9729588146140997e+179, Inner=(9.141058876086775e+189, -3.1107787668139244e+189), Condition=-1.555389383406962e+182\n",
            "Iter=51: g_bar=-1.362553331065286e+183, Inner=(-4.139090211335199e+193, 1.3750623020325997e+193), Condition=-2.0695451056675996e+186\n",
            "Iter=52: g_bar=6.244868585068948e+186, Inner=(1.8743307457157873e+197, -6.074030182897827e+196), Condition=-3.0370150914489134e+189\n",
            "Iter=53: g_bar=-2.8621881886801107e+190, Inner=(-8.488300373253186e+200, 2.681115407189451e+200), Condition=-4.244150186626593e+193\n",
            "Iter=54: g_bar=1.3118315349150584e+194, Inner=(3.844400635320706e+204, -1.1825492697013793e+204), Condition=-5.912746348506896e+196\n",
            "Iter=55: g_bar=-6.012607601540351e+197, Inner=(-1.7412861513301921e+208, 5.211559070161585e+207), Condition=-8.706430756650961e+200\n",
            "Iter=56: g_bar=2.75583039015932e+201, Inner=(7.887610685521785e+211, -2.294766012095493e+211), Condition=-1.1473830060477465e+204\n",
            "Iter=57: g_bar=-1.2631265197949353e+205, Inner=(-3.573179292562495e+215, 1.0095015948604447e+215), Condition=-1.7865896462812477e+208\n",
            "Iter=58: g_bar=5.7895643361017875e+208, Inner=(1.6188193001096542e+219, -4.436562647272884e+218), Condition=-2.2182813236364423e+211\n",
            "Iter=59: g_bar=-2.6536857782517176e+212, Inner=(-7.334598744310884e+222, 1.9477252279508087e+222), Condition=-3.667299372155442e+215\n",
            "Iter=60: g_bar=1.2163473451107178e+216, Inner=(3.3234485560108947e+226, -8.541174668302963e+225), Condition=-4.2705873341514815e+218\n",
            "Iter=61: g_bar=-5.575324501794173e+219, Inner=(-1.5060395095667858e+230, 3.740935555940488e+229), Condition=-7.53019754783393e+222\n",
            "Iter=62: g_bar=2.5555656061808874e+223, Inner=(6.825253058307004e+233, -1.6363469433298404e+233), Condition=-8.181734716649202e+225\n",
            "Iter=63: g_bar=-1.1714080120529095e+227, Inner=(-3.0934016954805406e+237, 7.147567407521893e+236), Condition=-1.5467008477402702e+230\n",
            "Iter=64: g_bar=5.369496230656184e+230, Inner=(1.4021330403360966e+241, -3.1172999615066374e+240), Condition=-1.5586499807533186e+233\n",
            "Iter=65: g_bar=-2.4612912986831396e+234, Inner=(-6.355908559705655e+244, 1.3573124432358474e+244), Condition=-3.1779542798528275e+237\n",
            "Iter=66: g_bar=1.1282271370274964e+238, Inner=(2.88138795283849e+248, -5.899266043044226e+247), Condition=-2.9496330215221127e+240\n",
            "Iter=67: g_bar=-5.171708597567526e+241, Inner=(-1.3063563774670353e+252, 2.5589410411072755e+251), Condition=-6.531781887335176e+244\n",
            "Iter=68: g_bar=2.37069378471482e+245, Inner=(5.923216358536419e+255, -1.1076013733980248e+255), Condition=-5.538006866990124e+247\n",
            "Iter=69: g_bar=-1.0867276499894523e+249, Inner=(-2.6858989262525053e+259, 4.782685092419184e+258), Condition=-1.3429494631262526e+252\n",
            "Iter=70: g_bar=4.981610256404853e+252, Inner=(1.218030100984773e+263, -2.0597481649392632e+262), Condition=-1.0298740824696316e+255\n",
            "Iter=71: g_bar=-2.2836128808152036e+256, Inner=(-5.524116149552204e+266, 8.844652670962527e+265), Condition=-2.762058074776102e+259\n",
            "Iter=72: g_bar=1.0468365156238146e+260, Inner=(2.5055561484807415e+270, -3.78546256355627e+269), Condition=-1.892731281778135e+262\n",
            "Iter=73: g_bar=-4.7988681792515604e+263, Inner=(-1.1365332939443901e+274, 1.6141612691840255e+273), Condition=-5.682666469721951e+266\n",
            "Iter=74: g_bar=2.1998967209534e+267, Inner=(5.1558110386282e+277, -6.854034087995765e+276), Condition=-3.4270170439978824e+269\n",
            "Iter=75: g_bar=-1.0084844754948688e+271, Inner=(-2.3390997542969777e+281, 2.8963513225309014e+280), Condition=-1.1695498771484888e+274\n",
            "Iter=76: g_bar=4.623166490194688e+274, Inner=(1.0612984407567196e+285, -1.2171219632702261e+284), Condition=-6.085609816351131e+276\n",
            "Iter=77: g_bar=-2.1194012290448055e+278, Inner=(-4.8157445761074306e+288, 5.081408287703564e+287), Condition=-2.4078722880537152e+281\n",
            "Iter=78: g_bar=9.716058094448067e+281, Inner=(2.185378141368709e+292, -2.105120053037124e+291), Condition=-1.052560026518562e+284\n",
            "Iter=79: g_bar=-4.454205385965105e+285, Inner=(-9.918067727155714e+295, 8.640289544095638e+294), Condition=-4.959033863577857e+288\n",
            "Iter=80: g_bar=2.0419896306481667e+289, Inner=(4.501579803219054e+299, -3.5060824090411794e+298), Condition=-1.7530412045205897e+291\n",
            "Iter=81: g_bar=-9.361381146699501e+292, Inner=(-2.0433385373185837e+303, 1.4024629624758149e+302), Condition=-1.0216692686592919e+296\n",
            "Iter=82: g_bar=4.291700136338339e+296, Inner=(9.275840214430437e+306, -5.506974090490857e+305), Condition=-2.7534870452454285e+298\n"
          ]
        },
        {
          "output_type": "stream",
          "name": "stderr",
          "text": [
            "/usr/local/lib/python3.7/dist-packages/ipykernel_launcher.py:14: RuntimeWarning: overflow encountered in matmul\n",
            "  \n",
            "/usr/local/lib/python3.7/dist-packages/ipykernel_launcher.py:23: RuntimeWarning: overflow encountered in matmul\n",
            "/usr/local/lib/python3.7/dist-packages/ipykernel_launcher.py:24: RuntimeWarning: overflow encountered in matmul\n",
            "/usr/local/lib/python3.7/dist-packages/ipykernel_launcher.py:27: RuntimeWarning: overflow encountered in matmul\n"
          ]
        },
        {
          "output_type": "stream",
          "name": "stdout",
          "text": [
            "Iter=83: g_bar=-1.9675320006518152e+300, Inner=(-inf, inf), Condition=-inf\n"
          ]
        },
        {
          "output_type": "stream",
          "name": "stderr",
          "text": [
            "/usr/local/lib/python3.7/dist-packages/numpy/core/fromnumeric.py:86: RuntimeWarning: invalid value encountered in reduce\n",
            "  return ufunc.reduce(obj, axis, dtype, out, **passkwargs)\n"
          ]
        },
        {
          "output_type": "stream",
          "name": "stdout",
          "text": [
            "Iter=84: g_bar=nan, Inner=(nan, nan), Condition=nan\n",
            "Iter=85: g_bar=nan, Inner=(nan, nan), Condition=nan\n",
            "Iter=86: g_bar=nan, Inner=(nan, nan), Condition=nan\n",
            "Iter=87: g_bar=nan, Inner=(nan, nan), Condition=nan\n",
            "Iter=88: g_bar=nan, Inner=(nan, nan), Condition=nan\n",
            "Iter=89: g_bar=nan, Inner=(nan, nan), Condition=nan\n",
            "Iter=90: g_bar=nan, Inner=(nan, nan), Condition=nan\n",
            "Iter=91: g_bar=nan, Inner=(nan, nan), Condition=nan\n",
            "Iter=92: g_bar=nan, Inner=(nan, nan), Condition=nan\n",
            "Iter=93: g_bar=nan, Inner=(nan, nan), Condition=nan\n",
            "Iter=94: g_bar=nan, Inner=(nan, nan), Condition=nan\n",
            "Iter=95: g_bar=nan, Inner=(nan, nan), Condition=nan\n",
            "Iter=96: g_bar=nan, Inner=(nan, nan), Condition=nan\n",
            "Iter=97: g_bar=nan, Inner=(nan, nan), Condition=nan\n",
            "Iter=98: g_bar=nan, Inner=(nan, nan), Condition=nan\n",
            "Iter=99: g_bar=nan, Inner=(nan, nan), Condition=nan\n"
          ]
        }
      ]
    },
    {
      "cell_type": "code",
      "source": [
        "grads[:, :100]"
      ],
      "metadata": {
        "colab": {
          "base_uri": "https://localhost:8080/"
        },
        "id": "YG6ziDg1ttPp",
        "outputId": "07c8e24d-ca49-4383-893e-64447041de92"
      },
      "execution_count": 74,
      "outputs": [
        {
          "output_type": "execute_result",
          "data": {
            "text/plain": [
              "array([[-4.36178276e+01,  1.65620501e+02,  7.57797519e+01,\n",
              "        -7.24709150e+01, -3.00711622e+01,  1.42694400e+02,\n",
              "         6.74106708e+01,  9.10923037e+01,  9.48436218e+01,\n",
              "         2.38524821e+02, -3.34805346e+01,  1.09567650e+02,\n",
              "         8.77092849e+01,  1.91012895e+02,  4.61835705e+01,\n",
              "        -5.93347165e+01,  4.42651268e+01,  8.87184328e+01,\n",
              "        -7.82668710e+01,  2.16686041e+02,  6.99560396e+01,\n",
              "        -8.96850762e+01,  2.66629787e+01, -2.10202221e+01,\n",
              "         6.46139119e+01, -4.20984504e+00, -1.92090152e+01,\n",
              "        -2.99432171e+01, -9.00602124e+00,  2.12063962e+01,\n",
              "         1.78103382e+01,  9.18731943e+01,  6.27519330e+01,\n",
              "         4.95486336e+01,  1.01727158e+02,  2.85074533e+00,\n",
              "         2.33187384e+01,  7.42887760e+01, -5.31322574e+01,\n",
              "         1.37649815e+02, -2.51506472e+01,  4.59611486e+01,\n",
              "        -9.18522401e+01, -1.24972947e+02,  9.47857204e+01,\n",
              "         8.96472895e+00, -6.64439692e+01, -1.57524798e+02,\n",
              "        -1.15183851e+02, -1.55649632e+01, -3.57376697e+01,\n",
              "         2.14715985e+01,  7.69689829e+01, -2.52314307e+01,\n",
              "         1.17979678e+01,  1.82237014e+01, -1.16020442e+02,\n",
              "        -2.40487365e+02, -5.77291290e+01,  8.00110909e+01,\n",
              "        -3.36947957e+01, -5.38722369e+01,  7.30681817e+01,\n",
              "        -7.03949164e+00, -1.68474717e+02,  6.32745515e+01,\n",
              "        -5.55002796e+01,  8.08190049e+01,  1.12472729e+02,\n",
              "         2.41053605e+01,  3.76116621e+01,  7.73356716e+01,\n",
              "         7.85577247e+01,  5.34214091e+01, -1.54634435e+02,\n",
              "        -2.33394697e+02, -1.41530302e+02,  1.79137045e+02,\n",
              "         1.32527740e+02, -1.19664917e+02, -1.54888571e+02,\n",
              "         7.74386637e+01, -5.57890246e+01,  1.34700457e+02,\n",
              "         1.26504941e+02,  2.16380686e+00,  2.66615048e+01,\n",
              "         1.10120802e+02, -5.69985668e+01,  9.82430391e+01,\n",
              "         8.10808985e+01,  4.17524404e+01,  3.79871391e+01,\n",
              "         5.38997232e+00,  5.65181292e+01, -1.80999975e+00,\n",
              "         6.21254525e-01, -7.22095449e+01,  7.72750913e+01,\n",
              "         5.62813167e+01],\n",
              "       [-2.62388559e+00,  2.16240369e+01, -8.42356973e+01,\n",
              "         1.36863859e+02,  5.89775037e+01, -7.62161291e+01,\n",
              "         2.14239013e+02,  4.27622592e+01, -2.40789042e+01,\n",
              "         3.18830267e+00, -1.03990683e+01, -3.18347264e+01,\n",
              "        -1.52654347e+02, -6.56989487e+01,  1.10956676e+02,\n",
              "         6.06098251e+01, -3.98754304e+01, -1.20889078e+02,\n",
              "         1.37897641e+02, -9.76240874e+01, -1.62978195e+00,\n",
              "         3.57611275e+01, -2.39282894e+01, -7.68395719e+01,\n",
              "        -5.02332822e+01, -5.13796159e+01, -6.17887851e+01,\n",
              "         1.55659486e-01, -5.25712742e+01, -7.16053613e+01,\n",
              "        -7.88591513e+01, -1.50789116e+02,  1.66879509e+01,\n",
              "        -1.11806126e+02,  3.85077974e+01,  1.44770822e+02,\n",
              "         8.12882545e+01, -2.99418855e+01, -2.75929340e+00,\n",
              "         9.94222560e+01,  5.27420511e+01, -6.10754809e+01,\n",
              "        -3.75165616e+01,  7.47095970e+01,  2.39068960e+00,\n",
              "        -1.08380903e+00,  6.23628473e+01, -5.85139118e+01,\n",
              "        -6.12277014e+01,  1.34909150e+02, -1.40549534e+02,\n",
              "        -5.77029434e+01,  3.40964433e-01, -3.14165166e+01,\n",
              "        -1.51798376e+02,  9.96159731e+01, -6.95362981e+01,\n",
              "         4.76057915e+01,  2.17649261e+02, -1.26274569e+02,\n",
              "        -1.42351468e+01,  8.68017450e+01, -5.03996303e+01,\n",
              "         1.50620396e+02, -2.10345821e+01,  1.07718488e+02,\n",
              "         2.89145530e+01, -1.16634412e+02,  9.31547842e+01,\n",
              "         8.37769632e+01, -8.65502124e+01,  9.73623948e+01,\n",
              "        -8.23833180e+01,  7.03350510e+00, -4.26109155e+01,\n",
              "         6.05528633e+01,  6.64246765e+01, -3.47826893e+01,\n",
              "         5.68038514e+00, -8.75145269e+01,  1.54010948e+02,\n",
              "        -5.97908921e+01, -6.23206380e+01,  3.28512465e+01,\n",
              "        -5.69484057e+01, -8.59329186e+01, -1.82286271e+02,\n",
              "         2.74995861e+01,  1.07307414e+02,  3.02380768e+00,\n",
              "        -8.16558500e+01, -3.48774165e+01,  3.88748612e+01,\n",
              "        -8.88666992e+01,  1.13015000e+02,  1.96348967e+02,\n",
              "         1.80286594e+02,  7.70149240e+01, -7.06315138e+01,\n",
              "         6.11050833e+01]])"
            ]
          },
          "metadata": {},
          "execution_count": 74
        }
      ]
    },
    {
      "cell_type": "code",
      "source": [
        "g[:100]"
      ],
      "metadata": {
        "colab": {
          "base_uri": "https://localhost:8080/"
        },
        "id": "kzdm18kutplO",
        "outputId": "3ba45573-2995-4574-cd6f-e23f6ed64bd6"
      },
      "execution_count": 75,
      "outputs": [
        {
          "output_type": "execute_result",
          "data": {
            "text/plain": [
              "array([nan, nan, nan, nan, nan, nan, nan, nan, nan, nan, nan, nan, nan,\n",
              "       nan, nan, nan, nan, nan, nan, nan, nan, nan, nan, nan, nan, nan,\n",
              "       nan, nan, nan, nan, nan, nan, nan, nan, nan, nan, nan, nan, nan,\n",
              "       nan, nan, nan, nan, nan, nan, nan, nan, nan, nan, nan, nan, nan,\n",
              "       nan, nan, nan, nan, nan, nan, nan, nan, nan, nan, nan, nan, nan,\n",
              "       nan, nan, nan, nan, nan, nan, nan, nan, nan, nan, nan, nan, nan,\n",
              "       nan, nan, nan, nan, nan, nan, nan, nan, nan, nan, nan, nan, nan,\n",
              "       nan, nan, nan, nan, nan, nan, nan, nan, nan])"
            ]
          },
          "metadata": {},
          "execution_count": 75
        }
      ]
    }
  ]
}