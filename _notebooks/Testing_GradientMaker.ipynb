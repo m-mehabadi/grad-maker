{
  "nbformat": 4,
  "nbformat_minor": 0,
  "metadata": {
    "colab": {
      "name": "Testing-GradientMaker.ipynb",
      "provenance": [],
      "collapsed_sections": [],
      "include_colab_link": true
    },
    "kernelspec": {
      "name": "python3",
      "display_name": "Python 3"
    },
    "language_info": {
      "name": "python"
    }
  },
  "cells": [
    {
      "cell_type": "markdown",
      "metadata": {
        "id": "view-in-github",
        "colab_type": "text"
      },
      "source": [
        "<a href=\"https://colab.research.google.com/github/m-mehabadi/grad-maker/blob/main/_notebooks/Testing_GradientMaker.ipynb\" target=\"_parent\"><img src=\"https://colab.research.google.com/assets/colab-badge.svg\" alt=\"Open In Colab\"/></a>"
      ]
    },
    {
      "cell_type": "markdown",
      "source": [
        "http://www.cs.cmu.edu/~pradeepr/convexopt/Lecture_Slides/dual-ascent.pdf\n",
        "\n",
        "https://web.stanford.edu/class/ee364b/lectures/primal_dual_subgrad_slides.pdf\n",
        "\n",
        "https://www.cvxpy.org/examples/basic/quadratic_program.html"
      ],
      "metadata": {
        "id": "BphVoTyaLF5t"
      }
    },
    {
      "cell_type": "code",
      "execution_count": null,
      "metadata": {
        "id": "WIHWSu69D0a-"
      },
      "outputs": [],
      "source": [
        "from tqdm import tqdm\n",
        "import numpy as np\n",
        "import matplotlib.pyplot as plt"
      ]
    },
    {
      "cell_type": "code",
      "source": [
        "def gradient_maker(grads, solver=None):\n",
        "    \"\"\"\n",
        "    - make sure to install `cvxpy`. you can use: `pip install cvxpy`\n",
        "    - `grads` in a numpy's `ndarray`\n",
        "    - `grads.shape == (n, d)`, where `n` is the number of domains and `d` is the dimension\n",
        "    - this method will return a tuple of size two, where:\n",
        "        * the first one is the generalized vector to use with size `d`\n",
        "        * the second one is the weight vector of the linear combination\n",
        "    - finally, use g, _ = gradient_maker(grads), if you have no need to use the 2nd return\n",
        "    \"\"\"\n",
        "\n",
        "    import cvxpy as cp\n",
        "    from numpy import linalg as la\n",
        "\n",
        "    def nearestPD(A):\n",
        "\n",
        "        B = (A + A.T) / 2\n",
        "        _, s, V = la.svd(B)\n",
        "\n",
        "        H = np.dot(V.T, np.dot(np.diag(s), V))\n",
        "\n",
        "        A2 = (B + H) / 2\n",
        "\n",
        "        A3 = (A2 + A2.T) / 2\n",
        "\n",
        "        if isPD(A3):\n",
        "            return A3\n",
        "\n",
        "        spacing = np.spacing(la.norm(A))\n",
        "        \n",
        "        I = np.eye(A.shape[0])\n",
        "        k = 1\n",
        "        while not isPD(A3):\n",
        "            mineig = np.min(np.real(la.eigvals(A3)))\n",
        "            A3 += I * (-mineig * k**2 + spacing)\n",
        "            k += 1\n",
        "\n",
        "        return A3\n",
        "\n",
        "\n",
        "    def isPD(B):\n",
        "        try:\n",
        "            _ = la.cholesky(B)\n",
        "            return True\n",
        "        except la.LinAlgError:\n",
        "            return False\n",
        "\n",
        "    #\n",
        "    G = grads.T\n",
        "    n, d = grads.shape\n",
        "    g_ = np.mean(grads, axis=0).reshape(-1, 1)\n",
        "\n",
        "    #\n",
        "    P = nearestPD(n*G.T@G)\n",
        "    q = -n*G.T@g_\n",
        "    F = -G.T@G\n",
        "    h = np.zeros(n, dtype=np.float32)\n",
        "    A = np.ones(n, dtype=np.float32).reshape(1, -1)\n",
        "    b = np.ones((1, 1), dtype=np.float32)\n",
        "\n",
        "    # define opt variable\n",
        "    x = cp.Variable(n)\n",
        "    prob = cp.Problem(cp.Minimize((1/2)*cp.quad_form(x, P) + q.T @ x),\n",
        "                    [F @ x <= h,\n",
        "                    A @ x == b])\n",
        "    #\n",
        "    if solver is None:\n",
        "        return cp.OSQP\n",
        "    prob.solve(solver=solver, verbose=False)\n",
        "    s = np.array(x.value)\n",
        "\n",
        "    return G@s, s\n",
        "\n",
        "def gm_search(grads, return_first=True, verbose=0):\n",
        "    import gc\n",
        "    import cvxpy as cp\n",
        "    from numpy.linalg import norm\n",
        "\n",
        "    def gc_collect(*vars):\n",
        "        for var in vars:\n",
        "            del var\n",
        "        gc.collect()\n",
        "    \n",
        "    def get_solver(solver):\n",
        "        return eval('cp.'+solver)\n",
        "    \n",
        "    def gm_search_in_scales(grads, solver=None):\n",
        "        min_inner = -float('inf')\n",
        "        g = None\n",
        "        scales = range(20)\n",
        "        for scale in scales:\n",
        "            try:\n",
        "                _scale = 1e1**float(scale)\n",
        "                dgr = np.copy(grads)\n",
        "                dgr /= norm(dgr, axis=1).reshape(-1, 1)\n",
        "                dgr *= _scale\n",
        "\n",
        "                g_scaled, _ = gradient_maker(dgr, solver)\n",
        "\n",
        "                # we need to scale it back\n",
        "                g_scaled_back = np.mean(norm(grads, axis=1))/norm(g_scaled) * g_scaled\n",
        "\n",
        "                # then, we will replace the scaled back g with g if min_inner is increased\n",
        "                if np.min(grads@g_scaled_back) >= min_inner:\n",
        "                    g = np.copy(g_scaled_back)\n",
        "                    min_inner = np.min(grads@g_scaled_back)\n",
        "                \n",
        "                #\n",
        "                if verbose==2:\n",
        "                    print(\"----------------\")\n",
        "                    print(f\"the minimum inner product found with scaling {_scale} is {np.min(dgr@g_scaled)}\")\n",
        "                    print(f\"the minimum inner product found without scaling is {np.min(grads@g_scaled_back)}\")\n",
        "\n",
        "                #\n",
        "                gc_collect(_scale, dgr, g_scaled, g_scaled_back)\n",
        "            except:\n",
        "                break\n",
        "        return g\n",
        "    \n",
        "    # excluding: 'SCIP'\n",
        "    qp_solvers = ['OSQP','CPLEX','NAG','ECOS','GUROBI','MOSEK','CVXOPT','SCS','XPRESS']\n",
        "    \n",
        "    #\n",
        "    min_inner = -float('inf')\n",
        "    g = None\n",
        "\n",
        "    for solver in qp_solvers:\n",
        "\n",
        "        if verbose>=1:\n",
        "            print()\n",
        "            print(f\"############## Solver {solver} ##############\")\n",
        "\n",
        "        _g = gm_search_in_scales(grads, get_solver(solver))\n",
        "\n",
        "        if _g is None:\n",
        "            continue\n",
        "        \n",
        "        if verbose>=1:\n",
        "            print()\n",
        "            print(f\"best result with solver = {solver} is {np.min(grads@_g)}\")\n",
        "\n",
        "        if return_first and np.min(grads@_g) > 0. :\n",
        "            g = np.copy(_g)\n",
        "            break\n",
        "\n",
        "        if np.min(grads@_g) >= min_inner:\n",
        "            g = np.copy(_g)\n",
        "            min_inner = np.min(grads@_g)\n",
        "        \n",
        "        #\n",
        "        gc_collect(_g)\n",
        "    \n",
        "    if g is None:\n",
        "        print(\"FOUND NOTHING!!!!\")\n",
        "        g = np.mean(grads, axis=0)\n",
        "\n",
        "    if verbose>=1:\n",
        "        print()\n",
        "        print(\"============================================================\")\n",
        "        print(f\"final result is {np.min(grads@g)}\")\n",
        "\n",
        "    return g"
      ],
      "metadata": {
        "id": "wPrAgDbWh1Zj"
      },
      "execution_count": null,
      "outputs": []
    },
    {
      "cell_type": "markdown",
      "source": [
        "### Testcases\n",
        "\n",
        "Now let's write some test cases to make sure everything is working correctly\n"
      ],
      "metadata": {
        "id": "PWTyzUQQ5zrR"
      }
    },
    {
      "cell_type": "code",
      "source": [
        "grads = 1e-15*np.random.randn(20, 23)+1e-5"
      ],
      "metadata": {
        "id": "Gf2DEMZXd0iQ"
      },
      "execution_count": null,
      "outputs": []
    },
    {
      "cell_type": "code",
      "source": [
        "g = gm_search(grads)"
      ],
      "metadata": {
        "id": "wcdQRQHpnJtb"
      },
      "execution_count": null,
      "outputs": []
    },
    {
      "cell_type": "code",
      "source": [
        "np.min(grads@g)"
      ],
      "metadata": {
        "colab": {
          "base_uri": "https://localhost:8080/"
        },
        "id": "GWFfq-GDlxtZ",
        "outputId": "c1849e8b-5c18-45e0-931f-7f5d43567bd0"
      },
      "execution_count": null,
      "outputs": [
        {
          "output_type": "execute_result",
          "data": {
            "text/plain": [
              "2.2999999999001716e-09"
            ]
          },
          "metadata": {},
          "execution_count": 95
        }
      ]
    },
    {
      "cell_type": "code",
      "source": [
        ""
      ],
      "metadata": {
        "id": "PN4JjjgeycCr"
      },
      "execution_count": null,
      "outputs": []
    }
  ]
}