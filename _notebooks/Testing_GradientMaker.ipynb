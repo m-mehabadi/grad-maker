{
  "nbformat": 4,
  "nbformat_minor": 0,
  "metadata": {
    "colab": {
      "name": "Testing-GradientMaker.ipynb",
      "provenance": [],
      "collapsed_sections": [],
      "include_colab_link": true
    },
    "kernelspec": {
      "name": "python3",
      "display_name": "Python 3"
    },
    "language_info": {
      "name": "python"
    }
  },
  "cells": [
    {
      "cell_type": "markdown",
      "metadata": {
        "id": "view-in-github",
        "colab_type": "text"
      },
      "source": [
        "<a href=\"https://colab.research.google.com/github/m-mehabadi/grad-maker/blob/main/_notebooks/Testing_GradientMaker.ipynb\" target=\"_parent\"><img src=\"https://colab.research.google.com/assets/colab-badge.svg\" alt=\"Open In Colab\"/></a>"
      ]
    },
    {
      "cell_type": "markdown",
      "source": [
        "http://www.cs.cmu.edu/~pradeepr/convexopt/Lecture_Slides/dual-ascent.pdf"
      ],
      "metadata": {
        "id": "BphVoTyaLF5t"
      }
    },
    {
      "cell_type": "code",
      "execution_count": 1,
      "metadata": {
        "id": "WIHWSu69D0a-"
      },
      "outputs": [],
      "source": [
        "import numpy as np\n",
        "# import torch\n",
        "import matplotlib.pyplot as plt"
      ]
    },
    {
      "cell_type": "code",
      "source": [
        "# dim=2000000\n",
        "# a = 100*np.random.randn(4, dim) + 1123\n",
        "# g = np.random.randn(dim, 1)\n",
        "# b = (a-np.mean(a, axis=1)[:, np.newaxis])/np.std(a, axis=1)[:, np.newaxis]\n",
        "# np.mean(b@g/dim)"
      ],
      "metadata": {
        "id": "STG3F-Li43VS"
      },
      "execution_count": 2,
      "outputs": []
    },
    {
      "cell_type": "code",
      "source": [
        "def gradient_maker(domain_grads, epsilon=0.5, alpha=0.01, eff=0.1):\n",
        "    ###### NOTES:\n",
        "    ### make sure that `domain_grads` dtype is float precision not integer or long.\n",
        "\n",
        "    def log():\n",
        "        print(f\"g={g}\")\n",
        "        print(f\"Iter={iter}, Condition={np.min(dgr@g/dim)}\")\n",
        "    \n",
        "    # def null(A, eps=1e-15):\n",
        "    #     u, s, vh = np.linalg.svd(A)\n",
        "    #     # print(vh)\n",
        "    #     null_space = np.compress(s <= eps, vh, axis=0)\n",
        "    #     return null_space.T\n",
        "\n",
        "    def null(A):\n",
        "        from scipy.linalg import null_space\n",
        "        n = null_space(A, rcond=1)\n",
        "        if n.shape[1] < 1:\n",
        "            return False, None\n",
        "        r = np.sqrt(np.sum((A@n)**2, axis=0)/n.shape[1])\n",
        "        if np.min(r) >= 1e-2:\n",
        "            return False, None\n",
        "        return True, n.T[np.argmin(r)].reshape(-1, 1)\n",
        "    \n",
        "    def scale():\n",
        "        G = np.concatenate((g.reshape(1, -1), domain_grads), axis=0)\n",
        "        is_fine, n = null(G@G.T)\n",
        "        if not is_fine:\n",
        "            return np.mean(np.sqrt(np.sum(domain_grads**2, axis=1)))/np.sqrt(np.sum(g**2))\n",
        "        print(n)\n",
        "        n /= np.sum(n[1:])\n",
        "        print(n)\n",
        "        return np.abs(n[0,0])\n",
        "\n",
        "    dgr = np.copy(domain_grads)\n",
        "    number_of_domains, dim = dgr.shape\n",
        "\n",
        "    #\n",
        "    dgr /= np.sqrt(np.sum(dgr**2, axis=1))[:, np.newaxis]\n",
        "    \n",
        "    #\n",
        "    g = np.random.randn(dim)\n",
        "    g /= np.sqrt(np.sum(g**2))\n",
        "    u_ = np.zeros(number_of_domains)\n",
        "    \n",
        "    iter = 0\n",
        "    while not np.min(dgr@g/dim) >= epsilon:\n",
        "\n",
        "        log()\n",
        "        \n",
        "        u_ = u_ + alpha*((1.+eff)*epsilon - (dgr@g)/dim)\n",
        "        g = (1./number_of_domains)*np.sum(((1+u_).reshape(number_of_domains, 1))*dgr, axis=0)\n",
        "\n",
        "        iter += 1\n",
        "    \n",
        "    log()\n",
        "    return scale()*g"
      ],
      "metadata": {
        "id": "8-FeagOWwo97"
      },
      "execution_count": 66,
      "outputs": []
    },
    {
      "cell_type": "markdown",
      "source": [
        "### Testcases\n",
        "\n",
        "Now let's write some test cases to make sure everything is working correctly\n"
      ],
      "metadata": {
        "id": "PWTyzUQQ5zrR"
      }
    },
    {
      "cell_type": "code",
      "source": [
        "epsilon=0\n",
        "alpha=0.9"
      ],
      "metadata": {
        "id": "FpmeOVAY7GuJ"
      },
      "execution_count": 25,
      "outputs": []
    },
    {
      "cell_type": "code",
      "source": [
        "# grads = 0.0000001*np.random.randn(2, 3) - 10000000\n",
        "grads = np.array([[1., 0], [1, 5]])#, [0, 1]])\n",
        "print(grads)"
      ],
      "metadata": {
        "id": "C1ZjLcuk-8WO",
        "colab": {
          "base_uri": "https://localhost:8080/"
        },
        "outputId": "bb3838d9-e870-4c9f-c488-e5ec142ec833"
      },
      "execution_count": 83,
      "outputs": [
        {
          "output_type": "stream",
          "name": "stdout",
          "text": [
            "[[1. 0.]\n",
            " [1. 5.]]\n"
          ]
        }
      ]
    },
    {
      "cell_type": "code",
      "source": [
        "AA = grads\n",
        "AA_g = g\n",
        "\n",
        "px = np.array([0, AA[0][0].item()])\n",
        "py = np.array([0, AA[0][1].item()])\n",
        "\n",
        "px2 = np.array([0, AA[1][0].item()])\n",
        "py2 = np.array([0, AA[1][1].item()])\n",
        "\n",
        "px3 = np.array([0, AA_g[0].item()])\n",
        "py3 = np.array([0, AA_g[1].item()])\n",
        "\n",
        "plt.plot(px, py, 'blue')\n",
        "plt.plot(px2, py2, 'blue')\n",
        "plt.plot(px3, py3, 'green')\n",
        "plt.show()"
      ],
      "metadata": {
        "colab": {
          "base_uri": "https://localhost:8080/",
          "height": 265
        },
        "id": "Mkq7sUiWOtKB",
        "outputId": "d659a86d-e643-4981-80fe-ef109820d896"
      },
      "execution_count": 85,
      "outputs": [
        {
          "output_type": "display_data",
          "data": {
            "text/plain": [
              "<Figure size 432x288 with 1 Axes>"
            ],
            "image/png": "[encoded data removed]"
          },
          "metadata": {
            "needs_background": "light"
          }
        }
      ]
    },
    {
      "cell_type": "code",
      "source": [
        "g = gradient_maker(grads, epsilon=epsilon, alpha=alpha)\n",
        "print(g)"
      ],
      "metadata": {
        "colab": {
          "base_uri": "https://localhost:8080/"
        },
        "id": "grZhb7CjuiNT",
        "outputId": "9fe053af-0714-47f6-c38c-d0c825c0e02c"
      },
      "execution_count": 84,
      "outputs": [
        {
          "output_type": "stream",
          "name": "stdout",
          "text": [
            "g=[0.20953182 0.97780183]\n",
            "Iter=0, Condition=0.1047659095196519\n",
            "[[ 0.98131738]\n",
            " [-0.01371043]\n",
            " [-0.19190679]]\n",
            "[[-4.77254483]\n",
            " [ 0.06667939]\n",
            " [ 0.93332061]]\n",
            "[1.         4.66660307]\n"
          ]
        }
      ]
    },
    {
      "cell_type": "code",
      "source": [
        "aa = np.array(\n",
        "[[ 0.12486324],\n",
        " [ 0.16834538],\n",
        " [-0.21992362],\n",
        " [ 1.05157825]]\n",
        ")"
      ],
      "metadata": {
        "id": "wgMBteXGkXfW"
      },
      "execution_count": 80,
      "outputs": []
    },
    {
      "cell_type": "code",
      "source": [
        "np.sum(aa[1:]*grads, axis=0)+g"
      ],
      "metadata": {
        "colab": {
          "base_uri": "https://localhost:8080/"
        },
        "id": "DKQlKiyckh9b",
        "outputId": "6e90e3ff-e6a4-4e75-e36f-ee83ac08d82e"
      },
      "execution_count": 82,
      "outputs": [
        {
          "output_type": "execute_result",
          "data": {
            "text/plain": [
              "array([6.05537117e-09, 1.59298125e-08])"
            ]
          },
          "metadata": {},
          "execution_count": 82
        }
      ]
    }
  ]
}