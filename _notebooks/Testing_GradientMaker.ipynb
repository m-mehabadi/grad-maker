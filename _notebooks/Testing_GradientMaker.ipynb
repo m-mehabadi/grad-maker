{
  "nbformat": 4,
  "nbformat_minor": 0,
  "metadata": {
    "colab": {
      "name": "Testing-GradientMaker.ipynb",
      "provenance": [],
      "collapsed_sections": [],
      "include_colab_link": true
    },
    "kernelspec": {
      "name": "python3",
      "display_name": "Python 3"
    },
    "language_info": {
      "name": "python"
    }
  },
  "cells": [
    {
      "cell_type": "markdown",
      "metadata": {
        "id": "view-in-github",
        "colab_type": "text"
      },
      "source": [
        "<a href=\"https://colab.research.google.com/github/m-mehabadi/grad-maker/blob/main/_notebooks/Testing_GradientMaker.ipynb\" target=\"_parent\"><img src=\"https://colab.research.google.com/assets/colab-badge.svg\" alt=\"Open In Colab\"/></a>"
      ]
    },
    {
      "cell_type": "markdown",
      "source": [
        "http://www.cs.cmu.edu/~pradeepr/convexopt/Lecture_Slides/dual-ascent.pdf"
      ],
      "metadata": {
        "id": "BphVoTyaLF5t"
      }
    },
    {
      "cell_type": "code",
      "execution_count": 13,
      "metadata": {
        "id": "WIHWSu69D0a-"
      },
      "outputs": [],
      "source": [
        "import numpy as np\n",
        "# import torch\n",
        "import matplotlib.pyplot as plt"
      ]
    },
    {
      "cell_type": "code",
      "source": [
        "# dim=2000000\n",
        "# a = 100*np.random.randn(4, dim) + 1123\n",
        "# g = np.random.randn(dim, 1)\n",
        "# b = (a-np.mean(a, axis=1)[:, np.newaxis])/np.std(a, axis=1)[:, np.newaxis]\n",
        "# np.mean(b@g/dim)"
      ],
      "metadata": {
        "id": "STG3F-Li43VS"
      },
      "execution_count": 88,
      "outputs": []
    },
    {
      "cell_type": "code",
      "source": [
        "def gradient_maker(domain_grads, epsilon=0.5, alpha=0.01, eff=0.1):\n",
        "    def log():\n",
        "        print(f\"Iter={iter}, Condition={np.min(dgr@g/dim)}\")\n",
        "    \n",
        "    # def null(A, eps=1e-15):\n",
        "    #     u, s, vh = np.linalg.svd(A)\n",
        "    #     # print(vh)\n",
        "    #     null_space = np.compress(s <= eps, vh, axis=0)\n",
        "    #     return null_space.T\n",
        "\n",
        "    def null(A):\n",
        "        from scipy.linalg import null_space\n",
        "        n = null_space(A, rcond=1)\n",
        "        if n.shape[1] < 1:\n",
        "            return False, None\n",
        "        r = np.sqrt(np.sum((A@n)**2, axis=0)/n.shape[1])\n",
        "        if np.min(r) >= 1e-2:\n",
        "            return False, None\n",
        "        return True, n.T[np.argmin(r)].reshape(-1, 1)\n",
        "    \n",
        "    def scale():\n",
        "        G = np.concatenate((g.reshape(1, -1), domain_grads), axis=0)\n",
        "        is_fine, n = null(G@G.T)\n",
        "        if not is_fine:\n",
        "            return np.mean(np.sqrt(np.sum(domain_grads**2, axis=1)))/np.sqrt(np.sum(g**2))\n",
        "        n /= np.sum(n[1:])\n",
        "        return -1.*n[0,0]\n",
        "\n",
        "    dgr = np.copy(domain_grads)\n",
        "    number_of_domains, dim = dgr.shape\n",
        "\n",
        "    #\n",
        "    dgr /= np.sqrt(np.sum(dgr**2, axis=1))[:, np.newaxis]\n",
        "    \n",
        "    #\n",
        "    g = np.random.randn(dim)\n",
        "    g /= np.sqrt(np.sum(g**2))\n",
        "    u_ = np.zeros(number_of_domains)\n",
        "    \n",
        "    iter = 0\n",
        "    while not np.min(dgr@g/dim) >= epsilon:\n",
        "\n",
        "        log()\n",
        "        \n",
        "        u_ = u_ + alpha*((1.+eff)*epsilon - (dgr@g)/dim)\n",
        "        g = (1./number_of_domains)*np.sum(((1+u_).reshape(number_of_domains, 1))*dgr, axis=0)\n",
        "\n",
        "        iter += 1\n",
        "    \n",
        "    log()\n",
        "    return g\n",
        "    # return scale()*g"
      ],
      "metadata": {
        "id": "8-FeagOWwo97"
      },
      "execution_count": 27,
      "outputs": []
    },
    {
      "cell_type": "markdown",
      "source": [
        "### Testcases\n",
        "\n",
        "Now let's write some test cases to make sure everything is working correctly\n"
      ],
      "metadata": {
        "id": "PWTyzUQQ5zrR"
      }
    },
    {
      "cell_type": "code",
      "source": [
        "epsilon=10\n",
        "alpha=0.9"
      ],
      "metadata": {
        "id": "FpmeOVAY7GuJ"
      },
      "execution_count": 16,
      "outputs": []
    },
    {
      "cell_type": "code",
      "source": [
        "grads = 20*np.random.randn(2, 3) - 10\n",
        "print(grads)"
      ],
      "metadata": {
        "id": "C1ZjLcuk-8WO",
        "colab": {
          "base_uri": "https://localhost:8080/"
        },
        "outputId": "fee0dbcd-8df5-4b62-b8e0-cdb280e9c27a"
      },
      "execution_count": 25,
      "outputs": [
        {
          "output_type": "stream",
          "name": "stdout",
          "text": [
            "[[-17.79259088  -6.6306844  -38.75626371]\n",
            " [-18.81916069 -13.96884986   2.84194223]]\n"
          ]
        }
      ]
    },
    {
      "cell_type": "code",
      "source": [
        "g = gradient_maker(grads, epsilon=epsilon, alpha=alpha)\n",
        "print(g)"
      ],
      "metadata": {
        "colab": {
          "base_uri": "https://localhost:8080/"
        },
        "id": "grZhb7CjuiNT",
        "outputId": "71a614d3-08ea-4efa-d387-8899a1df89be"
      },
      "execution_count": 28,
      "outputs": [
        {
          "output_type": "stream",
          "name": "stdout",
          "text": [
            "Iter=0, Condition=-0.03640108660973767\n",
            "Iter=1, Condition=2.3680987179500925\n",
            "Iter=2, Condition=4.0654365525947265\n",
            "Iter=3, Condition=5.4289530109455555\n",
            "Iter=4, Condition=6.524308584915555\n",
            "Iter=5, Condition=7.404248085697314\n",
            "Iter=6, Condition=8.111141280895358\n",
            "Iter=7, Condition=8.67902375683657\n",
            "Iter=8, Condition=9.13523631872191\n",
            "Iter=9, Condition=9.501741901735041\n",
            "Iter=10, Condition=9.796183431057473\n",
            "Iter=11, Condition=10.032733589575534\n",
            "[-27.76745497 -17.11456424 -17.84057387]\n"
          ]
        }
      ]
    },
    {
      "cell_type": "code",
      "source": [
        "G = np.concatenate((g.reshape(1, -1), grads), axis=0)"
      ],
      "metadata": {
        "id": "1afF5Bmzr_Cp"
      },
      "execution_count": 30,
      "outputs": []
    },
    {
      "cell_type": "code",
      "source": [
        "G"
      ],
      "metadata": {
        "colab": {
          "base_uri": "https://localhost:8080/"
        },
        "id": "Gs1J__YKsOFE",
        "outputId": "25ae6ccd-5266-488a-eb19-5f5cd7a593d9"
      },
      "execution_count": 31,
      "outputs": [
        {
          "output_type": "execute_result",
          "data": {
            "text/plain": [
              "array([[-27.76745497, -17.11456424, -17.84057387],\n",
              "       [-17.79259088,  -6.6306844 , -38.75626371],\n",
              "       [-18.81916069, -13.96884986,   2.84194223]])"
            ]
          },
          "metadata": {},
          "execution_count": 31
        }
      ]
    },
    {
      "cell_type": "code",
      "source": [
        "def null(A, eps=1e-15):\n",
        "    u, s, vh = np.linalg.svd(A)\n",
        "    # print(vh)\n",
        "    null_space = np.compress(s <= eps, vh, axis=0)\n",
        "    return null_space.T"
      ],
      "metadata": {
        "id": "zIMR-cuOsOdh"
      },
      "execution_count": 40,
      "outputs": []
    },
    {
      "cell_type": "code",
      "source": [
        "null(G@G.T, eps=1)"
      ],
      "metadata": {
        "colab": {
          "base_uri": "https://localhost:8080/"
        },
        "id": "bps53_DisZ9W",
        "outputId": "6e81d787-42b2-46fc-9f8f-405937abe7a8"
      },
      "execution_count": 44,
      "outputs": [
        {
          "output_type": "execute_result",
          "data": {
            "text/plain": [
              "array([[-0.66979101],\n",
              "       [ 0.35610344],\n",
              "       [ 0.65159063]])"
            ]
          },
          "metadata": {},
          "execution_count": 44
        }
      ]
    },
    {
      "cell_type": "code",
      "source": [
        ""
      ],
      "metadata": {
        "id": "4vI734YwsbSC"
      },
      "execution_count": 34,
      "outputs": []
    },
    {
      "cell_type": "code",
      "source": [
        "ns = null_space(G@G.T, rcond=1)"
      ],
      "metadata": {
        "id": "ri1IDjnOuJFJ"
      },
      "execution_count": 53,
      "outputs": []
    },
    {
      "cell_type": "code",
      "source": [
        "G@G.T@ns.T[-1]"
      ],
      "metadata": {
        "colab": {
          "base_uri": "https://localhost:8080/"
        },
        "id": "23FymkzMuLGW",
        "outputId": "439f479f-0292-4fa7-c00c-b77ce13474fb"
      },
      "execution_count": 60,
      "outputs": [
        {
          "output_type": "execute_result",
          "data": {
            "text/plain": [
              "array([3.41060513e-13, 1.70530257e-13, 2.84217094e-13])"
            ]
          },
          "metadata": {},
          "execution_count": 60
        }
      ]
    },
    {
      "cell_type": "code",
      "source": [
        ""
      ],
      "metadata": {
        "id": "qWAcuwaCvaKK"
      },
      "execution_count": null,
      "outputs": []
    }
  ]
}