{
  "nbformat": 4,
  "nbformat_minor": 0,
  "metadata": {
    "colab": {
      "name": "Testing-GradientMaker.ipynb",
      "provenance": [],
      "collapsed_sections": [],
      "include_colab_link": true
    },
    "kernelspec": {
      "name": "python3",
      "display_name": "Python 3"
    },
    "language_info": {
      "name": "python"
    }
  },
  "cells": [
    {
      "cell_type": "markdown",
      "metadata": {
        "id": "view-in-github",
        "colab_type": "text"
      },
      "source": [
        "<a href=\"https://colab.research.google.com/github/m-mehabadi/grad-maker/blob/main/_notebooks/Testing_GradientMaker.ipynb\" target=\"_parent\"><img src=\"https://colab.research.google.com/assets/colab-badge.svg\" alt=\"Open In Colab\"/></a>"
      ]
    },
    {
      "cell_type": "markdown",
      "source": [
        "http://www.cs.cmu.edu/~pradeepr/convexopt/Lecture_Slides/dual-ascent.pdf\n",
        "\n",
        "https://web.stanford.edu/class/ee364b/lectures/primal_dual_subgrad_slides.pdf\n",
        "\n",
        "https://www.cvxpy.org/examples/basic/quadratic_program.html"
      ],
      "metadata": {
        "id": "BphVoTyaLF5t"
      }
    },
    {
      "cell_type": "code",
      "execution_count": 5,
      "metadata": {
        "id": "WIHWSu69D0a-"
      },
      "outputs": [],
      "source": [
        "from tqdm import tqdm\n",
        "import numpy as np\n",
        "import matplotlib.pyplot as plt\n",
        "import cvxpy as cp"
      ]
    },
    {
      "cell_type": "code",
      "source": [
        "def gradient_maker(grads, solver=None):\n",
        "    \"\"\"\n",
        "    - make sure to install `cvxpy`. you can use: `pip install cvxpy`\n",
        "    - `grads` in a numpy's `ndarray`\n",
        "    - `grads.shape == (n, d)`, where `n` is the number of domains and `d` is the dimension\n",
        "    - this method will return a tuple of size two, where:\n",
        "        * the first one is the generalized vector to use with size `d`\n",
        "        * the second one is the weight vector of the linear combination\n",
        "    - finally, use g, _ = gradient_maker(grads), if you have no need to use the 2nd return\n",
        "    \"\"\"\n",
        "\n",
        "    import cvxpy as cp\n",
        "    from numpy import linalg as la\n",
        "\n",
        "    def nearestPD(A):\n",
        "\n",
        "        B = (A + A.T) / 2\n",
        "        _, s, V = la.svd(B)\n",
        "\n",
        "        H = np.dot(V.T, np.dot(np.diag(s), V))\n",
        "\n",
        "        A2 = (B + H) / 2\n",
        "\n",
        "        A3 = (A2 + A2.T) / 2\n",
        "\n",
        "        if isPD(A3):\n",
        "            return A3\n",
        "\n",
        "        spacing = np.spacing(la.norm(A))\n",
        "        \n",
        "        I = np.eye(A.shape[0])\n",
        "        k = 1\n",
        "        while not isPD(A3):\n",
        "            mineig = np.min(np.real(la.eigvals(A3)))\n",
        "            A3 += I * (-mineig * k**2 + spacing)\n",
        "            k += 1\n",
        "\n",
        "        return A3\n",
        "\n",
        "\n",
        "    def isPD(B):\n",
        "        try:\n",
        "            _ = la.cholesky(B)\n",
        "            return True\n",
        "        except la.LinAlgError:\n",
        "            return False\n",
        "\n",
        "    #\n",
        "    G = grads.T\n",
        "    n, d = grads.shape\n",
        "    g_ = np.mean(grads, axis=0).reshape(-1, 1)\n",
        "\n",
        "    #\n",
        "    P = nearestPD(n*G.T@G)\n",
        "    q = -n*G.T@g_\n",
        "    F = -G.T@G\n",
        "    h = np.zeros(n, dtype=np.float32)\n",
        "    A = np.ones(n, dtype=np.float32).reshape(1, -1)\n",
        "    b = np.ones((1, 1), dtype=np.float32)\n",
        "\n",
        "    # define opt variable\n",
        "    x = cp.Variable(n)\n",
        "    prob = cp.Problem(cp.Minimize((1/2)*cp.quad_form(x, P) + q.T @ x),\n",
        "                    [F @ x <= h,\n",
        "                    A @ x == b])\n",
        "    #\n",
        "    if solver is None:\n",
        "        solver = cp.OSQP\n",
        "    prob.solve(solver=solver, verbose=False)\n",
        "    s = np.array(x.value)\n",
        "\n",
        "    return G@s, s"
      ],
      "metadata": {
        "id": "wPrAgDbWh1Zj"
      },
      "execution_count": 17,
      "outputs": []
    },
    {
      "cell_type": "markdown",
      "source": [
        "### Testcases\n",
        "\n",
        "Now let's write some test cases to make sure everything is working correctly\n"
      ],
      "metadata": {
        "id": "PWTyzUQQ5zrR"
      }
    },
    {
      "cell_type": "code",
      "source": [
        "grads = (1000*(np.random.randn(20, 23)+1))*np.random.randn(20, 23)"
      ],
      "metadata": {
        "id": "Gf2DEMZXd0iQ"
      },
      "execution_count": 46,
      "outputs": []
    },
    {
      "cell_type": "code",
      "source": [
        "g, _ = gradient_maker(grads)"
      ],
      "metadata": {
        "id": "ZelxOPTcqEfk"
      },
      "execution_count": 47,
      "outputs": []
    },
    {
      "cell_type": "code",
      "source": [
        "grads@g"
      ],
      "metadata": {
        "colab": {
          "base_uri": "https://localhost:8080/"
        },
        "id": "GWFfq-GDlxtZ",
        "outputId": "8aa9e8d5-0be3-4d91-8909-f620642b3217"
      },
      "execution_count": 48,
      "outputs": [
        {
          "output_type": "execute_result",
          "data": {
            "text/plain": [
              "array([ 3.58234724e+06,  1.40550831e+06,  9.95251171e+05,  2.99566385e+06,\n",
              "        4.47032769e+06,  1.23865763e+04,  2.54277280e+06,  5.31377469e+05,\n",
              "        1.05736584e+06,  6.40284270e-10, -1.14960130e-09,  1.33006823e+06,\n",
              "        1.85425661e+06,  4.04886102e+06,  7.00754961e+06, -2.32830644e-10,\n",
              "        1.03882485e+06,  3.82335840e+06,  4.11144654e+06,  5.52447919e+06])"
            ]
          },
          "metadata": {},
          "execution_count": 48
        }
      ]
    },
    {
      "cell_type": "code",
      "source": [
        "from numpy.linalg import norm"
      ],
      "metadata": {
        "id": "JUcPbCG1wJo-"
      },
      "execution_count": 49,
      "outputs": []
    },
    {
      "cell_type": "code",
      "source": [
        "grads_norm = norm(grads, axis=1)"
      ],
      "metadata": {
        "id": "nKAu2UXswj3V"
      },
      "execution_count": 50,
      "outputs": []
    },
    {
      "cell_type": "code",
      "source": [
        "grads_norm/np.min(grads_norm)"
      ],
      "metadata": {
        "colab": {
          "base_uri": "https://localhost:8080/"
        },
        "id": "JDRUOj1HxZ07",
        "outputId": "b3e14a61-95dc-4d34-c167-724f6f3459b2"
      },
      "execution_count": 51,
      "outputs": [
        {
          "output_type": "execute_result",
          "data": {
            "text/plain": [
              "array([1.28438341, 2.23292966, 2.21013496, 1.63182956, 3.22268433,\n",
              "       1.79012374, 2.1102299 , 1.        , 1.91065134, 2.38551134,\n",
              "       1.33586117, 1.87075704, 2.18937582, 2.02508051, 4.03531556,\n",
              "       1.51772263, 1.72153433, 2.45259443, 2.30904057, 2.93477631])"
            ]
          },
          "metadata": {},
          "execution_count": 51
        }
      ]
    },
    {
      "cell_type": "code",
      "source": [
        "grads_scaled = grads/np.min(grads_norm)"
      ],
      "metadata": {
        "id": "-EKdxaxuxfGT"
      },
      "execution_count": 52,
      "outputs": []
    },
    {
      "cell_type": "code",
      "source": [
        "_g, _ = gradient_maker(grads_scaled)"
      ],
      "metadata": {
        "id": "lGiwpjrVy2Sz"
      },
      "execution_count": 53,
      "outputs": []
    },
    {
      "cell_type": "code",
      "source": [
        "grads_scaled@g"
      ],
      "metadata": {
        "colab": {
          "base_uri": "https://localhost:8080/"
        },
        "id": "rRuSQEf-zDY7",
        "outputId": "3fccf0df-b432-4585-9c54-19ea6432c268"
      },
      "execution_count": 54,
      "outputs": [
        {
          "output_type": "execute_result",
          "data": {
            "text/plain": [
              "array([ 1.13163214e+03,  4.43987772e+02,  3.14391134e+02,  9.46303988e+02,\n",
              "        1.41213739e+03,  3.91281102e+00,  8.03239671e+02,  1.67857491e+02,\n",
              "        3.34012614e+02,  1.84741111e-13, -2.91322522e-13,  4.20156913e+02,\n",
              "        5.85743434e+02,  1.27899976e+03,  2.21362359e+03, -8.52651283e-14,\n",
              "        3.28155677e+02,  1.20776545e+03,  1.29876997e+03,  1.74513462e+03])"
            ]
          },
          "metadata": {},
          "execution_count": 54
        }
      ]
    },
    {
      "cell_type": "code",
      "source": [
        "g/_g"
      ],
      "metadata": {
        "colab": {
          "base_uri": "https://localhost:8080/"
        },
        "id": "xf487Z7VzF2B",
        "outputId": "891f3375-438b-414b-94ed-a8623203dd68"
      },
      "execution_count": 55,
      "outputs": [
        {
          "output_type": "execute_result",
          "data": {
            "text/plain": [
              "array([3165.64613219, 3165.64721819, 3165.64647622, 3165.64646544,\n",
              "       3165.64644994, 3165.6462149 , 3165.64783211, 3165.64677526,\n",
              "       3165.64663906, 3165.64585135, 3165.64677767, 3165.64681481,\n",
              "       3165.64661183, 3165.64640462, 3165.64508234, 3165.64718399,\n",
              "       3165.64588334, 3165.64666064, 3165.64626457, 3165.64635597,\n",
              "       3165.64628764, 3165.64632591, 3165.64651894])"
            ]
          },
          "metadata": {},
          "execution_count": 55
        }
      ]
    },
    {
      "cell_type": "code",
      "source": [
        ""
      ],
      "metadata": {
        "id": "3dDD-yvJ0A6R"
      },
      "execution_count": null,
      "outputs": []
    }
  ]
}