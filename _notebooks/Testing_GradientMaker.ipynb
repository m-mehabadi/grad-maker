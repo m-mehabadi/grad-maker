{
  "nbformat": 4,
  "nbformat_minor": 0,
  "metadata": {
    "colab": {
      "name": "Testing-GradientMaker.ipynb",
      "provenance": [],
      "collapsed_sections": [],
      "include_colab_link": true
    },
    "kernelspec": {
      "name": "python3",
      "display_name": "Python 3"
    },
    "language_info": {
      "name": "python"
    }
  },
  "cells": [
    {
      "cell_type": "markdown",
      "metadata": {
        "id": "view-in-github",
        "colab_type": "text"
      },
      "source": [
        "<a href=\"https://colab.research.google.com/github/m-mehabadi/grad-maker/blob/main/_notebooks/Testing_GradientMaker.ipynb\" target=\"_parent\"><img src=\"https://colab.research.google.com/assets/colab-badge.svg\" alt=\"Open In Colab\"/></a>"
      ]
    },
    {
      "cell_type": "markdown",
      "source": [
        "http://www.cs.cmu.edu/~pradeepr/convexopt/Lecture_Slides/dual-ascent.pdf"
      ],
      "metadata": {
        "id": "BphVoTyaLF5t"
      }
    },
    {
      "cell_type": "code",
      "execution_count": null,
      "metadata": {
        "id": "WIHWSu69D0a-"
      },
      "outputs": [],
      "source": [
        "import numpy as np\n",
        "# import torch\n",
        "import matplotlib.pyplot as plt"
      ]
    },
    {
      "cell_type": "code",
      "source": [
        "# dim=2000000\n",
        "# a = 100*np.random.randn(4, dim) + 1123\n",
        "# g = np.random.randn(dim, 1)\n",
        "# b = (a-np.mean(a, axis=1)[:, np.newaxis])/np.std(a, axis=1)[:, np.newaxis]\n",
        "# np.mean(b@g/dim)"
      ],
      "metadata": {
        "id": "STG3F-Li43VS"
      },
      "execution_count": null,
      "outputs": []
    },
    {
      "cell_type": "code",
      "source": [
        "# def gradient_maker(domain_grads, epsilon=0.5, alpha=0.01, eff=0.1):\n",
        "#     ###### NOTES:\n",
        "#     ### make sure that `domain_grads` dtype is float precision not integer or long.\n",
        "\n",
        "#     def log():\n",
        "#         # print(f\"g={g}\")\n",
        "#         print(f\"Iter={iter}, Condition={np.min(dgr@g/dim)}\")\n",
        "    \n",
        "#     def null(A, eps=1e-15):\n",
        "#         u, s, vh = np.linalg.svd(A)\n",
        "#         # print(vh)\n",
        "#         null_space = np.compress(s <= eps, vh, axis=0)\n",
        "#         return null_space.T\n",
        "\n",
        "#     def null(A):\n",
        "#         from scipy.linalg import null_space\n",
        "#         n = null_space(A, rcond=1)\n",
        "#         if n.shape[1] < 1:\n",
        "#             return False, None\n",
        "#         r = np.sqrt(np.sum((A@n)**2, axis=0)/n.shape[1])\n",
        "#         if np.min(r) >= 1e-2:\n",
        "#             return False, None\n",
        "#         return True, n.T[np.argmin(r)].reshape(-1, 1)\n",
        "    \n",
        "#     def scale():\n",
        "#         G = np.concatenate((g.reshape(1, -1), domain_grads), axis=0)\n",
        "#         is_fine, n = null(G@G.T)\n",
        "#         if not is_fine:\n",
        "#             return np.mean(np.sqrt(np.sum(domain_grads**2, axis=1)))/np.sqrt(np.sum(g**2))\n",
        "#         # print(n)\n",
        "#         n /= np.sum(n[1:])\n",
        "#         # print(n)\n",
        "#         return np.abs(n[0,0])\n",
        "\n",
        "#     dgr = np.copy(domain_grads)\n",
        "#     number_of_domains, dim = dgr.shape\n",
        "\n",
        "#     #\n",
        "#     dgr /= np.sqrt(np.sum(dgr**2, axis=1))[:, np.newaxis]\n",
        "    \n",
        "#     #\n",
        "#     g = np.random.randn(dim)\n",
        "#     g /= np.sqrt(np.sum(g**2))\n",
        "#     u_ = np.zeros(number_of_domains)\n",
        "    \n",
        "#     iter = 0\n",
        "#     while not np.min(dgr@g/dim) >= epsilon:\n",
        "\n",
        "#         log()\n",
        "        \n",
        "#         u_ = u_ + alpha*((1.+eff)*epsilon - (dgr@g)/dim)\n",
        "#         g = (1./number_of_domains)*np.sum(((1+u_).reshape(number_of_domains, 1))*dgr, axis=0)\n",
        "\n",
        "#         iter += 1\n",
        "    \n",
        "#     log()\n",
        "#     return scale()*g"
      ],
      "metadata": {
        "id": "8-FeagOWwo97"
      },
      "execution_count": null,
      "outputs": []
    },
    {
      "cell_type": "markdown",
      "source": [
        "### Testcases\n",
        "\n",
        "Now let's write some test cases to make sure everything is working correctly\n"
      ],
      "metadata": {
        "id": "PWTyzUQQ5zrR"
      }
    },
    {
      "cell_type": "code",
      "source": [
        "epsilon=10\n",
        "alpha=0.9"
      ],
      "metadata": {
        "id": "FpmeOVAY7GuJ"
      },
      "execution_count": null,
      "outputs": []
    },
    {
      "cell_type": "code",
      "source": [
        "grads = 100*np.random.randn(20, 10000000) - 10\n",
        "# grads = np.array([[1., 0], [1, 5]])#, [0, 1]])\n",
        "# print(grads)"
      ],
      "metadata": {
        "id": "C1ZjLcuk-8WO"
      },
      "execution_count": null,
      "outputs": []
    },
    {
      "cell_type": "code",
      "source": [
        "# AA = grads\n",
        "# AA_g = g\n",
        "\n",
        "# px = np.array([0, AA[0][0].item()])\n",
        "# py = np.array([0, AA[0][1].item()])\n",
        "\n",
        "# px2 = np.array([0, AA[1][0].item()])\n",
        "# py2 = np.array([0, AA[1][1].item()])\n",
        "\n",
        "# px3 = np.array([0, AA_g[0].item()])\n",
        "# py3 = np.array([0, AA_g[1].item()])\n",
        "\n",
        "# plt.plot(px, py, 'blue')\n",
        "# plt.plot(px2, py2, 'blue')\n",
        "# plt.plot(px3, py3, 'green')\n",
        "# plt.show()"
      ],
      "metadata": {
        "id": "Mkq7sUiWOtKB"
      },
      "execution_count": null,
      "outputs": []
    },
    {
      "cell_type": "code",
      "source": [
        "g = gradient_maker(grads, epsilon=epsilon, alpha=alpha)\n",
        "# print(g)"
      ],
      "metadata": {
        "colab": {
          "base_uri": "https://localhost:8080/",
          "height": 1000
        },
        "id": "grZhb7CjuiNT",
        "outputId": "c7d3339e-bfd3-4232-f783-795b2138ca64"
      },
      "execution_count": null,
      "outputs": [
        {
          "output_type": "stream",
          "name": "stdout",
          "text": [
            "Iter=0, Condition=-4.381757756645589e-11\n",
            "Iter=1, Condition=6.458103747782828e-08\n",
            "Iter=2, Condition=1.232372087876388e-07\n",
            "Iter=3, Condition=1.8189337978454018e-07\n",
            "Iter=4, Condition=2.4054955046853175e-07\n",
            "Iter=5, Condition=2.9920572083961334e-07\n",
            "Iter=6, Condition=3.5786189089778566e-07\n",
            "Iter=7, Condition=4.165180606430486e-07\n",
            "Iter=8, Condition=4.751742300753999e-07\n",
            "Iter=9, Condition=5.33830399194842e-07\n",
            "Iter=10, Condition=5.92486568001376e-07\n",
            "Iter=11, Condition=6.51142736494999e-07\n",
            "Iter=12, Condition=7.097989046757114e-07\n",
            "Iter=13, Condition=7.68455072543518e-07\n",
            "Iter=14, Condition=8.271112400984097e-07\n",
            "Iter=15, Condition=8.857674073403944e-07\n",
            "Iter=16, Condition=9.444235742694685e-07\n",
            "Iter=17, Condition=1.0030797408856299e-06\n",
            "Iter=18, Condition=1.061735907188888e-06\n",
            "Iter=19, Condition=1.1203920731792322e-06\n",
            "Iter=20, Condition=1.179048238856667e-06\n",
            "Iter=21, Condition=1.2377044042211966e-06\n",
            "Iter=22, Condition=1.2963605692728081e-06\n",
            "Iter=23, Condition=1.3550167340115132e-06\n",
            "Iter=24, Condition=1.413672898437312e-06\n",
            "Iter=25, Condition=1.4723290625501973e-06\n",
            "Iter=26, Condition=1.5309852263501791e-06\n",
            "Iter=27, Condition=1.5896413898372464e-06\n",
            "Iter=28, Condition=1.648297553011398e-06\n",
            "Iter=29, Condition=1.7069537158726464e-06\n",
            "Iter=30, Condition=1.7656098784209867e-06\n",
            "Iter=31, Condition=1.824266040656418e-06\n",
            "Iter=32, Condition=1.8829222025789352e-06\n",
            "Iter=33, Condition=1.941578364188543e-06\n",
            "Iter=34, Condition=2.0002345254852445e-06\n",
            "Iter=35, Condition=2.0588906864690307e-06\n",
            "Iter=36, Condition=2.1175468471399072e-06\n",
            "Iter=37, Condition=2.176203007497879e-06\n",
            "Iter=38, Condition=2.2348591675429496e-06\n",
            "Iter=39, Condition=2.2935153272750904e-06\n",
            "Iter=40, Condition=2.3521714866943297e-06\n",
            "Iter=41, Condition=2.4108276458006707e-06\n"
          ]
        },
        {
          "output_type": "error",
          "ename": "KeyboardInterrupt",
          "evalue": "ignored",
          "traceback": [
            "\u001b[0;31m---------------------------------------------------------------------------\u001b[0m",
            "\u001b[0;31mKeyboardInterrupt\u001b[0m                         Traceback (most recent call last)",
            "\u001b[0;32m<ipython-input-19-255948c07cd0>\u001b[0m in \u001b[0;36m<module>\u001b[0;34m()\u001b[0m\n\u001b[0;32m----> 1\u001b[0;31m \u001b[0mg\u001b[0m \u001b[0;34m=\u001b[0m \u001b[0mgradient_maker\u001b[0m\u001b[0;34m(\u001b[0m\u001b[0mgrads\u001b[0m\u001b[0;34m,\u001b[0m \u001b[0mepsilon\u001b[0m\u001b[0;34m=\u001b[0m\u001b[0mepsilon\u001b[0m\u001b[0;34m,\u001b[0m \u001b[0malpha\u001b[0m\u001b[0;34m=\u001b[0m\u001b[0malpha\u001b[0m\u001b[0;34m)\u001b[0m\u001b[0;34m\u001b[0m\u001b[0;34m\u001b[0m\u001b[0m\n\u001b[0m\u001b[1;32m      2\u001b[0m \u001b[0;31m# print(g)\u001b[0m\u001b[0;34m\u001b[0m\u001b[0;34m\u001b[0m\u001b[0;34m\u001b[0m\u001b[0m\n",
            "\u001b[0;32m<ipython-input-11-1d4482cf5448>\u001b[0m in \u001b[0;36mgradient_maker\u001b[0;34m(domain_grads, epsilon, alpha, eff)\u001b[0m\n\u001b[1;32m     50\u001b[0m \u001b[0;34m\u001b[0m\u001b[0m\n\u001b[1;32m     51\u001b[0m         \u001b[0mu_\u001b[0m \u001b[0;34m=\u001b[0m \u001b[0mu_\u001b[0m \u001b[0;34m+\u001b[0m \u001b[0malpha\u001b[0m\u001b[0;34m*\u001b[0m\u001b[0;34m(\u001b[0m\u001b[0;34m(\u001b[0m\u001b[0;36m1.\u001b[0m\u001b[0;34m+\u001b[0m\u001b[0meff\u001b[0m\u001b[0;34m)\u001b[0m\u001b[0;34m*\u001b[0m\u001b[0mepsilon\u001b[0m \u001b[0;34m-\u001b[0m \u001b[0;34m(\u001b[0m\u001b[0mdgr\u001b[0m\u001b[0;34m@\u001b[0m\u001b[0mg\u001b[0m\u001b[0;34m)\u001b[0m\u001b[0;34m/\u001b[0m\u001b[0mdim\u001b[0m\u001b[0;34m)\u001b[0m\u001b[0;34m\u001b[0m\u001b[0;34m\u001b[0m\u001b[0m\n\u001b[0;32m---> 52\u001b[0;31m         \u001b[0mg\u001b[0m \u001b[0;34m=\u001b[0m \u001b[0;34m(\u001b[0m\u001b[0;36m1.\u001b[0m\u001b[0;34m/\u001b[0m\u001b[0mnumber_of_domains\u001b[0m\u001b[0;34m)\u001b[0m\u001b[0;34m*\u001b[0m\u001b[0mnp\u001b[0m\u001b[0;34m.\u001b[0m\u001b[0msum\u001b[0m\u001b[0;34m(\u001b[0m\u001b[0;34m(\u001b[0m\u001b[0;34m(\u001b[0m\u001b[0;36m1\u001b[0m\u001b[0;34m+\u001b[0m\u001b[0mu_\u001b[0m\u001b[0;34m)\u001b[0m\u001b[0;34m.\u001b[0m\u001b[0mreshape\u001b[0m\u001b[0;34m(\u001b[0m\u001b[0mnumber_of_domains\u001b[0m\u001b[0;34m,\u001b[0m \u001b[0;36m1\u001b[0m\u001b[0;34m)\u001b[0m\u001b[0;34m)\u001b[0m\u001b[0;34m*\u001b[0m\u001b[0mdgr\u001b[0m\u001b[0;34m,\u001b[0m \u001b[0maxis\u001b[0m\u001b[0;34m=\u001b[0m\u001b[0;36m0\u001b[0m\u001b[0;34m)\u001b[0m\u001b[0;34m\u001b[0m\u001b[0;34m\u001b[0m\u001b[0m\n\u001b[0m\u001b[1;32m     53\u001b[0m \u001b[0;34m\u001b[0m\u001b[0m\n\u001b[1;32m     54\u001b[0m         \u001b[0miter\u001b[0m \u001b[0;34m+=\u001b[0m \u001b[0;36m1\u001b[0m\u001b[0;34m\u001b[0m\u001b[0;34m\u001b[0m\u001b[0m\n",
            "\u001b[0;32m<__array_function__ internals>\u001b[0m in \u001b[0;36msum\u001b[0;34m(*args, **kwargs)\u001b[0m\n",
            "\u001b[0;32m/usr/local/lib/python3.7/dist-packages/numpy/core/fromnumeric.py\u001b[0m in \u001b[0;36msum\u001b[0;34m(a, axis, dtype, out, keepdims, initial, where)\u001b[0m\n\u001b[1;32m   2258\u001b[0m \u001b[0;34m\u001b[0m\u001b[0m\n\u001b[1;32m   2259\u001b[0m     return _wrapreduction(a, np.add, 'sum', axis, dtype, out, keepdims=keepdims,\n\u001b[0;32m-> 2260\u001b[0;31m                           initial=initial, where=where)\n\u001b[0m\u001b[1;32m   2261\u001b[0m \u001b[0;34m\u001b[0m\u001b[0m\n\u001b[1;32m   2262\u001b[0m \u001b[0;34m\u001b[0m\u001b[0m\n",
            "\u001b[0;32m/usr/local/lib/python3.7/dist-packages/numpy/core/fromnumeric.py\u001b[0m in \u001b[0;36m_wrapreduction\u001b[0;34m(obj, ufunc, method, axis, dtype, out, **kwargs)\u001b[0m\n\u001b[1;32m     84\u001b[0m                 \u001b[0;32mreturn\u001b[0m \u001b[0mreduction\u001b[0m\u001b[0;34m(\u001b[0m\u001b[0maxis\u001b[0m\u001b[0;34m=\u001b[0m\u001b[0maxis\u001b[0m\u001b[0;34m,\u001b[0m \u001b[0mout\u001b[0m\u001b[0;34m=\u001b[0m\u001b[0mout\u001b[0m\u001b[0;34m,\u001b[0m \u001b[0;34m**\u001b[0m\u001b[0mpasskwargs\u001b[0m\u001b[0;34m)\u001b[0m\u001b[0;34m\u001b[0m\u001b[0;34m\u001b[0m\u001b[0m\n\u001b[1;32m     85\u001b[0m \u001b[0;34m\u001b[0m\u001b[0m\n\u001b[0;32m---> 86\u001b[0;31m     \u001b[0;32mreturn\u001b[0m \u001b[0mufunc\u001b[0m\u001b[0;34m.\u001b[0m\u001b[0mreduce\u001b[0m\u001b[0;34m(\u001b[0m\u001b[0mobj\u001b[0m\u001b[0;34m,\u001b[0m \u001b[0maxis\u001b[0m\u001b[0;34m,\u001b[0m \u001b[0mdtype\u001b[0m\u001b[0;34m,\u001b[0m \u001b[0mout\u001b[0m\u001b[0;34m,\u001b[0m \u001b[0;34m**\u001b[0m\u001b[0mpasskwargs\u001b[0m\u001b[0;34m)\u001b[0m\u001b[0;34m\u001b[0m\u001b[0;34m\u001b[0m\u001b[0m\n\u001b[0m\u001b[1;32m     87\u001b[0m \u001b[0;34m\u001b[0m\u001b[0m\n\u001b[1;32m     88\u001b[0m \u001b[0;34m\u001b[0m\u001b[0m\n",
            "\u001b[0;31mKeyboardInterrupt\u001b[0m: "
          ]
        }
      ]
    },
    {
      "cell_type": "code",
      "source": [
        "grads@g.reshape(-1, 1)"
      ],
      "metadata": {
        "colab": {
          "base_uri": "https://localhost:8080/"
        },
        "id": "3qQAkjVCwy4Q",
        "outputId": "1af4a694-6d8e-426f-8bc8-aa399f2d5534"
      },
      "execution_count": null,
      "outputs": [
        {
          "output_type": "execute_result",
          "data": {
            "text/plain": [
              "array([[6.00513780e+09],\n",
              "       [6.00340256e+09],\n",
              "       [5.99555986e+09],\n",
              "       [5.99320420e+09],\n",
              "       [6.00620423e+09],\n",
              "       [5.99949628e+09],\n",
              "       [6.00267664e+09],\n",
              "       [5.99861158e+09],\n",
              "       [6.00229279e+09],\n",
              "       [6.00078926e+09],\n",
              "       [6.00217191e+09],\n",
              "       [6.00203986e+09],\n",
              "       [5.98433271e+09],\n",
              "       [6.00589463e+09],\n",
              "       [5.99776331e+09],\n",
              "       [5.99630665e+09],\n",
              "       [5.99649633e+09],\n",
              "       [6.00296794e+09],\n",
              "       [6.00620817e+09],\n",
              "       [5.99847064e+09]])"
            ]
          },
          "metadata": {},
          "execution_count": 17
        }
      ]
    },
    {
      "cell_type": "markdown",
      "source": [
        "### Some new implementation"
      ],
      "metadata": {
        "id": "LpVsbrrSqUFQ"
      }
    },
    {
      "cell_type": "code",
      "source": [
        "def null(A):\n",
        "    from scipy.linalg import null_space\n",
        "    n = null_space(A, rcond=1)\n",
        "    if n.shape[1] < 1:\n",
        "        return False, None\n",
        "    r = np.sqrt(np.sum((A@n)**2, axis=0)/n.shape[1])\n",
        "    if np.min(r) >= 1e-2:\n",
        "        return False, None\n",
        "    return True, n.T[np.argmin(r)].reshape(-1, 1)"
      ],
      "metadata": {
        "id": "2-VWXfN2qV1h"
      },
      "execution_count": null,
      "outputs": []
    },
    {
      "cell_type": "code",
      "source": [
        "grads = 100*np.random.randn(5, 2000)+50"
      ],
      "metadata": {
        "id": "pCWkskdrqYyu"
      },
      "execution_count": null,
      "outputs": []
    },
    {
      "cell_type": "code",
      "source": [
        "from scipy.linalg import null_space\n",
        "A = grads@grads.T\n",
        "n = null_space(A, rcond=1e-1)\n",
        "print(n)"
      ],
      "metadata": {
        "colab": {
          "base_uri": "https://localhost:8080/"
        },
        "id": "AorGL7KKqy0l",
        "outputId": "753541cd-e688-4b82-9a19-f1ffe5ec6b4f"
      },
      "execution_count": null,
      "outputs": [
        {
          "output_type": "stream",
          "name": "stdout",
          "text": [
            "[]\n"
          ]
        }
      ]
    },
    {
      "cell_type": "code",
      "source": [
        "A@n[:,]"
      ],
      "metadata": {
        "colab": {
          "base_uri": "https://localhost:8080/"
        },
        "id": "d86wyJQJqoqS",
        "outputId": "786a865d-6b76-4678-a647-fb7ff804ff92"
      },
      "execution_count": null,
      "outputs": [
        {
          "output_type": "execute_result",
          "data": {
            "text/plain": [
              "array([  3157800.39433858,   9538843.32130915,  -6404295.86456061,\n",
              "       -13290386.02744448,   7239592.15519464])"
            ]
          },
          "metadata": {},
          "execution_count": 21
        }
      ]
    },
    {
      "cell_type": "code",
      "source": [
        "null_space(grads.T, rcond=1e-1)"
      ],
      "metadata": {
        "colab": {
          "base_uri": "https://localhost:8080/"
        },
        "id": "ttwr7JTXrCWE",
        "outputId": "67398bc5-fb85-4b9b-f8aa-c1a1e78d1816"
      },
      "execution_count": null,
      "outputs": [
        {
          "output_type": "execute_result",
          "data": {
            "text/plain": [
              "array([], shape=(5, 0), dtype=float64)"
            ]
          },
          "metadata": {},
          "execution_count": 28
        }
      ]
    },
    {
      "cell_type": "code",
      "source": [
        ""
      ],
      "metadata": {
        "id": "1L3fRO4vsa-o"
      },
      "execution_count": null,
      "outputs": []
    }
  ]
}