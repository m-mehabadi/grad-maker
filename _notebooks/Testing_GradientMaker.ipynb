{
  "nbformat": 4,
  "nbformat_minor": 0,
  "metadata": {
    "colab": {
      "name": "Testing-GradientMaker.ipynb",
      "provenance": [],
      "collapsed_sections": [],
      "include_colab_link": true
    },
    "kernelspec": {
      "name": "python3",
      "display_name": "Python 3"
    },
    "language_info": {
      "name": "python"
    }
  },
  "cells": [
    {
      "cell_type": "markdown",
      "metadata": {
        "id": "view-in-github",
        "colab_type": "text"
      },
      "source": [
        "<a href=\"https://colab.research.google.com/github/m-mehabadi/grad-maker/blob/main/_notebooks/Testing_GradientMaker.ipynb\" target=\"_parent\"><img src=\"https://colab.research.google.com/assets/colab-badge.svg\" alt=\"Open In Colab\"/></a>"
      ]
    },
    {
      "cell_type": "markdown",
      "source": [
        "http://www.cs.cmu.edu/~pradeepr/convexopt/Lecture_Slides/dual-ascent.pdf"
      ],
      "metadata": {
        "id": "BphVoTyaLF5t"
      }
    },
    {
      "cell_type": "code",
      "execution_count": 1,
      "metadata": {
        "id": "WIHWSu69D0a-"
      },
      "outputs": [],
      "source": [
        "import numpy as np\n",
        "# import torch\n",
        "import matplotlib.pyplot as plt"
      ]
    },
    {
      "cell_type": "code",
      "source": [
        "def gradient_maker(grads, rho=1.0):\n",
        "    log = lambda : print(f\"Iter={iter}, Condition={np.min(G.T@G@s)}\")\n",
        "    norm = np.linalg.norm\n",
        "\n",
        "    G = grads.T\n",
        "    A = G.T@G\n",
        "    g_ = np.mean(grads, axis=0)\n",
        "\n",
        "\n",
        "    n, d = grads.shape\n",
        "\n",
        "    #\n",
        "    iter = 1\n",
        "\n",
        "    s = np.random.randn(n)\n",
        "    u = np.zeros(n)\n",
        "    v = np.zeros(1)\n",
        "\n",
        "    while np.min(G.T@G@s) < 0:\n",
        "\n",
        "        # computing the gradient of the Lagrangian w.r.t s, u, v\n",
        "        L_s = n*A@s - n*G.T@g_ + np.sum((A@s<=0.) * (rho*A@s-u) * A, axis=0).T \\\n",
        "                                            + (v+rho*(np.sum(s)-1.))*np.ones(n)\n",
        "        L_u = np.maximum(0., -A@s)\n",
        "        L_v = np.sum(s)-1.\n",
        "\n",
        "        #\n",
        "        beta = 1 / iter\n",
        "        alpha = beta/np.sqrt(norm(L_s)**2+norm(L_u)**2+norm(L_v)**2)\n",
        "\n",
        "        # update rules\n",
        "        s = s - alpha*L_s\n",
        "        u = u + alpha*L_u\n",
        "        v = v + alpha*L_v\n",
        "\n",
        "        #\n",
        "        log()\n",
        "        iter += 1\n"
      ],
      "metadata": {
        "id": "nKyA9Zu8qqPc"
      },
      "execution_count": 6,
      "outputs": []
    },
    {
      "cell_type": "markdown",
      "source": [
        "### Testcases\n",
        "\n",
        "Now let's write some test cases to make sure everything is working correctly\n"
      ],
      "metadata": {
        "id": "PWTyzUQQ5zrR"
      }
    },
    {
      "cell_type": "code",
      "source": [
        "grads = 100*np.random.randn(2, 200000) - 10"
      ],
      "metadata": {
        "id": "C1ZjLcuk-8WO"
      },
      "execution_count": 9,
      "outputs": []
    },
    {
      "cell_type": "code",
      "source": [
        "g = gradient_maker(grads)"
      ],
      "metadata": {
        "colab": {
          "base_uri": "https://localhost:8080/"
        },
        "id": "grZhb7CjuiNT",
        "outputId": "f2f17633-fe0f-4731-caea-eb6d11b4b2f1"
      },
      "execution_count": 10,
      "outputs": [
        {
          "output_type": "stream",
          "name": "stdout",
          "text": [
            "Iter=1, Condition=-2645027976.53294\n",
            "Iter=2, Condition=-1705080937.5386548\n",
            "Iter=3, Condition=-1077435074.7476902\n",
            "Iter=4, Condition=-605898255.0942209\n",
            "Iter=5, Condition=-227814267.44487447\n",
            "Iter=6, Condition=36397035.68970649\n"
          ]
        }
      ]
    },
    {
      "cell_type": "code",
      "source": [
        ""
      ],
      "metadata": {
        "id": "UKQozfaEawOG"
      },
      "execution_count": null,
      "outputs": []
    }
  ]
}