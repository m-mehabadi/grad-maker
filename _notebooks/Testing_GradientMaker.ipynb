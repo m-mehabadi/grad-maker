{
  "nbformat": 4,
  "nbformat_minor": 0,
  "metadata": {
    "colab": {
      "name": "Testing-GradientMaker.ipynb",
      "provenance": [],
      "collapsed_sections": [],
      "include_colab_link": true
    },
    "kernelspec": {
      "name": "python3",
      "display_name": "Python 3"
    },
    "language_info": {
      "name": "python"
    }
  },
  "cells": [
    {
      "cell_type": "markdown",
      "metadata": {
        "id": "view-in-github",
        "colab_type": "text"
      },
      "source": [
        "<a href=\"https://colab.research.google.com/github/m-mehabadi/grad-maker/blob/main/_notebooks/Testing_GradientMaker.ipynb\" target=\"_parent\"><img src=\"https://colab.research.google.com/assets/colab-badge.svg\" alt=\"Open In Colab\"/></a>"
      ]
    },
    {
      "cell_type": "markdown",
      "source": [
        "http://www.cs.cmu.edu/~pradeepr/convexopt/Lecture_Slides/dual-ascent.pdf\n",
        "\n",
        "https://web.stanford.edu/class/ee364b/lectures/primal_dual_subgrad_slides.pdf\n",
        "\n",
        "https://www.cvxpy.org/examples/basic/quadratic_program.html"
      ],
      "metadata": {
        "id": "BphVoTyaLF5t"
      }
    },
    {
      "cell_type": "code",
      "execution_count": null,
      "metadata": {
        "id": "WIHWSu69D0a-"
      },
      "outputs": [],
      "source": [
        "from tqdm import tqdm\n",
        "import numpy as np\n",
        "# import torch\n",
        "import matplotlib.pyplot as plt"
      ]
    },
    {
      "cell_type": "code",
      "source": [
        "# !pip install cvxpy"
      ],
      "metadata": {
        "id": "8l2_-yq5hrbM"
      },
      "execution_count": null,
      "outputs": []
    },
    {
      "cell_type": "code",
      "source": [
        "def gradient_maker(grads):\n",
        "    \"\"\"\n",
        "    - make sure to install `cvxpy`. you can use: `pip install cvxpy`\n",
        "    - `grads` in a numpy's `ndarray`\n",
        "    - `grads.shape == (n, d)`, where `n` is the number of domains and `d` is the dimension\n",
        "    - this method will return a tuple of size two, where:\n",
        "        * the first one is the generalized vector to use with size `d`\n",
        "        * the second one is the weight vector of the linear combination\n",
        "    - finally, use g, _ = gradient_maker(grads), if you have no need to use the 2nd return\n",
        "    \"\"\"\n",
        "\n",
        "    import cvxpy as cp\n",
        "    from numpy import linalg as la\n",
        "\n",
        "    def nearestPD(A):\n",
        "\n",
        "        B = (A + A.T) / 2\n",
        "        _, s, V = la.svd(B)\n",
        "\n",
        "        H = np.dot(V.T, np.dot(np.diag(s), V))\n",
        "\n",
        "        A2 = (B + H) / 2\n",
        "\n",
        "        A3 = (A2 + A2.T) / 2\n",
        "\n",
        "        if isPD(A3):\n",
        "            return A3\n",
        "\n",
        "        spacing = np.spacing(la.norm(A))\n",
        "        \n",
        "        I = np.eye(A.shape[0])\n",
        "        k = 1\n",
        "        while not isPD(A3):\n",
        "            mineig = np.min(np.real(la.eigvals(A3)))\n",
        "            A3 += I * (-mineig * k**2 + spacing)\n",
        "            k += 1\n",
        "\n",
        "        return A3\n",
        "\n",
        "\n",
        "    def isPD(B):\n",
        "        try:\n",
        "            _ = la.cholesky(B)\n",
        "            return True\n",
        "        except la.LinAlgError:\n",
        "            return False\n",
        "    \n",
        "    #\n",
        "    n, d = grads.shape\n",
        "    G = grads.T\n",
        "    g_ = np.mean(grads, axis=0).reshape(-1, 1)\n",
        "\n",
        "    #\n",
        "    P = nearestPD(n*G.T@G)\n",
        "    q = -n*G.T@g_\n",
        "    F = -G.T@G\n",
        "    h = np.zeros(n, dtype=np.float32)\n",
        "    A = np.ones(n, dtype=np.float32).reshape(1, -1)\n",
        "    b = np.ones((1, 1), dtype=np.float32)\n",
        "\n",
        "    # define opt variable\n",
        "    x = cp.Variable(n)\n",
        "    prob = cp.Problem(cp.Minimize((1/2)*cp.quad_form(x, P) + q.T @ x),\n",
        "                    [F @ x <= h,\n",
        "                    A @ x == b])\n",
        "    #\n",
        "    prob.solve()\n",
        "    s = np.array(x.value)\n",
        "\n",
        "    return G@s, s"
      ],
      "metadata": {
        "id": "wPrAgDbWh1Zj"
      },
      "execution_count": null,
      "outputs": []
    },
    {
      "cell_type": "markdown",
      "source": [
        "### Testcases\n",
        "\n",
        "Now let's write some test cases to make sure everything is working correctly\n"
      ],
      "metadata": {
        "id": "PWTyzUQQ5zrR"
      }
    },
    {
      "cell_type": "code",
      "source": [
        "# # grads = 0.0000000000001*np.random.randn(20, 23) - 1000\n",
        "# grads = np.array([[1., -1.], [-1., 1.]])"
      ],
      "metadata": {
        "id": "C1ZjLcuk-8WO"
      },
      "execution_count": null,
      "outputs": []
    },
    {
      "cell_type": "code",
      "source": [
        "# g, s = gradient_maker(grads)\n",
        "\n",
        "# print(f\"the minimum inner product between the found `g` and domain gradients is: {np.min(grads@g)}\")\n",
        "# print(f\"let's check the sum of elements of `s`, it should be one: {np.sum(s)}\")"
      ],
      "metadata": {
        "id": "wcdQRQHpnJtb"
      },
      "execution_count": null,
      "outputs": []
    },
    {
      "cell_type": "code",
      "source": [
        "min_inners = []\n",
        "sum_s = []\n",
        "for i in tqdm(range(1000)):\n",
        "    d = np.random.randint(1000000)\n",
        "    # n = int(d*np.random.uniform())\n",
        "    n = 30\n",
        "    n = d-1 if n == 0 else n\n",
        "    sigma = (2.*np.random.uniform(size=(n, d))-1.)*np.random.randint(100, size=(n, d))\n",
        "    mean = (2.*np.random.uniform(size=(n, d))-1.)*np.random.randint(100, size=(n, d))\n",
        "    grads = sigma * np.random.randn(n, d) + mean\n",
        "    # print(grads.shape)\n",
        "    g, s = gradient_maker(grads)\n",
        "    min_inners.append(np.min(grads@g))\n",
        "    sum_s.append(np.sum(s))"
      ],
      "metadata": {
        "colab": {
          "base_uri": "https://localhost:8080/"
        },
        "id": "aIToqIZ6Twb2",
        "outputId": "e3aa530c-edf3-4cfa-f6c5-9c223af5c437"
      },
      "execution_count": null,
      "outputs": [
        {
          "output_type": "stream",
          "name": "stderr",
          "text": [
            "100%|██████████| 1000/1000 [29:07<00:00,  1.75s/it]\n"
          ]
        }
      ]
    },
    {
      "cell_type": "code",
      "source": [
        "np.min(min_inners)"
      ],
      "metadata": {
        "id": "aguROIluVx0c",
        "colab": {
          "base_uri": "https://localhost:8080/"
        },
        "outputId": "eff8251c-1630-497f-d403-5bbbc7f9b3ba"
      },
      "execution_count": null,
      "outputs": [
        {
          "output_type": "execute_result",
          "data": {
            "text/plain": [
              "45197.86524377046"
            ]
          },
          "metadata": {},
          "execution_count": 13
        }
      ]
    },
    {
      "cell_type": "code",
      "source": [
        "np.max(min_inners)"
      ],
      "metadata": {
        "colab": {
          "base_uri": "https://localhost:8080/"
        },
        "id": "cVsJVsYlfkHr",
        "outputId": "5cb7f406-4c37-4d8b-878e-0ed83e8d70b9"
      },
      "execution_count": null,
      "outputs": [
        {
          "output_type": "execute_result",
          "data": {
            "text/plain": [
              "72100464.4672446"
            ]
          },
          "metadata": {},
          "execution_count": 14
        }
      ]
    },
    {
      "cell_type": "code",
      "source": [
        "np.mean(min_inners)"
      ],
      "metadata": {
        "colab": {
          "base_uri": "https://localhost:8080/"
        },
        "id": "ZIhkpEuxfl8a",
        "outputId": "fad965c6-2d2f-417a-ff73-a2b0dcfb0b63"
      },
      "execution_count": null,
      "outputs": [
        {
          "output_type": "execute_result",
          "data": {
            "text/plain": [
              "35588896.87571282"
            ]
          },
          "metadata": {},
          "execution_count": 15
        }
      ]
    },
    {
      "cell_type": "code",
      "source": [
        "np.std(min_inners)"
      ],
      "metadata": {
        "colab": {
          "base_uri": "https://localhost:8080/"
        },
        "id": "A7NSySQVfpEk",
        "outputId": "ec27a179-f776-4698-a673-5d94bd6f0786"
      },
      "execution_count": null,
      "outputs": [
        {
          "output_type": "execute_result",
          "data": {
            "text/plain": [
              "20371398.776421685"
            ]
          },
          "metadata": {},
          "execution_count": 16
        }
      ]
    },
    {
      "cell_type": "code",
      "source": [
        "np.min(sum_s)"
      ],
      "metadata": {
        "colab": {
          "base_uri": "https://localhost:8080/"
        },
        "id": "Hj6AkXJPfqB3",
        "outputId": "e65d7952-ae8d-4821-99e0-8cd42e65b3ae"
      },
      "execution_count": null,
      "outputs": [
        {
          "output_type": "execute_result",
          "data": {
            "text/plain": [
              "0.9999999999999993"
            ]
          },
          "metadata": {},
          "execution_count": 17
        }
      ]
    },
    {
      "cell_type": "code",
      "source": [
        "np.max(sum_s)"
      ],
      "metadata": {
        "colab": {
          "base_uri": "https://localhost:8080/"
        },
        "id": "MvvlmJrdfxvf",
        "outputId": "61cae8a0-a358-4f53-86f2-eb2762c6ee9d"
      },
      "execution_count": null,
      "outputs": [
        {
          "output_type": "execute_result",
          "data": {
            "text/plain": [
              "1.0000000000000007"
            ]
          },
          "metadata": {},
          "execution_count": 18
        }
      ]
    },
    {
      "cell_type": "code",
      "source": [
        "np.mean(sum_s)"
      ],
      "metadata": {
        "colab": {
          "base_uri": "https://localhost:8080/"
        },
        "id": "hHQREDAufy8P",
        "outputId": "574f4d5f-ee64-4f34-f4de-a0b830da37d0"
      },
      "execution_count": null,
      "outputs": [
        {
          "output_type": "execute_result",
          "data": {
            "text/plain": [
              "1.0"
            ]
          },
          "metadata": {},
          "execution_count": 21
        }
      ]
    },
    {
      "cell_type": "code",
      "source": [
        "np.std(sum_s)"
      ],
      "metadata": {
        "colab": {
          "base_uri": "https://localhost:8080/"
        },
        "id": "c-TqtS1qf0DL",
        "outputId": "d7016d1a-f958-40d5-c6c2-920d144b4a62"
      },
      "execution_count": null,
      "outputs": [
        {
          "output_type": "execute_result",
          "data": {
            "text/plain": [
              "2.1573778854906178e-16"
            ]
          },
          "metadata": {},
          "execution_count": 22
        }
      ]
    },
    {
      "cell_type": "code",
      "source": [
        ""
      ],
      "metadata": {
        "id": "sq-RGmpNf1Uz"
      },
      "execution_count": null,
      "outputs": []
    }
  ]
}