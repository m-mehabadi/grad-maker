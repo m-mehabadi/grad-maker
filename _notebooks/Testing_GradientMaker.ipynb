{
  "nbformat": 4,
  "nbformat_minor": 0,
  "metadata": {
    "colab": {
      "name": "Testing-GradientMaker.ipynb",
      "provenance": [],
      "collapsed_sections": [],
      "include_colab_link": true
    },
    "kernelspec": {
      "name": "python3",
      "display_name": "Python 3"
    },
    "language_info": {
      "name": "python"
    }
  },
  "cells": [
    {
      "cell_type": "markdown",
      "metadata": {
        "id": "view-in-github",
        "colab_type": "text"
      },
      "source": [
        "<a href=\"https://colab.research.google.com/github/m-mehabadi/grad-maker/blob/main/_notebooks/Testing_GradientMaker.ipynb\" target=\"_parent\"><img src=\"https://colab.research.google.com/assets/colab-badge.svg\" alt=\"Open In Colab\"/></a>"
      ]
    },
    {
      "cell_type": "markdown",
      "source": [
        "http://www.cs.cmu.edu/~pradeepr/convexopt/Lecture_Slides/dual-ascent.pdf\n",
        "\n",
        "https://web.stanford.edu/class/ee364b/lectures/primal_dual_subgrad_slides.pdf\n",
        "\n",
        "https://www.cvxpy.org/examples/basic/quadratic_program.html"
      ],
      "metadata": {
        "id": "BphVoTyaLF5t"
      }
    },
    {
      "cell_type": "code",
      "execution_count": 47,
      "metadata": {
        "id": "WIHWSu69D0a-"
      },
      "outputs": [],
      "source": [
        "from tqdm import tqdm\n",
        "import numpy as np\n",
        "import matplotlib.pyplot as plt"
      ]
    },
    {
      "cell_type": "code",
      "source": [
        "def gradient_maker(grads, solver=None):\n",
        "    \"\"\"\n",
        "    - make sure to install `cvxpy`. you can use: `pip install cvxpy`\n",
        "    - `grads` in a numpy's `ndarray`\n",
        "    - `grads.shape == (n, d)`, where `n` is the number of domains and `d` is the dimension\n",
        "    - this method will return a tuple of size two, where:\n",
        "        * the first one is the generalized vector to use with size `d`\n",
        "        * the second one is the weight vector of the linear combination\n",
        "    - finally, use g, _ = gradient_maker(grads), if you have no need to use the 2nd return\n",
        "    \"\"\"\n",
        "\n",
        "    import cvxpy as cp\n",
        "    from numpy import linalg as la\n",
        "\n",
        "    def nearestPD(A):\n",
        "\n",
        "        B = (A + A.T) / 2\n",
        "        _, s, V = la.svd(B)\n",
        "\n",
        "        H = np.dot(V.T, np.dot(np.diag(s), V))\n",
        "\n",
        "        A2 = (B + H) / 2\n",
        "\n",
        "        A3 = (A2 + A2.T) / 2\n",
        "\n",
        "        if isPD(A3):\n",
        "            return A3\n",
        "\n",
        "        spacing = np.spacing(la.norm(A))\n",
        "        \n",
        "        I = np.eye(A.shape[0])\n",
        "        k = 1\n",
        "        while not isPD(A3):\n",
        "            mineig = np.min(np.real(la.eigvals(A3)))\n",
        "            A3 += I * (-mineig * k**2 + spacing)\n",
        "            k += 1\n",
        "\n",
        "        return A3\n",
        "\n",
        "\n",
        "    def isPD(B):\n",
        "        try:\n",
        "            _ = la.cholesky(B)\n",
        "            return True\n",
        "        except la.LinAlgError:\n",
        "            return False\n",
        "\n",
        "    #\n",
        "    G = grads.T\n",
        "    n, d = grads.shape\n",
        "    g_ = np.mean(grads, axis=0).reshape(-1, 1)\n",
        "\n",
        "    #\n",
        "    P = nearestPD(n*G.T@G)\n",
        "    q = -n*G.T@g_\n",
        "    F = -G.T@G\n",
        "    h = np.zeros(n, dtype=np.float32)\n",
        "    A = np.ones(n, dtype=np.float32).reshape(1, -1)\n",
        "    b = np.ones((1, 1), dtype=np.float32)\n",
        "\n",
        "    # define opt variable\n",
        "    x = cp.Variable(n)\n",
        "    prob = cp.Problem(cp.Minimize((1/2)*cp.quad_form(x, P) + q.T @ x),\n",
        "                    [F @ x <= h,\n",
        "                    A @ x == b])\n",
        "    #\n",
        "    if solver is None:\n",
        "        return cp.OSQP\n",
        "    prob.solve(solver=solver, verbose=False)\n",
        "    s = np.array(x.value)\n",
        "\n",
        "    return G@s, s\n",
        "\n",
        "def gm_search(grads, return_first=True):\n",
        "    import gc\n",
        "    import cvxpy as cp\n",
        "    from numpy.linalg import norm\n",
        "\n",
        "    def gc_collect(*vars):\n",
        "        for var in vars:\n",
        "            del var\n",
        "        gc.collect()\n",
        "    \n",
        "    def get_solver(solver):\n",
        "        return eval('cp.'+solver)\n",
        "    \n",
        "    def gm_search_in_scales(grads, solver=None):\n",
        "        min_inner = -float('inf')\n",
        "        g = None\n",
        "        scales = range(20)\n",
        "        for scale in scales:\n",
        "            try:\n",
        "                _scale = 1e1**float(scale)\n",
        "                dgr = np.copy(grads)\n",
        "                dgr /= norm(dgr, axis=1).reshape(-1, 1)\n",
        "                dgr *= _scale\n",
        "\n",
        "                g_scaled, _ = gradient_maker(dgr, solver)\n",
        "\n",
        "                # we need to scale it back\n",
        "                g_scaled_back = np.mean(norm(grads, axis=1))/norm(g_scaled) * g_scaled\n",
        "\n",
        "                # then, we will replace the scaled back g with g if min_inner is increased\n",
        "                if np.min(grads@g_scaled_back) >= min_inner:\n",
        "                    g = np.copy(g_scaled_back)\n",
        "                    min_inner = np.min(grads@g_scaled_back)\n",
        "                \n",
        "                #\n",
        "                print(\"----------------\")\n",
        "                print(f\"the minimum inner product found with scaling {_scale} is {np.min(dgr@g_scaled)}\")\n",
        "                print(f\"the minimum inner product found without scaling is {np.min(grads@g_scaled_back)}\")\n",
        "\n",
        "                #\n",
        "                gc_collect(_scale, dgr, g_scaled, g_scaled_back)\n",
        "            except:\n",
        "                break\n",
        "        return g\n",
        "    \n",
        "    # excluding: 'SCIP'\n",
        "    qp_solvers = ['OSQP','CPLEX','NAG','ECOS','GUROBI','MOSEK','CVXOPT','SCS','XPRESS']\n",
        "    \n",
        "    #\n",
        "    min_inner = -float('inf')\n",
        "    g = None\n",
        "\n",
        "    for solver in qp_solvers:\n",
        "        print()\n",
        "        print(f\"############## Solver {solver} ##############\")\n",
        "\n",
        "        _g = gm_search_in_scales(grads, get_solver(solver))\n",
        "\n",
        "        if _g is None:\n",
        "            continue\n",
        "        \n",
        "        print()\n",
        "        print(f\"best result with solver = {solver} is {np.min(grads@_g)}\")\n",
        "\n",
        "        if return_first and np.min(grads@_g) > 0. :\n",
        "            g = np.copy(_g)\n",
        "            break\n",
        "\n",
        "        if np.min(grads@_g) >= min_inner:\n",
        "            g = np.copy(_g)\n",
        "            min_inner = np.min(grads@_g)\n",
        "        \n",
        "        #\n",
        "        gc_collect(_g)\n",
        "    \n",
        "    if g is None:\n",
        "        print(\"FOUND NOTHING!!!!\")\n",
        "        g = np.mean(grads, axis=0)\n",
        "\n",
        "    print()\n",
        "    print(\"============================================================\")\n",
        "    print(f\"final result is {np.min(grads@g)}\")\n",
        "\n",
        "    return g"
      ],
      "metadata": {
        "id": "wPrAgDbWh1Zj"
      },
      "execution_count": 68,
      "outputs": []
    },
    {
      "cell_type": "markdown",
      "source": [
        "### Testcases\n",
        "\n",
        "Now let's write some test cases to make sure everything is working correctly\n"
      ],
      "metadata": {
        "id": "PWTyzUQQ5zrR"
      }
    },
    {
      "cell_type": "code",
      "source": [
        "grads = np.random.randn(20, 23)"
      ],
      "metadata": {
        "id": "Gf2DEMZXd0iQ"
      },
      "execution_count": 50,
      "outputs": []
    },
    {
      "cell_type": "code",
      "source": [
        "g = gm_search(grads)"
      ],
      "metadata": {
        "id": "wcdQRQHpnJtb",
        "colab": {
          "base_uri": "https://localhost:8080/"
        },
        "outputId": "40b20ecf-6d4b-4ed8-f711-ceb250780af8"
      },
      "execution_count": 69,
      "outputs": [
        {
          "output_type": "stream",
          "name": "stdout",
          "text": [
            "\n",
            "############## Solver OSQP ##############\n",
            "----------------\n",
            "the minimum inner product found with scaling 1.0 is 3.469446951953614e-18\n",
            "the minimum inner product found without scaling is 4.440892098500626e-16\n",
            "----------------\n",
            "the minimum inner product found with scaling 10.0 is -1.1102230246251565e-16\n",
            "the minimum inner product found without scaling is 9.992007221626409e-16\n",
            "----------------\n",
            "the minimum inner product found with scaling 100.0 is -9.947598300641403e-14\n",
            "the minimum inner product found without scaling is -1.2212453270876722e-15\n",
            "----------------\n",
            "the minimum inner product found with scaling 1000.0 is -7.275957614183426e-12\n",
            "the minimum inner product found without scaling is -1.4432899320127035e-15\n",
            "----------------\n",
            "the minimum inner product found with scaling 10000.0 is -16.94587741838768\n",
            "the minimum inner product found without scaling is -1.4459784065223857e-05\n",
            "----------------\n",
            "the minimum inner product found with scaling 100000.0 is -1295.5460900887847\n",
            "the minimum inner product found without scaling is -1.406235634771047e-05\n",
            "----------------\n",
            "the minimum inner product found with scaling 1000000.0 is 40369.35326004028\n",
            "the minimum inner product found without scaling is 3.444686551778986e-06\n",
            "----------------\n",
            "the minimum inner product found with scaling 10000000.0 is 461394.423828125\n",
            "the minimum inner product found without scaling is 3.937099175566061e-07\n",
            "----------------\n",
            "the minimum inner product found with scaling 100000000.0 is 546545.25\n",
            "the minimum inner product found without scaling is 4.663708974561587e-09\n",
            "\n",
            "best result with solver = OSQP is 3.444686551778986e-06\n",
            "\n",
            "============================================================\n",
            "final result is 3.444686551778986e-06\n"
          ]
        }
      ]
    }
  ]
}