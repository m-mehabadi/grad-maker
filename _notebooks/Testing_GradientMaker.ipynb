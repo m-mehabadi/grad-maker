{
  "nbformat": 4,
  "nbformat_minor": 0,
  "metadata": {
    "colab": {
      "name": "Testing-GradientMaker.ipynb",
      "provenance": [],
      "collapsed_sections": [],
      "include_colab_link": true
    },
    "kernelspec": {
      "name": "python3",
      "display_name": "Python 3"
    },
    "language_info": {
      "name": "python"
    }
  },
  "cells": [
    {
      "cell_type": "markdown",
      "metadata": {
        "id": "view-in-github",
        "colab_type": "text"
      },
      "source": [
        "<a href=\"https://colab.research.google.com/github/m-mehabadi/grad-maker/blob/main/_notebooks/Testing_GradientMaker.ipynb\" target=\"_parent\"><img src=\"https://colab.research.google.com/assets/colab-badge.svg\" alt=\"Open In Colab\"/></a>"
      ]
    },
    {
      "cell_type": "markdown",
      "source": [
        "http://www.cs.cmu.edu/~pradeepr/convexopt/Lecture_Slides/dual-ascent.pdf"
      ],
      "metadata": {
        "id": "BphVoTyaLF5t"
      }
    },
    {
      "cell_type": "code",
      "execution_count": 7,
      "metadata": {
        "id": "WIHWSu69D0a-"
      },
      "outputs": [],
      "source": [
        "import numpy as np\n",
        "# import torch\n",
        "import matplotlib.pyplot as plt"
      ]
    },
    {
      "cell_type": "code",
      "source": [
        "# dim=2000000\n",
        "# a = 100*np.random.randn(4, dim) + 1123\n",
        "# g = np.random.randn(dim, 1)\n",
        "# b = (a-np.mean(a, axis=1)[:, np.newaxis])/np.std(a, axis=1)[:, np.newaxis]\n",
        "# np.mean(b@g/dim)"
      ],
      "metadata": {
        "id": "STG3F-Li43VS"
      },
      "execution_count": 8,
      "outputs": []
    },
    {
      "cell_type": "code",
      "source": [
        "def gradient_maker(domain_grads, epsilon=0.5, alpha=0.01):\n",
        "    # def log():\n",
        "    #     # print(\"||||||||||||||||||||||||||||||||||||||||||||||||||||||||||||||||||||||||||||\")\n",
        "    #     # print(f\"u is {u_}\")\n",
        "    #     # print(f\"g is {g}\")\n",
        "    #     g_bar = np.sum(g)/dim\n",
        "    #     # E = g_bar.item()*dim*dgr_bar\n",
        "    #     inner = dgr@g/dim\n",
        "    #     print(f\"Iter={iter}: g_bar={g_bar}, Inner=({inner[0]}, {inner[1]}), Condition={np.min(dgr@g/dim)}\")\n",
        "\n",
        "    dgr = domain_grads\n",
        "    number_of_domains, dim = dgr.shape\n",
        "\n",
        "    #\n",
        "    _mean = np.mean(dgr, axis=1)[:, np.newaxis]\n",
        "    _std = np.std(dgr, axis=1)[:, np.newaxis]\n",
        "    dgr = (dgr-_mean)/_std\n",
        "    \n",
        "    #\n",
        "    g = np.random.randn(dim)\n",
        "    u_ = np.zeros(number_of_domains)\n",
        "    \n",
        "    iter = 0\n",
        "    while not np.min(dgr@g/dim) >= epsilon:\n",
        "        if iter >= 100:\n",
        "            break\n",
        "        \n",
        "        # log()\n",
        "\n",
        "        u_ = u_ + alpha*(1.01*epsilon - (dgr@g)/dim)\n",
        "        # g = (1./number_of_domains)*np.sum(((1+(u_>=0)*u_).reshape(number_of_domains, 1))*dgr, axis=0)\n",
        "        g = (1./number_of_domains)*np.sum(((1+u_).reshape(number_of_domains, 1))*dgr, axis=0)\n",
        "        iter += 1\n",
        "    # log()\n",
        "    return g"
      ],
      "metadata": {
        "id": "8-FeagOWwo97"
      },
      "execution_count": 27,
      "outputs": []
    },
    {
      "cell_type": "markdown",
      "source": [
        "### Testcases\n",
        "\n",
        "Now let's write some test cases to make sure everything is working correctly\n"
      ],
      "metadata": {
        "id": "PWTyzUQQ5zrR"
      }
    },
    {
      "cell_type": "code",
      "source": [
        "epsilon=10\n",
        "alpha=1"
      ],
      "metadata": {
        "id": "FpmeOVAY7GuJ"
      },
      "execution_count": 28,
      "outputs": []
    },
    {
      "cell_type": "code",
      "source": [
        "grads = 100*np.random.randn(2, 20000000) + 10"
      ],
      "metadata": {
        "id": "C1ZjLcuk-8WO"
      },
      "execution_count": 29,
      "outputs": []
    },
    {
      "cell_type": "code",
      "source": [
        "g = gradient_maker(grads, epsilon=epsilon, alpha=alpha)"
      ],
      "metadata": {
        "colab": {
          "base_uri": "https://localhost:8080/"
        },
        "id": "grZhb7CjuiNT",
        "outputId": "61ed67eb-a0b8-4855-b05a-eceee4c81a94"
      },
      "execution_count": 30,
      "outputs": [
        {
          "output_type": "stream",
          "name": "stdout",
          "text": [
            "Iter=0: g_bar=-0.00024722221265851776, Inner=(-0.00015261710673284426, 0.0002705310099066074), Condition=-0.00015261710673284426\n",
            "Iter=1: g_bar=3.28111582348356e-16, Inner=(5.549927671477221, 5.549716091752512), Condition=5.549716091752512\n",
            "Iter=2: g_bar=4.636376615962945e-16, Inner=(7.824902902641353, 7.8247971156122205), Condition=7.8247971156122205\n",
            "Iter=3: g_bar=5.290587523631984e-16, Inner=(8.962420983956042, 8.962368091858163), Condition=8.962368091858163\n",
            "Iter=4: g_bar=5.643130407406716e-16, Inner=(9.531195257887791, 9.531168812547135), Condition=9.531168812547135\n",
            "Iter=5: g_bar=5.816559678351041e-16, Inner=(9.81559001169477, 9.815576789378488), Condition=9.815576789378488\n",
            "Iter=6: g_bar=5.896538368688198e-16, Inner=(9.957791197120835, 9.957784586139852), Condition=9.957784586139852\n",
            "Iter=7: g_bar=5.950369086349383e-16, Inner=(10.028893694146158, 10.028890388744147), Condition=10.028890388744147\n"
          ]
        }
      ]
    },
    {
      "cell_type": "code",
      "source": [
        "mean_ = np.mean(grads, axis=1)[:, np.newaxis]\n",
        "std_ = np.std(grads, axis=1)[:, np.newaxis]\n",
        "eps = epsilon\n",
        "d = grads.shape[1]\n",
        "g_bar = np.mean(g)"
      ],
      "metadata": {
        "id": "_3vbVkD5sgiR"
      },
      "execution_count": 19,
      "outputs": []
    },
    {
      "cell_type": "code",
      "source": [
        "eps*d*std_+d*g_bar*mean_"
      ],
      "metadata": {
        "colab": {
          "base_uri": "https://localhost:8080/"
        },
        "id": "ZBBgLM1vuHwi",
        "outputId": "ebe355d1-37f4-4bf7-f38d-76a5c18d213e"
      },
      "execution_count": 20,
      "outputs": [
        {
          "output_type": "execute_result",
          "data": {
            "text/plain": [
              "array([[2.00002553e+10],\n",
              "       [2.00025452e+10]])"
            ]
          },
          "metadata": {},
          "execution_count": 20
        }
      ]
    },
    {
      "cell_type": "code",
      "source": [
        "grads@g"
      ],
      "metadata": {
        "colab": {
          "base_uri": "https://localhost:8080/"
        },
        "id": "5eXXMNsJuXRx",
        "outputId": "4376d957-f3b5-494d-d321-25c2b3e083b7"
      },
      "execution_count": 21,
      "outputs": [
        {
          "output_type": "execute_result",
          "data": {
            "text/plain": [
              "array([1.98481177e+10, 1.98503857e+10])"
            ]
          },
          "metadata": {},
          "execution_count": 21
        }
      ]
    }
  ]
}