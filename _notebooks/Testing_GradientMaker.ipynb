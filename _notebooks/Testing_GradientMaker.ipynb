{
  "nbformat": 4,
  "nbformat_minor": 0,
  "metadata": {
    "colab": {
      "name": "Testing-GradientMaker.ipynb",
      "provenance": [],
      "collapsed_sections": [],
      "include_colab_link": true
    },
    "kernelspec": {
      "name": "python3",
      "display_name": "Python 3"
    },
    "language_info": {
      "name": "python"
    }
  },
  "cells": [
    {
      "cell_type": "markdown",
      "metadata": {
        "id": "view-in-github",
        "colab_type": "text"
      },
      "source": [
        "<a href=\"https://colab.research.google.com/github/m-mehabadi/grad-maker/blob/main/_notebooks/Testing_GradientMaker.ipynb\" target=\"_parent\"><img src=\"https://colab.research.google.com/assets/colab-badge.svg\" alt=\"Open In Colab\"/></a>"
      ]
    },
    {
      "cell_type": "markdown",
      "source": [
        "http://www.cs.cmu.edu/~pradeepr/convexopt/Lecture_Slides/dual-ascent.pdf\n",
        "\n",
        "https://web.stanford.edu/class/ee364b/lectures/primal_dual_subgrad_slides.pdf\n",
        "\n",
        "https://www.cvxpy.org/examples/basic/quadratic_program.html"
      ],
      "metadata": {
        "id": "BphVoTyaLF5t"
      }
    },
    {
      "cell_type": "code",
      "execution_count": 1,
      "metadata": {
        "id": "WIHWSu69D0a-"
      },
      "outputs": [],
      "source": [
        "from tqdm import tqdm\n",
        "import numpy as np\n",
        "import matplotlib.pyplot as plt\n",
        "import cvxpy as cp"
      ]
    },
    {
      "cell_type": "code",
      "source": [
        "def gradient_maker(grads, solver=None):\n",
        "    \"\"\"\n",
        "    - make sure to install `cvxpy`. you can use: `pip install cvxpy`\n",
        "    - `grads` in a numpy's `ndarray`\n",
        "    - `grads.shape == (n, d)`, where `n` is the number of domains and `d` is the dimension\n",
        "    - this method will return a tuple of size two, where:\n",
        "        * the first one is the generalized vector to use with size `d`\n",
        "        * the second one is the weight vector of the linear combination\n",
        "    - finally, use g, _ = gradient_maker(grads), if you have no need to use the 2nd return\n",
        "    \"\"\"\n",
        "\n",
        "    import cvxpy as cp\n",
        "    from numpy import linalg as la\n",
        "\n",
        "    def nearestPD(A):\n",
        "\n",
        "        B = (A + A.T) / 2\n",
        "        _, s, V = la.svd(B)\n",
        "\n",
        "        H = np.dot(V.T, np.dot(np.diag(s), V))\n",
        "\n",
        "        A2 = (B + H) / 2\n",
        "\n",
        "        A3 = (A2 + A2.T) / 2\n",
        "\n",
        "        if isPD(A3):\n",
        "            return A3\n",
        "\n",
        "        spacing = np.spacing(la.norm(A))\n",
        "        \n",
        "        I = np.eye(A.shape[0])\n",
        "        k = 1\n",
        "        while not isPD(A3):\n",
        "            mineig = np.min(np.real(la.eigvals(A3)))\n",
        "            A3 += I * (-mineig * k**2 + spacing)\n",
        "            k += 1\n",
        "\n",
        "        return A3\n",
        "\n",
        "\n",
        "    def isPD(B):\n",
        "        try:\n",
        "            _ = la.cholesky(B)\n",
        "            return True\n",
        "        except la.LinAlgError:\n",
        "            return False\n",
        "\n",
        "    #\n",
        "    G = grads.T\n",
        "    n, d = grads.shape\n",
        "    g_ = np.mean(grads, axis=0).reshape(-1, 1)\n",
        "\n",
        "    #\n",
        "    P = nearestPD(n*G.T@G)\n",
        "    q = -n*G.T@g_\n",
        "    F = -G.T@G\n",
        "    h = np.zeros(n, dtype=np.float32)\n",
        "    A = np.ones(n, dtype=np.float32).reshape(1, -1)\n",
        "    b = np.ones((1, 1), dtype=np.float32)\n",
        "\n",
        "    # define opt variable\n",
        "    x = cp.Variable(n)\n",
        "    prob = cp.Problem(cp.Minimize((1/2)*cp.quad_form(x, P) + q.T @ x),\n",
        "                    [F @ x <= h,\n",
        "                    A @ x == b])\n",
        "    #\n",
        "    if solver is None:\n",
        "        solver = cp.OSQP\n",
        "    prob.solve(solver=solver, verbose=False)\n",
        "    s = np.array(x.value)\n",
        "\n",
        "    return G@s, s"
      ],
      "metadata": {
        "id": "wPrAgDbWh1Zj"
      },
      "execution_count": 2,
      "outputs": []
    },
    {
      "cell_type": "markdown",
      "source": [
        "### Testcases\n",
        "\n",
        "Now let's write some test cases to make sure everything is working correctly\n"
      ],
      "metadata": {
        "id": "PWTyzUQQ5zrR"
      }
    },
    {
      "cell_type": "code",
      "source": [
        "grads = (1000*(np.random.randn(20, 23)+1))*np.random.randn(20, 23)"
      ],
      "metadata": {
        "id": "Gf2DEMZXd0iQ"
      },
      "execution_count": 3,
      "outputs": []
    },
    {
      "cell_type": "code",
      "source": [
        "g, _ = gradient_maker(grads)"
      ],
      "metadata": {
        "id": "ZelxOPTcqEfk"
      },
      "execution_count": 4,
      "outputs": []
    },
    {
      "cell_type": "code",
      "source": [
        "grads@g"
      ],
      "metadata": {
        "colab": {
          "base_uri": "https://localhost:8080/"
        },
        "id": "GWFfq-GDlxtZ",
        "outputId": "7ad85692-8d38-4516-fae3-56e3972f6d7c"
      },
      "execution_count": 5,
      "outputs": [
        {
          "output_type": "execute_result",
          "data": {
            "text/plain": [
              "array([ 2.39367435e+06,  2.76608829e+06,  1.26954728e+06,  7.35109039e+05,\n",
              "        1.44982369e+06,  2.15022620e+06,  5.82076609e-10,  3.56162657e+06,\n",
              "        2.95725330e+06,  1.56792038e+06,  2.34780642e+06,  3.57887385e+06,\n",
              "        1.47453438e+06,  2.25668366e+06, -7.27595761e-11,  9.39994480e+05,\n",
              "        8.59900851e+05, -9.89530236e-10,  1.39667068e+06,  4.52109546e+06])"
            ]
          },
          "metadata": {},
          "execution_count": 5
        }
      ]
    },
    {
      "cell_type": "code",
      "source": [
        "from numpy.linalg import norm"
      ],
      "metadata": {
        "id": "JUcPbCG1wJo-"
      },
      "execution_count": 6,
      "outputs": []
    },
    {
      "cell_type": "code",
      "source": [
        "grads_norm = norm(grads, axis=1)"
      ],
      "metadata": {
        "id": "nKAu2UXswj3V"
      },
      "execution_count": 7,
      "outputs": []
    },
    {
      "cell_type": "code",
      "source": [
        "grads_norm/np.min(grads_norm)"
      ],
      "metadata": {
        "colab": {
          "base_uri": "https://localhost:8080/"
        },
        "id": "JDRUOj1HxZ07",
        "outputId": "67b56987-aef4-4534-9b01-b5f779de7845"
      },
      "execution_count": 8,
      "outputs": [
        {
          "output_type": "execute_result",
          "data": {
            "text/plain": [
              "array([1.08388646, 1.51629313, 1.27092154, 1.59399   , 1.31379914,\n",
              "       1.31801583, 1.49837578, 1.70716584, 1.31866085, 1.        ,\n",
              "       1.3826933 , 2.27879919, 1.6583476 , 2.19158263, 2.13461028,\n",
              "       1.19098893, 1.29831724, 1.2547083 , 1.18926768, 1.76766778])"
            ]
          },
          "metadata": {},
          "execution_count": 8
        }
      ]
    },
    {
      "cell_type": "code",
      "source": [
        "grads_scaled = grads/np.min(grads_norm)"
      ],
      "metadata": {
        "id": "-EKdxaxuxfGT"
      },
      "execution_count": 9,
      "outputs": []
    },
    {
      "cell_type": "code",
      "source": [
        "_g, _ = gradient_maker(grads_scaled)"
      ],
      "metadata": {
        "id": "lGiwpjrVy2Sz"
      },
      "execution_count": 10,
      "outputs": []
    },
    {
      "cell_type": "code",
      "source": [
        "grads_scaled@g"
      ],
      "metadata": {
        "colab": {
          "base_uri": "https://localhost:8080/"
        },
        "id": "rRuSQEf-zDY7",
        "outputId": "af890722-f96a-498a-81fc-985a4542029e"
      },
      "execution_count": 11,
      "outputs": [
        {
          "output_type": "execute_result",
          "data": {
            "text/plain": [
              "array([ 5.39403602e+02,  6.23325384e+02,  2.86086691e+02,  1.65653470e+02,\n",
              "        3.26711159e+02,  4.84543671e+02,  1.13686838e-13,  8.02596309e+02,\n",
              "        6.66403549e+02,  3.53323708e+02,  5.29067472e+02,  8.06482904e+02,\n",
              "        3.32279599e+02,  5.08533374e+02,  1.27897692e-13,  2.11823470e+02,\n",
              "        1.93774736e+02, -2.13162821e-13,  3.14733370e+02,  1.01880825e+03])"
            ]
          },
          "metadata": {},
          "execution_count": 11
        }
      ]
    },
    {
      "cell_type": "code",
      "source": [
        "g/_g"
      ],
      "metadata": {
        "colab": {
          "base_uri": "https://localhost:8080/"
        },
        "id": "xf487Z7VzF2B",
        "outputId": "96314f42-d785-4c24-d19b-93031ed959d5"
      },
      "execution_count": 12,
      "outputs": [
        {
          "output_type": "execute_result",
          "data": {
            "text/plain": [
              "array([4437.63136444, 4437.63137768, 4437.63136835, 4437.63132103,\n",
              "       4437.63138494, 4437.63139213, 4437.63134715, 4437.63157199,\n",
              "       4437.63130937, 4437.63135263, 4437.63136524, 4437.63141212,\n",
              "       4437.63129862, 4437.63136311, 4437.6313919 , 4437.63138986,\n",
              "       4437.63135469, 4437.63139857, 4437.63141446, 4437.63136269,\n",
              "       4437.631387  , 4437.63141195, 4437.63102117])"
            ]
          },
          "metadata": {},
          "execution_count": 12
        }
      ]
    },
    {
      "cell_type": "code",
      "source": [
        "from numpy import linalg as la\n",
        "\n",
        "def nearestPD(A):\n",
        "\n",
        "    B = (A + A.T) / 2\n",
        "    _, s, V = la.svd(B)\n",
        "\n",
        "    H = np.dot(V.T, np.dot(np.diag(s), V))\n",
        "\n",
        "    A2 = (B + H) / 2\n",
        "\n",
        "    A3 = (A2 + A2.T) / 2\n",
        "\n",
        "    if isPD(A3):\n",
        "        return A3\n",
        "\n",
        "    spacing = np.spacing(la.norm(A))\n",
        "    \n",
        "    I = np.eye(A.shape[0])\n",
        "    k = 1\n",
        "    while not isPD(A3):\n",
        "        mineig = np.min(np.real(la.eigvals(A3)))\n",
        "        A3 += I * (-mineig * k**2 + spacing)\n",
        "        k += 1\n",
        "\n",
        "    return A3\n",
        "\n",
        "\n",
        "def isPD(B):\n",
        "    try:\n",
        "        _ = la.cholesky(B)\n",
        "        return True\n",
        "    except la.LinAlgError:\n",
        "        return False"
      ],
      "metadata": {
        "id": "4QKMC5mMpa2S"
      },
      "execution_count": 17,
      "outputs": []
    },
    {
      "cell_type": "code",
      "source": [
        "A = grads@grads.T"
      ],
      "metadata": {
        "id": "3dDD-yvJ0A6R"
      },
      "execution_count": 13,
      "outputs": []
    },
    {
      "cell_type": "code",
      "source": [
        "A_ = np.linalg.inv(nearestPD(A))"
      ],
      "metadata": {
        "id": "fI3sv5cqo5NR"
      },
      "execution_count": 18,
      "outputs": []
    },
    {
      "cell_type": "code",
      "source": [
        "s = A_@np.ones(20)"
      ],
      "metadata": {
        "id": "4XsZbxdYpge4"
      },
      "execution_count": 21,
      "outputs": []
    },
    {
      "cell_type": "code",
      "source": [
        "g = grads.T@s"
      ],
      "metadata": {
        "id": "hxtuS2fNpwEB"
      },
      "execution_count": 22,
      "outputs": []
    },
    {
      "cell_type": "code",
      "source": [
        "np.min(grads@g)"
      ],
      "metadata": {
        "colab": {
          "base_uri": "https://localhost:8080/"
        },
        "id": "WoRUOONGp2XN",
        "outputId": "6c000a14-a98c-4293-8c39-3c533cf04e7d"
      },
      "execution_count": 23,
      "outputs": [
        {
          "output_type": "execute_result",
          "data": {
            "text/plain": [
              "0.9999999999999842"
            ]
          },
          "metadata": {},
          "execution_count": 23
        }
      ]
    }
  ]
}