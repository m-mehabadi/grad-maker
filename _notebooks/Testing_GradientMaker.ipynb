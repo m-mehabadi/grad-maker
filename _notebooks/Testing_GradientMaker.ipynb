{
  "nbformat": 4,
  "nbformat_minor": 0,
  "metadata": {
    "colab": {
      "name": "Testing-GradientMaker.ipynb",
      "provenance": [],
      "collapsed_sections": [],
      "include_colab_link": true
    },
    "kernelspec": {
      "name": "python3",
      "display_name": "Python 3"
    },
    "language_info": {
      "name": "python"
    }
  },
  "cells": [
    {
      "cell_type": "markdown",
      "metadata": {
        "id": "view-in-github",
        "colab_type": "text"
      },
      "source": [
        "<a href=\"https://colab.research.google.com/github/m-mehabadi/grad-maker/blob/main/_notebooks/Testing_GradientMaker.ipynb\" target=\"_parent\"><img src=\"https://colab.research.google.com/assets/colab-badge.svg\" alt=\"Open In Colab\"/></a>"
      ]
    },
    {
      "cell_type": "markdown",
      "source": [
        "http://www.cs.cmu.edu/~pradeepr/convexopt/Lecture_Slides/dual-ascent.pdf"
      ],
      "metadata": {
        "id": "BphVoTyaLF5t"
      }
    },
    {
      "cell_type": "code",
      "execution_count": 7,
      "metadata": {
        "id": "WIHWSu69D0a-"
      },
      "outputs": [],
      "source": [
        "import numpy as np\n",
        "# import torch\n",
        "import matplotlib.pyplot as plt"
      ]
    },
    {
      "cell_type": "code",
      "source": [
        "# dim=2000000\n",
        "# a = 100*np.random.randn(4, dim) + 1123\n",
        "# g = np.random.randn(dim, 1)\n",
        "# b = (a-np.mean(a, axis=1)[:, np.newaxis])/np.std(a, axis=1)[:, np.newaxis]\n",
        "# np.mean(b@g/dim)"
      ],
      "metadata": {
        "id": "STG3F-Li43VS"
      },
      "execution_count": 8,
      "outputs": []
    },
    {
      "cell_type": "code",
      "source": [
        "def gradient_maker(domain_grads, epsilon=0.5, alpha=0.01, eff=0.1):\n",
        "    def log():\n",
        "        print(f\"Iter={iter}, Condition={np.min(dgr@g/dim)}\")\n",
        "\n",
        "    dgr = domain_grads\n",
        "    number_of_domains, dim = dgr.shape\n",
        "\n",
        "    #\n",
        "    _mean = np.mean(dgr, axis=1)[:, np.newaxis]\n",
        "    _std = np.std(dgr, axis=1)[:, np.newaxis]\n",
        "    dgr = (dgr-_mean)/_std\n",
        "    \n",
        "    #\n",
        "    g = np.random.randn(dim)\n",
        "    u_ = np.zeros(number_of_domains)\n",
        "    \n",
        "    iter = 0\n",
        "    log()\n",
        "    while not np.min(dgr@g/dim) >= epsilon:\n",
        "        if iter >= 100:\n",
        "            break\n",
        "\n",
        "        u_ = u_ + alpha*((1.+eff)*epsilon - (dgr@g)/dim)\n",
        "        g = (1./number_of_domains)*np.sum(((1+u_).reshape(number_of_domains, 1))*dgr, axis=0)\n",
        "\n",
        "        iter += 1\n",
        "        log()\n",
        "    return g"
      ],
      "metadata": {
        "id": "8-FeagOWwo97"
      },
      "execution_count": 37,
      "outputs": []
    },
    {
      "cell_type": "markdown",
      "source": [
        "### Testcases\n",
        "\n",
        "Now let's write some test cases to make sure everything is working correctly\n"
      ],
      "metadata": {
        "id": "PWTyzUQQ5zrR"
      }
    },
    {
      "cell_type": "code",
      "source": [
        "epsilon=10\n",
        "alpha=1"
      ],
      "metadata": {
        "id": "FpmeOVAY7GuJ"
      },
      "execution_count": 32,
      "outputs": []
    },
    {
      "cell_type": "code",
      "source": [
        "grads = 1*np.random.randn(20, 20000) - 10"
      ],
      "metadata": {
        "id": "C1ZjLcuk-8WO"
      },
      "execution_count": 54,
      "outputs": []
    },
    {
      "cell_type": "code",
      "source": [
        "g = gradient_maker(grads, epsilon=epsilon, alpha=alpha)"
      ],
      "metadata": {
        "colab": {
          "base_uri": "https://localhost:8080/"
        },
        "id": "grZhb7CjuiNT",
        "outputId": "84436899-6afe-4aef-f20a-2a5da9aa5152"
      },
      "execution_count": 55,
      "outputs": [
        {
          "output_type": "stream",
          "name": "stdout",
          "text": [
            "Iter=0, Condition=-0.01258394341344263\n",
            "Iter=1, Condition=0.5720288081472397\n",
            "Iter=2, Condition=1.0689631236491113\n",
            "Iter=3, Condition=1.5422400449210802\n",
            "Iter=4, Condition=1.992984516608491\n",
            "Iter=5, Condition=2.4222680629284055\n",
            "Iter=6, Condition=2.8311113204459892\n",
            "Iter=7, Condition=3.2204864509883344\n",
            "Iter=8, Condition=3.5913194403559188\n",
            "Iter=9, Condition=3.944492288225265\n",
            "Iter=10, Condition=4.280845094382256\n",
            "Iter=11, Condition=4.601178046183491\n",
            "Iter=12, Condition=4.906253311912163\n",
            "Iter=13, Condition=5.196796844475145\n",
            "Iter=14, Condition=5.473500099678229\n",
            "Iter=15, Condition=5.737021673116889\n",
            "Iter=16, Condition=5.987988859529365\n",
            "Iter=17, Condition=6.2269991382776935\n",
            "Iter=18, Condition=6.454621588449238\n",
            "Iter=19, Condition=6.671398236906619\n",
            "Iter=20, Condition=6.877845342457005\n",
            "Iter=21, Condition=7.0744546191618936\n",
            "Iter=22, Condition=7.261694401666316\n",
            "Iter=23, Condition=7.440010755290094\n",
            "Iter=24, Condition=7.609828533494713\n",
            "Iter=25, Condition=7.771552385215712\n",
            "Iter=26, Condition=7.9255677144330985\n",
            "Iter=27, Condition=8.072241594240262\n",
            "Iter=28, Condition=8.211923637564967\n",
            "Iter=29, Condition=8.344946826594468\n",
            "Iter=30, Condition=8.471628302859779\n",
            "Iter=31, Condition=8.592270119841704\n",
            "Iter=32, Condition=8.707159959873401\n",
            "Iter=33, Condition=8.81657181703017\n",
            "Iter=34, Condition=8.92076664761745\n",
            "Iter=35, Condition=9.019992989791737\n",
            "Iter=36, Condition=9.114487553776678\n",
            "Iter=37, Condition=9.204475784067327\n",
            "Iter=38, Condition=9.290172394949913\n",
            "Iter=39, Condition=9.371781880601405\n",
            "Iter=40, Condition=9.449499000973754\n",
            "Iter=41, Condition=9.523509244610214\n",
            "Iter=42, Condition=9.59398926948734\n",
            "Iter=43, Condition=9.661107322924243\n",
            "Iter=44, Condition=9.725023641551466\n",
            "Iter=45, Condition=9.785890832284906\n",
            "Iter=46, Condition=9.843854235205479\n",
            "Iter=47, Condition=9.899052269202526\n",
            "Iter=48, Condition=9.951616761198478\n",
            "Iter=49, Condition=10.001673259733378\n"
          ]
        }
      ]
    },
    {
      "cell_type": "code",
      "source": [
        "mean_ = np.mean(grads, axis=1)[:, np.newaxis]\n",
        "std_ = np.std(grads, axis=1)[:, np.newaxis]\n",
        "eps = epsilon\n",
        "d = grads.shape[1]\n",
        "g_bar = np.mean(g)"
      ],
      "metadata": {
        "id": "_3vbVkD5sgiR"
      },
      "execution_count": 56,
      "outputs": []
    },
    {
      "cell_type": "code",
      "source": [
        "(grads@g)[:, np.newaxis]>=eps*d*std_+d*g_bar*mean_"
      ],
      "metadata": {
        "colab": {
          "base_uri": "https://localhost:8080/"
        },
        "id": "ZBBgLM1vuHwi",
        "outputId": "e4122775-ed2a-4bb0-c50a-47ab1d135881"
      },
      "execution_count": 57,
      "outputs": [
        {
          "output_type": "execute_result",
          "data": {
            "text/plain": [
              "array([[ True],\n",
              "       [ True],\n",
              "       [ True],\n",
              "       [ True],\n",
              "       [ True],\n",
              "       [ True],\n",
              "       [ True],\n",
              "       [ True],\n",
              "       [ True],\n",
              "       [ True],\n",
              "       [ True],\n",
              "       [ True],\n",
              "       [ True],\n",
              "       [ True],\n",
              "       [ True],\n",
              "       [ True],\n",
              "       [ True],\n",
              "       [ True],\n",
              "       [ True],\n",
              "       [ True]])"
            ]
          },
          "metadata": {},
          "execution_count": 57
        }
      ]
    },
    {
      "cell_type": "code",
      "source": [
        "eps*d*std_+d*g_bar*mean_>=eps*d"
      ],
      "metadata": {
        "colab": {
          "base_uri": "https://localhost:8080/"
        },
        "id": "r_ug6SGZyBv8",
        "outputId": "b9ad12b9-80cb-48eb-e963-a671701e4522"
      },
      "execution_count": 58,
      "outputs": [
        {
          "output_type": "execute_result",
          "data": {
            "text/plain": [
              "array([[False],\n",
              "       [False],\n",
              "       [False],\n",
              "       [ True],\n",
              "       [False],\n",
              "       [False],\n",
              "       [False],\n",
              "       [ True],\n",
              "       [ True],\n",
              "       [False],\n",
              "       [ True],\n",
              "       [False],\n",
              "       [False],\n",
              "       [False],\n",
              "       [False],\n",
              "       [False],\n",
              "       [False],\n",
              "       [False],\n",
              "       [ True],\n",
              "       [ True]])"
            ]
          },
          "metadata": {},
          "execution_count": 58
        }
      ]
    }
  ]
}