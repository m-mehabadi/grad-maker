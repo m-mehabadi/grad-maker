{
  "nbformat": 4,
  "nbformat_minor": 0,
  "metadata": {
    "colab": {
      "name": "Testing-GradientMaker.ipynb",
      "provenance": [],
      "collapsed_sections": [],
      "include_colab_link": true
    },
    "kernelspec": {
      "name": "python3",
      "display_name": "Python 3"
    },
    "language_info": {
      "name": "python"
    }
  },
  "cells": [
    {
      "cell_type": "markdown",
      "metadata": {
        "id": "view-in-github",
        "colab_type": "text"
      },
      "source": [
        "<a href=\"https://colab.research.google.com/github/m-mehabadi/grad-maker/blob/main/_notebooks/Testing_GradientMaker.ipynb\" target=\"_parent\"><img src=\"https://colab.research.google.com/assets/colab-badge.svg\" alt=\"Open In Colab\"/></a>"
      ]
    },
    {
      "cell_type": "markdown",
      "source": [
        "http://www.cs.cmu.edu/~pradeepr/convexopt/Lecture_Slides/dual-ascent.pdf\n",
        "\n",
        "https://web.stanford.edu/class/ee364b/lectures/primal_dual_subgrad_slides.pdf\n",
        "\n",
        "https://www.cvxpy.org/examples/basic/quadratic_program.html"
      ],
      "metadata": {
        "id": "BphVoTyaLF5t"
      }
    },
    {
      "cell_type": "code",
      "execution_count": 74,
      "metadata": {
        "id": "WIHWSu69D0a-"
      },
      "outputs": [],
      "source": [
        "import numpy as np\n",
        "# import torch\n",
        "import matplotlib.pyplot as plt"
      ]
    },
    {
      "cell_type": "code",
      "source": [
        "!pip install cvxpy"
      ],
      "metadata": {
        "colab": {
          "base_uri": "https://localhost:8080/"
        },
        "id": "8l2_-yq5hrbM",
        "outputId": "c7f84ebc-81ea-42da-b4d3-26531e83602d"
      },
      "execution_count": 75,
      "outputs": [
        {
          "output_type": "stream",
          "name": "stdout",
          "text": [
            "Requirement already satisfied: cvxpy in /usr/local/lib/python3.7/dist-packages (1.0.31)\n",
            "Requirement already satisfied: osqp>=0.4.1 in /usr/local/lib/python3.7/dist-packages (from cvxpy) (0.6.2.post0)\n",
            "Requirement already satisfied: ecos>=2 in /usr/local/lib/python3.7/dist-packages (from cvxpy) (2.0.10)\n",
            "Requirement already satisfied: multiprocess in /usr/local/lib/python3.7/dist-packages (from cvxpy) (0.70.12.2)\n",
            "Requirement already satisfied: scipy>=1.1.0 in /usr/local/lib/python3.7/dist-packages (from cvxpy) (1.4.1)\n",
            "Requirement already satisfied: scs>=1.1.3 in /usr/local/lib/python3.7/dist-packages (from cvxpy) (3.2.0)\n",
            "Requirement already satisfied: numpy>=1.15 in /usr/local/lib/python3.7/dist-packages (from cvxpy) (1.21.6)\n",
            "Requirement already satisfied: qdldl in /usr/local/lib/python3.7/dist-packages (from osqp>=0.4.1->cvxpy) (0.1.5.post2)\n",
            "Requirement already satisfied: dill>=0.3.4 in /usr/local/lib/python3.7/dist-packages (from multiprocess->cvxpy) (0.3.4)\n"
          ]
        }
      ]
    },
    {
      "cell_type": "code",
      "source": [
        "def gradient_maker(grads):\n",
        "    \"\"\"\n",
        "    - make sure to install `cvxpy`. you can use: `pip install cvxpy`\n",
        "    - `grads` in a numpy's `ndarray`\n",
        "    - `grads.shape == (n, d)`, where `n` is the number of domains and `d` is the dimension\n",
        "    - this method will return a tuple of size two, where:\n",
        "        * the first one is the generalized vector to use with size `d`\n",
        "        * the second one is the weight vector of the linear combination\n",
        "    - finally, use g, _ = gradient_maker(grads), if you have no need to use the 2nd return\n",
        "    \"\"\"\n",
        "\n",
        "    import cvxpy as cp\n",
        "    from numpy import linalg as la\n",
        "\n",
        "    def nearestPD(A):\n",
        "        \"\"\"Find the nearest positive-definite matrix to input\n",
        "\n",
        "        A Python/Numpy port of John D'Errico's `nearestSPD` MATLAB code [1], which\n",
        "        credits [2].\n",
        "\n",
        "        [1] https://www.mathworks.com/matlabcentral/fileexchange/42885-nearestspd\n",
        "\n",
        "        [2] N.J. Higham, \"Computing a nearest symmetric positive semidefinite\n",
        "        matrix\" (1988): https://doi.org/10.1016/0024-3795(88)90223-6\n",
        "        \"\"\"\n",
        "\n",
        "        B = (A + A.T) / 2\n",
        "        _, s, V = la.svd(B)\n",
        "\n",
        "        H = np.dot(V.T, np.dot(np.diag(s), V))\n",
        "\n",
        "        A2 = (B + H) / 2\n",
        "\n",
        "        A3 = (A2 + A2.T) / 2\n",
        "\n",
        "        if isPD(A3):\n",
        "            return A3\n",
        "\n",
        "        spacing = np.spacing(la.norm(A))\n",
        "        \n",
        "        I = np.eye(A.shape[0])\n",
        "        k = 1\n",
        "        while not isPD(A3):\n",
        "            mineig = np.min(np.real(la.eigvals(A3)))\n",
        "            A3 += I * (-mineig * k**2 + spacing)\n",
        "            k += 1\n",
        "\n",
        "        return A3\n",
        "\n",
        "\n",
        "    def isPD(B):\n",
        "        \"\"\"Returns true when input is positive-definite, via Cholesky\"\"\"\n",
        "        try:\n",
        "            _ = la.cholesky(B)\n",
        "            return True\n",
        "        except la.LinAlgError:\n",
        "            return False\n",
        "    \n",
        "    #\n",
        "    n, d = grads.shape\n",
        "    G = grads.T\n",
        "    g_ = np.mean(grads, axis=0).reshape(-1, 1)\n",
        "\n",
        "    #\n",
        "    P = nearestPD(n*G.T@G)\n",
        "    q = -n*G.T@g_\n",
        "    F = -G.T@G\n",
        "    h = np.zeros(n, dtype=np.float32)\n",
        "    A = np.ones(n, dtype=np.float32).reshape(1, -1)\n",
        "    b = np.ones((1, 1), dtype=np.float32)\n",
        "\n",
        "    # print(f\"P={P.shape}\")\n",
        "    # print(f\"q={q.shape}\")\n",
        "    # print(f\"F={F.shape}\")\n",
        "    # print(f\"h={h.shape}\")\n",
        "    # print(f\"A={A.shape}\")\n",
        "    # print(f\"b={b.shape}\")\n",
        "\n",
        "    # define opt variable\n",
        "    x = cp.Variable(n)\n",
        "    prob = cp.Problem(cp.Minimize((1/2)*cp.quad_form(x, P) + q.T @ x),\n",
        "                    [F @ x <= h,\n",
        "                    A @ x == b])\n",
        "    #\n",
        "    prob.solve()\n",
        "    s = np.array(x.value)\n",
        "\n",
        "    return G@s, s"
      ],
      "metadata": {
        "id": "wPrAgDbWh1Zj"
      },
      "execution_count": 122,
      "outputs": []
    },
    {
      "cell_type": "code",
      "source": [
        "# def gradient_maker_orig(grads, rho=10.):\n",
        "#     log = lambda : print(f\"Iter={iter}, Condition={np.min(G.T@G@s)}\")\n",
        "#     norm = np.linalg.norm\n",
        "\n",
        "#     G = grads.T\n",
        "#     A = G.T@G\n",
        "#     g_ = np.mean(grads, axis=0)\n",
        "\n",
        "\n",
        "#     n, d = grads.shape\n",
        "\n",
        "#     #\n",
        "#     iter = 1\n",
        "\n",
        "#     s = np.random.randn(n)\n",
        "#     s /= np.sum(s).item()\n",
        "#     u = np.zeros(n)\n",
        "#     v = np.zeros(1)\n",
        "\n",
        "#     while np.min(G.T@G@s) < 0:\n",
        "\n",
        "#         # computing the gradient of the Lagrangian w.r.t s, u, v\n",
        "#         L_s = n*A@s - n*G.T@g_ + np.sum(-(u+rho*np.maximum(np.zeros(n), -A@s))*A*(A@s<=0), axis=0).T \\\n",
        "#                                             + (v+rho*(np.sum(s)-1.))*np.ones(n)\n",
        "#         L_u = np.maximum(np.zeros(n), -A@s)\n",
        "#         L_v = np.sum(s)-1.\n",
        "\n",
        "#         #\n",
        "#         beta = 1 / iter\n",
        "#         alpha = beta/np.sqrt(norm(L_s)**2+norm(L_u)**2+norm(L_v)**2)\n",
        "\n",
        "#         # update rules\n",
        "#         s = s - alpha*L_s\n",
        "#         u = u + alpha*L_u\n",
        "#         v = v + alpha*L_v\n",
        "\n",
        "#         #\n",
        "#         log()\n",
        "#         iter += 1\n",
        "    \n",
        "#     return G@s"
      ],
      "metadata": {
        "id": "nKyA9Zu8qqPc"
      },
      "execution_count": 77,
      "outputs": []
    },
    {
      "cell_type": "markdown",
      "source": [
        "### Testcases\n",
        "\n",
        "Now let's write some test cases to make sure everything is working correctly\n"
      ],
      "metadata": {
        "id": "PWTyzUQQ5zrR"
      }
    },
    {
      "cell_type": "code",
      "source": [
        "grads = 0.0000000000001*np.random.randn(20, 23) - 1000"
      ],
      "metadata": {
        "id": "C1ZjLcuk-8WO"
      },
      "execution_count": 126,
      "outputs": []
    },
    {
      "cell_type": "code",
      "source": [
        "# A = grads@grads.T\n",
        "# print(np.array_equal(A, A.T))\n",
        "# chol_ = np.linalg.cholesky(A+np.identity(A.shape[0])/1000)\n",
        "# print(np.linalg.norm(A-chol_.dot(chol_.T)))"
      ],
      "metadata": {
        "id": "7SFkprt-uy6Z"
      },
      "execution_count": 124,
      "outputs": []
    },
    {
      "cell_type": "code",
      "source": [
        "g, s = gradient_maker(grads)\n",
        "\n",
        "print(f\"the minimum inner product between the found `g` and domain gradients is: {np.min(grads@g)}\")\n",
        "print(f\"let's check the sum of elements of `s`, it should be one: {np.sum(s)}\")"
      ],
      "metadata": {
        "colab": {
          "base_uri": "https://localhost:8080/"
        },
        "id": "wcdQRQHpnJtb",
        "outputId": "456003b3-d7f8-4ef9-bd98-b768b75b901d"
      },
      "execution_count": 127,
      "outputs": [
        {
          "output_type": "stream",
          "name": "stdout",
          "text": [
            "the minimum inner product between the found `g` and domain gradients is: 22999999.999999993\n",
            "let's check the sum of elements of `s`, it should be one: 0.9999999999999997\n"
          ]
        }
      ]
    }
  ]
}