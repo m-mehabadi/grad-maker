{
  "nbformat": 4,
  "nbformat_minor": 0,
  "metadata": {
    "colab": {
      "name": "UniversalAttackGenerator.ipynb",
      "provenance": [],
      "collapsed_sections": [],
      "authorship_tag": "ABX9TyMis1o4lYYg/MXSkCE2KYpo",
      "include_colab_link": true
    },
    "kernelspec": {
      "name": "python3",
      "display_name": "Python 3"
    },
    "language_info": {
      "name": "python"
    },
    "accelerator": "GPU",
    "widgets": {
      "application/vnd.jupyter.widget-state+json": {
        "5c6b7f1d541743c7bc341f3efb92e380": {
          "model_module": "@jupyter-widgets/controls",
          "model_name": "HBoxModel",
          "model_module_version": "1.5.0",
          "state": {
            "_dom_classes": [],
            "_model_module": "@jupyter-widgets/controls",
            "_model_module_version": "1.5.0",
            "_model_name": "HBoxModel",
            "_view_count": null,
            "_view_module": "@jupyter-widgets/controls",
            "_view_module_version": "1.5.0",
            "_view_name": "HBoxView",
            "box_style": "",
            "children": [
              "IPY_MODEL_b0998cc565cf451aa8456ab044e9454b",
              "IPY_MODEL_1764844b594144a081d5d2161d094335",
              "IPY_MODEL_c2a50c1c80a64d7aa48bef5adc18285e"
            ],
            "layout": "IPY_MODEL_5147a6e36c434cf48de6cd115c16aded"
          }
        },
        "b0998cc565cf451aa8456ab044e9454b": {
          "model_module": "@jupyter-widgets/controls",
          "model_name": "HTMLModel",
          "model_module_version": "1.5.0",
          "state": {
            "_dom_classes": [],
            "_model_module": "@jupyter-widgets/controls",
            "_model_module_version": "1.5.0",
            "_model_name": "HTMLModel",
            "_view_count": null,
            "_view_module": "@jupyter-widgets/controls",
            "_view_module_version": "1.5.0",
            "_view_name": "HTMLView",
            "description": "",
            "description_tooltip": null,
            "layout": "IPY_MODEL_cf3151404f14447091b5aa60b01e30c6",
            "placeholder": "​",
            "style": "IPY_MODEL_6395ee273f774f96bfbe4b1a29bb6d22",
            "value": "100%"
          }
        },
        "1764844b594144a081d5d2161d094335": {
          "model_module": "@jupyter-widgets/controls",
          "model_name": "FloatProgressModel",
          "model_module_version": "1.5.0",
          "state": {
            "_dom_classes": [],
            "_model_module": "@jupyter-widgets/controls",
            "_model_module_version": "1.5.0",
            "_model_name": "FloatProgressModel",
            "_view_count": null,
            "_view_module": "@jupyter-widgets/controls",
            "_view_module_version": "1.5.0",
            "_view_name": "ProgressView",
            "bar_style": "success",
            "description": "",
            "description_tooltip": null,
            "layout": "IPY_MODEL_8c9a98893faa46f8aa68d02475207bbd",
            "max": 10,
            "min": 0,
            "orientation": "horizontal",
            "style": "IPY_MODEL_59702565432f4dc896ef80b43cfed63a",
            "value": 10
          }
        },
        "c2a50c1c80a64d7aa48bef5adc18285e": {
          "model_module": "@jupyter-widgets/controls",
          "model_name": "HTMLModel",
          "model_module_version": "1.5.0",
          "state": {
            "_dom_classes": [],
            "_model_module": "@jupyter-widgets/controls",
            "_model_module_version": "1.5.0",
            "_model_name": "HTMLModel",
            "_view_count": null,
            "_view_module": "@jupyter-widgets/controls",
            "_view_module_version": "1.5.0",
            "_view_name": "HTMLView",
            "description": "",
            "description_tooltip": null,
            "layout": "IPY_MODEL_1eaf31340fa64c95965417ff5c951a6e",
            "placeholder": "​",
            "style": "IPY_MODEL_e676215fe55d45c689c694acbcda7111",
            "value": " 10/10 [00:59&lt;00:00,  5.46s/it]"
          }
        },
        "5147a6e36c434cf48de6cd115c16aded": {
          "model_module": "@jupyter-widgets/base",
          "model_name": "LayoutModel",
          "model_module_version": "1.2.0",
          "state": {
            "_model_module": "@jupyter-widgets/base",
            "_model_module_version": "1.2.0",
            "_model_name": "LayoutModel",
            "_view_count": null,
            "_view_module": "@jupyter-widgets/base",
            "_view_module_version": "1.2.0",
            "_view_name": "LayoutView",
            "align_content": null,
            "align_items": null,
            "align_self": null,
            "border": null,
            "bottom": null,
            "display": null,
            "flex": null,
            "flex_flow": null,
            "grid_area": null,
            "grid_auto_columns": null,
            "grid_auto_flow": null,
            "grid_auto_rows": null,
            "grid_column": null,
            "grid_gap": null,
            "grid_row": null,
            "grid_template_areas": null,
            "grid_template_columns": null,
            "grid_template_rows": null,
            "height": null,
            "justify_content": null,
            "justify_items": null,
            "left": null,
            "margin": null,
            "max_height": null,
            "max_width": null,
            "min_height": null,
            "min_width": null,
            "object_fit": null,
            "object_position": null,
            "order": null,
            "overflow": null,
            "overflow_x": null,
            "overflow_y": null,
            "padding": null,
            "right": null,
            "top": null,
            "visibility": null,
            "width": null
          }
        },
        "cf3151404f14447091b5aa60b01e30c6": {
          "model_module": "@jupyter-widgets/base",
          "model_name": "LayoutModel",
          "model_module_version": "1.2.0",
          "state": {
            "_model_module": "@jupyter-widgets/base",
            "_model_module_version": "1.2.0",
            "_model_name": "LayoutModel",
            "_view_count": null,
            "_view_module": "@jupyter-widgets/base",
            "_view_module_version": "1.2.0",
            "_view_name": "LayoutView",
            "align_content": null,
            "align_items": null,
            "align_self": null,
            "border": null,
            "bottom": null,
            "display": null,
            "flex": null,
            "flex_flow": null,
            "grid_area": null,
            "grid_auto_columns": null,
            "grid_auto_flow": null,
            "grid_auto_rows": null,
            "grid_column": null,
            "grid_gap": null,
            "grid_row": null,
            "grid_template_areas": null,
            "grid_template_columns": null,
            "grid_template_rows": null,
            "height": null,
            "justify_content": null,
            "justify_items": null,
            "left": null,
            "margin": null,
            "max_height": null,
            "max_width": null,
            "min_height": null,
            "min_width": null,
            "object_fit": null,
            "object_position": null,
            "order": null,
            "overflow": null,
            "overflow_x": null,
            "overflow_y": null,
            "padding": null,
            "right": null,
            "top": null,
            "visibility": null,
            "width": null
          }
        },
        "6395ee273f774f96bfbe4b1a29bb6d22": {
          "model_module": "@jupyter-widgets/controls",
          "model_name": "DescriptionStyleModel",
          "model_module_version": "1.5.0",
          "state": {
            "_model_module": "@jupyter-widgets/controls",
            "_model_module_version": "1.5.0",
            "_model_name": "DescriptionStyleModel",
            "_view_count": null,
            "_view_module": "@jupyter-widgets/base",
            "_view_module_version": "1.2.0",
            "_view_name": "StyleView",
            "description_width": ""
          }
        },
        "8c9a98893faa46f8aa68d02475207bbd": {
          "model_module": "@jupyter-widgets/base",
          "model_name": "LayoutModel",
          "model_module_version": "1.2.0",
          "state": {
            "_model_module": "@jupyter-widgets/base",
            "_model_module_version": "1.2.0",
            "_model_name": "LayoutModel",
            "_view_count": null,
            "_view_module": "@jupyter-widgets/base",
            "_view_module_version": "1.2.0",
            "_view_name": "LayoutView",
            "align_content": null,
            "align_items": null,
            "align_self": null,
            "border": null,
            "bottom": null,
            "display": null,
            "flex": null,
            "flex_flow": null,
            "grid_area": null,
            "grid_auto_columns": null,
            "grid_auto_flow": null,
            "grid_auto_rows": null,
            "grid_column": null,
            "grid_gap": null,
            "grid_row": null,
            "grid_template_areas": null,
            "grid_template_columns": null,
            "grid_template_rows": null,
            "height": null,
            "justify_content": null,
            "justify_items": null,
            "left": null,
            "margin": null,
            "max_height": null,
            "max_width": null,
            "min_height": null,
            "min_width": null,
            "object_fit": null,
            "object_position": null,
            "order": null,
            "overflow": null,
            "overflow_x": null,
            "overflow_y": null,
            "padding": null,
            "right": null,
            "top": null,
            "visibility": null,
            "width": null
          }
        },
        "59702565432f4dc896ef80b43cfed63a": {
          "model_module": "@jupyter-widgets/controls",
          "model_name": "ProgressStyleModel",
          "model_module_version": "1.5.0",
          "state": {
            "_model_module": "@jupyter-widgets/controls",
            "_model_module_version": "1.5.0",
            "_model_name": "ProgressStyleModel",
            "_view_count": null,
            "_view_module": "@jupyter-widgets/base",
            "_view_module_version": "1.2.0",
            "_view_name": "StyleView",
            "bar_color": null,
            "description_width": ""
          }
        },
        "1eaf31340fa64c95965417ff5c951a6e": {
          "model_module": "@jupyter-widgets/base",
          "model_name": "LayoutModel",
          "model_module_version": "1.2.0",
          "state": {
            "_model_module": "@jupyter-widgets/base",
            "_model_module_version": "1.2.0",
            "_model_name": "LayoutModel",
            "_view_count": null,
            "_view_module": "@jupyter-widgets/base",
            "_view_module_version": "1.2.0",
            "_view_name": "LayoutView",
            "align_content": null,
            "align_items": null,
            "align_self": null,
            "border": null,
            "bottom": null,
            "display": null,
            "flex": null,
            "flex_flow": null,
            "grid_area": null,
            "grid_auto_columns": null,
            "grid_auto_flow": null,
            "grid_auto_rows": null,
            "grid_column": null,
            "grid_gap": null,
            "grid_row": null,
            "grid_template_areas": null,
            "grid_template_columns": null,
            "grid_template_rows": null,
            "height": null,
            "justify_content": null,
            "justify_items": null,
            "left": null,
            "margin": null,
            "max_height": null,
            "max_width": null,
            "min_height": null,
            "min_width": null,
            "object_fit": null,
            "object_position": null,
            "order": null,
            "overflow": null,
            "overflow_x": null,
            "overflow_y": null,
            "padding": null,
            "right": null,
            "top": null,
            "visibility": null,
            "width": null
          }
        },
        "e676215fe55d45c689c694acbcda7111": {
          "model_module": "@jupyter-widgets/controls",
          "model_name": "DescriptionStyleModel",
          "model_module_version": "1.5.0",
          "state": {
            "_model_module": "@jupyter-widgets/controls",
            "_model_module_version": "1.5.0",
            "_model_name": "DescriptionStyleModel",
            "_view_count": null,
            "_view_module": "@jupyter-widgets/base",
            "_view_module_version": "1.2.0",
            "_view_name": "StyleView",
            "description_width": ""
          }
        },
        "23183e9d2b024d1d9f313e70881f133b": {
          "model_module": "@jupyter-widgets/controls",
          "model_name": "HBoxModel",
          "model_module_version": "1.5.0",
          "state": {
            "_dom_classes": [],
            "_model_module": "@jupyter-widgets/controls",
            "_model_module_version": "1.5.0",
            "_model_name": "HBoxModel",
            "_view_count": null,
            "_view_module": "@jupyter-widgets/controls",
            "_view_module_version": "1.5.0",
            "_view_name": "HBoxView",
            "box_style": "",
            "children": [
              "IPY_MODEL_2394156a9e4a47be84bd9a1b403d0a47",
              "IPY_MODEL_02187a2cdb2d4f0aa0e58a1e3b5ee092",
              "IPY_MODEL_8ebe8a5dd036470b94fb7cc46c566b74"
            ],
            "layout": "IPY_MODEL_f3a1111f4c5f4917b90d5de50ea86fce"
          }
        },
        "2394156a9e4a47be84bd9a1b403d0a47": {
          "model_module": "@jupyter-widgets/controls",
          "model_name": "HTMLModel",
          "model_module_version": "1.5.0",
          "state": {
            "_dom_classes": [],
            "_model_module": "@jupyter-widgets/controls",
            "_model_module_version": "1.5.0",
            "_model_name": "HTMLModel",
            "_view_count": null,
            "_view_module": "@jupyter-widgets/controls",
            "_view_module_version": "1.5.0",
            "_view_name": "HTMLView",
            "description": "",
            "description_tooltip": null,
            "layout": "IPY_MODEL_85e0ff8cb3914d01a19f530fd56dd61f",
            "placeholder": "​",
            "style": "IPY_MODEL_d68c3e4b93d84b7eaf13aadb088b28b8",
            "value": "100%"
          }
        },
        "02187a2cdb2d4f0aa0e58a1e3b5ee092": {
          "model_module": "@jupyter-widgets/controls",
          "model_name": "FloatProgressModel",
          "model_module_version": "1.5.0",
          "state": {
            "_dom_classes": [],
            "_model_module": "@jupyter-widgets/controls",
            "_model_module_version": "1.5.0",
            "_model_name": "FloatProgressModel",
            "_view_count": null,
            "_view_module": "@jupyter-widgets/controls",
            "_view_module_version": "1.5.0",
            "_view_name": "ProgressView",
            "bar_style": "success",
            "description": "",
            "description_tooltip": null,
            "layout": "IPY_MODEL_3abe5fae20184c15b11da824d6d567b2",
            "max": 50,
            "min": 0,
            "orientation": "horizontal",
            "style": "IPY_MODEL_7ad9793ab3d84a30b2b1a7a75f94c656",
            "value": 50
          }
        },
        "8ebe8a5dd036470b94fb7cc46c566b74": {
          "model_module": "@jupyter-widgets/controls",
          "model_name": "HTMLModel",
          "model_module_version": "1.5.0",
          "state": {
            "_dom_classes": [],
            "_model_module": "@jupyter-widgets/controls",
            "_model_module_version": "1.5.0",
            "_model_name": "HTMLModel",
            "_view_count": null,
            "_view_module": "@jupyter-widgets/controls",
            "_view_module_version": "1.5.0",
            "_view_name": "HTMLView",
            "description": "",
            "description_tooltip": null,
            "layout": "IPY_MODEL_8ea9d6cf3c834a7fa978e9db29f7dd3e",
            "placeholder": "​",
            "style": "IPY_MODEL_a0aa97fe6e114ed7bbf50b765afc4e04",
            "value": " 50/50 [00:02&lt;00:00, 17.37it/s]"
          }
        },
        "f3a1111f4c5f4917b90d5de50ea86fce": {
          "model_module": "@jupyter-widgets/base",
          "model_name": "LayoutModel",
          "model_module_version": "1.2.0",
          "state": {
            "_model_module": "@jupyter-widgets/base",
            "_model_module_version": "1.2.0",
            "_model_name": "LayoutModel",
            "_view_count": null,
            "_view_module": "@jupyter-widgets/base",
            "_view_module_version": "1.2.0",
            "_view_name": "LayoutView",
            "align_content": null,
            "align_items": null,
            "align_self": null,
            "border": null,
            "bottom": null,
            "display": null,
            "flex": null,
            "flex_flow": null,
            "grid_area": null,
            "grid_auto_columns": null,
            "grid_auto_flow": null,
            "grid_auto_rows": null,
            "grid_column": null,
            "grid_gap": null,
            "grid_row": null,
            "grid_template_areas": null,
            "grid_template_columns": null,
            "grid_template_rows": null,
            "height": null,
            "justify_content": null,
            "justify_items": null,
            "left": null,
            "margin": null,
            "max_height": null,
            "max_width": null,
            "min_height": null,
            "min_width": null,
            "object_fit": null,
            "object_position": null,
            "order": null,
            "overflow": null,
            "overflow_x": null,
            "overflow_y": null,
            "padding": null,
            "right": null,
            "top": null,
            "visibility": null,
            "width": null
          }
        },
        "85e0ff8cb3914d01a19f530fd56dd61f": {
          "model_module": "@jupyter-widgets/base",
          "model_name": "LayoutModel",
          "model_module_version": "1.2.0",
          "state": {
            "_model_module": "@jupyter-widgets/base",
            "_model_module_version": "1.2.0",
            "_model_name": "LayoutModel",
            "_view_count": null,
            "_view_module": "@jupyter-widgets/base",
            "_view_module_version": "1.2.0",
            "_view_name": "LayoutView",
            "align_content": null,
            "align_items": null,
            "align_self": null,
            "border": null,
            "bottom": null,
            "display": null,
            "flex": null,
            "flex_flow": null,
            "grid_area": null,
            "grid_auto_columns": null,
            "grid_auto_flow": null,
            "grid_auto_rows": null,
            "grid_column": null,
            "grid_gap": null,
            "grid_row": null,
            "grid_template_areas": null,
            "grid_template_columns": null,
            "grid_template_rows": null,
            "height": null,
            "justify_content": null,
            "justify_items": null,
            "left": null,
            "margin": null,
            "max_height": null,
            "max_width": null,
            "min_height": null,
            "min_width": null,
            "object_fit": null,
            "object_position": null,
            "order": null,
            "overflow": null,
            "overflow_x": null,
            "overflow_y": null,
            "padding": null,
            "right": null,
            "top": null,
            "visibility": null,
            "width": null
          }
        },
        "d68c3e4b93d84b7eaf13aadb088b28b8": {
          "model_module": "@jupyter-widgets/controls",
          "model_name": "DescriptionStyleModel",
          "model_module_version": "1.5.0",
          "state": {
            "_model_module": "@jupyter-widgets/controls",
            "_model_module_version": "1.5.0",
            "_model_name": "DescriptionStyleModel",
            "_view_count": null,
            "_view_module": "@jupyter-widgets/base",
            "_view_module_version": "1.2.0",
            "_view_name": "StyleView",
            "description_width": ""
          }
        },
        "3abe5fae20184c15b11da824d6d567b2": {
          "model_module": "@jupyter-widgets/base",
          "model_name": "LayoutModel",
          "model_module_version": "1.2.0",
          "state": {
            "_model_module": "@jupyter-widgets/base",
            "_model_module_version": "1.2.0",
            "_model_name": "LayoutModel",
            "_view_count": null,
            "_view_module": "@jupyter-widgets/base",
            "_view_module_version": "1.2.0",
            "_view_name": "LayoutView",
            "align_content": null,
            "align_items": null,
            "align_self": null,
            "border": null,
            "bottom": null,
            "display": null,
            "flex": null,
            "flex_flow": null,
            "grid_area": null,
            "grid_auto_columns": null,
            "grid_auto_flow": null,
            "grid_auto_rows": null,
            "grid_column": null,
            "grid_gap": null,
            "grid_row": null,
            "grid_template_areas": null,
            "grid_template_columns": null,
            "grid_template_rows": null,
            "height": null,
            "justify_content": null,
            "justify_items": null,
            "left": null,
            "margin": null,
            "max_height": null,
            "max_width": null,
            "min_height": null,
            "min_width": null,
            "object_fit": null,
            "object_position": null,
            "order": null,
            "overflow": null,
            "overflow_x": null,
            "overflow_y": null,
            "padding": null,
            "right": null,
            "top": null,
            "visibility": null,
            "width": null
          }
        },
        "7ad9793ab3d84a30b2b1a7a75f94c656": {
          "model_module": "@jupyter-widgets/controls",
          "model_name": "ProgressStyleModel",
          "model_module_version": "1.5.0",
          "state": {
            "_model_module": "@jupyter-widgets/controls",
            "_model_module_version": "1.5.0",
            "_model_name": "ProgressStyleModel",
            "_view_count": null,
            "_view_module": "@jupyter-widgets/base",
            "_view_module_version": "1.2.0",
            "_view_name": "StyleView",
            "bar_color": null,
            "description_width": ""
          }
        },
        "8ea9d6cf3c834a7fa978e9db29f7dd3e": {
          "model_module": "@jupyter-widgets/base",
          "model_name": "LayoutModel",
          "model_module_version": "1.2.0",
          "state": {
            "_model_module": "@jupyter-widgets/base",
            "_model_module_version": "1.2.0",
            "_model_name": "LayoutModel",
            "_view_count": null,
            "_view_module": "@jupyter-widgets/base",
            "_view_module_version": "1.2.0",
            "_view_name": "LayoutView",
            "align_content": null,
            "align_items": null,
            "align_self": null,
            "border": null,
            "bottom": null,
            "display": null,
            "flex": null,
            "flex_flow": null,
            "grid_area": null,
            "grid_auto_columns": null,
            "grid_auto_flow": null,
            "grid_auto_rows": null,
            "grid_column": null,
            "grid_gap": null,
            "grid_row": null,
            "grid_template_areas": null,
            "grid_template_columns": null,
            "grid_template_rows": null,
            "height": null,
            "justify_content": null,
            "justify_items": null,
            "left": null,
            "margin": null,
            "max_height": null,
            "max_width": null,
            "min_height": null,
            "min_width": null,
            "object_fit": null,
            "object_position": null,
            "order": null,
            "overflow": null,
            "overflow_x": null,
            "overflow_y": null,
            "padding": null,
            "right": null,
            "top": null,
            "visibility": null,
            "width": null
          }
        },
        "a0aa97fe6e114ed7bbf50b765afc4e04": {
          "model_module": "@jupyter-widgets/controls",
          "model_name": "DescriptionStyleModel",
          "model_module_version": "1.5.0",
          "state": {
            "_model_module": "@jupyter-widgets/controls",
            "_model_module_version": "1.5.0",
            "_model_name": "DescriptionStyleModel",
            "_view_count": null,
            "_view_module": "@jupyter-widgets/base",
            "_view_module_version": "1.2.0",
            "_view_name": "StyleView",
            "description_width": ""
          }
        },
        "fd3a866e8bd048d1b103df5ff4bb97e8": {
          "model_module": "@jupyter-widgets/controls",
          "model_name": "HBoxModel",
          "model_module_version": "1.5.0",
          "state": {
            "_dom_classes": [],
            "_model_module": "@jupyter-widgets/controls",
            "_model_module_version": "1.5.0",
            "_model_name": "HBoxModel",
            "_view_count": null,
            "_view_module": "@jupyter-widgets/controls",
            "_view_module_version": "1.5.0",
            "_view_name": "HBoxView",
            "box_style": "",
            "children": [
              "IPY_MODEL_f15d34b6a87242b486acf64b98ca2a21",
              "IPY_MODEL_0add945b73334e009fcc3c29a2774299",
              "IPY_MODEL_803078b9c2a94d3d9fb5d793791477d7"
            ],
            "layout": "IPY_MODEL_0caf3d55cdf64e1d830906224f62a2bc"
          }
        },
        "f15d34b6a87242b486acf64b98ca2a21": {
          "model_module": "@jupyter-widgets/controls",
          "model_name": "HTMLModel",
          "model_module_version": "1.5.0",
          "state": {
            "_dom_classes": [],
            "_model_module": "@jupyter-widgets/controls",
            "_model_module_version": "1.5.0",
            "_model_name": "HTMLModel",
            "_view_count": null,
            "_view_module": "@jupyter-widgets/controls",
            "_view_module_version": "1.5.0",
            "_view_name": "HTMLView",
            "description": "",
            "description_tooltip": null,
            "layout": "IPY_MODEL_6f586dbb377c4a9189f5ce0107159bed",
            "placeholder": "​",
            "style": "IPY_MODEL_8770334c5daa47bbb4c1a2546d77595c",
            "value": "100%"
          }
        },
        "0add945b73334e009fcc3c29a2774299": {
          "model_module": "@jupyter-widgets/controls",
          "model_name": "FloatProgressModel",
          "model_module_version": "1.5.0",
          "state": {
            "_dom_classes": [],
            "_model_module": "@jupyter-widgets/controls",
            "_model_module_version": "1.5.0",
            "_model_name": "FloatProgressModel",
            "_view_count": null,
            "_view_module": "@jupyter-widgets/controls",
            "_view_module_version": "1.5.0",
            "_view_name": "ProgressView",
            "bar_style": "success",
            "description": "",
            "description_tooltip": null,
            "layout": "IPY_MODEL_c750205ffff54244a5185c86842f9c49",
            "max": 200,
            "min": 0,
            "orientation": "horizontal",
            "style": "IPY_MODEL_f9b233d94982418b924329f69367f44b",
            "value": 200
          }
        },
        "803078b9c2a94d3d9fb5d793791477d7": {
          "model_module": "@jupyter-widgets/controls",
          "model_name": "HTMLModel",
          "model_module_version": "1.5.0",
          "state": {
            "_dom_classes": [],
            "_model_module": "@jupyter-widgets/controls",
            "_model_module_version": "1.5.0",
            "_model_name": "HTMLModel",
            "_view_count": null,
            "_view_module": "@jupyter-widgets/controls",
            "_view_module_version": "1.5.0",
            "_view_name": "HTMLView",
            "description": "",
            "description_tooltip": null,
            "layout": "IPY_MODEL_059383148a81410e842a86d734a6344f",
            "placeholder": "​",
            "style": "IPY_MODEL_144c4a1b139f4f50adbe7d9445c36a96",
            "value": " 200/200 [00:01&lt;00:00, 179.76it/s]"
          }
        },
        "0caf3d55cdf64e1d830906224f62a2bc": {
          "model_module": "@jupyter-widgets/base",
          "model_name": "LayoutModel",
          "model_module_version": "1.2.0",
          "state": {
            "_model_module": "@jupyter-widgets/base",
            "_model_module_version": "1.2.0",
            "_model_name": "LayoutModel",
            "_view_count": null,
            "_view_module": "@jupyter-widgets/base",
            "_view_module_version": "1.2.0",
            "_view_name": "LayoutView",
            "align_content": null,
            "align_items": null,
            "align_self": null,
            "border": null,
            "bottom": null,
            "display": null,
            "flex": null,
            "flex_flow": null,
            "grid_area": null,
            "grid_auto_columns": null,
            "grid_auto_flow": null,
            "grid_auto_rows": null,
            "grid_column": null,
            "grid_gap": null,
            "grid_row": null,
            "grid_template_areas": null,
            "grid_template_columns": null,
            "grid_template_rows": null,
            "height": null,
            "justify_content": null,
            "justify_items": null,
            "left": null,
            "margin": null,
            "max_height": null,
            "max_width": null,
            "min_height": null,
            "min_width": null,
            "object_fit": null,
            "object_position": null,
            "order": null,
            "overflow": null,
            "overflow_x": null,
            "overflow_y": null,
            "padding": null,
            "right": null,
            "top": null,
            "visibility": null,
            "width": null
          }
        },
        "6f586dbb377c4a9189f5ce0107159bed": {
          "model_module": "@jupyter-widgets/base",
          "model_name": "LayoutModel",
          "model_module_version": "1.2.0",
          "state": {
            "_model_module": "@jupyter-widgets/base",
            "_model_module_version": "1.2.0",
            "_model_name": "LayoutModel",
            "_view_count": null,
            "_view_module": "@jupyter-widgets/base",
            "_view_module_version": "1.2.0",
            "_view_name": "LayoutView",
            "align_content": null,
            "align_items": null,
            "align_self": null,
            "border": null,
            "bottom": null,
            "display": null,
            "flex": null,
            "flex_flow": null,
            "grid_area": null,
            "grid_auto_columns": null,
            "grid_auto_flow": null,
            "grid_auto_rows": null,
            "grid_column": null,
            "grid_gap": null,
            "grid_row": null,
            "grid_template_areas": null,
            "grid_template_columns": null,
            "grid_template_rows": null,
            "height": null,
            "justify_content": null,
            "justify_items": null,
            "left": null,
            "margin": null,
            "max_height": null,
            "max_width": null,
            "min_height": null,
            "min_width": null,
            "object_fit": null,
            "object_position": null,
            "order": null,
            "overflow": null,
            "overflow_x": null,
            "overflow_y": null,
            "padding": null,
            "right": null,
            "top": null,
            "visibility": null,
            "width": null
          }
        },
        "8770334c5daa47bbb4c1a2546d77595c": {
          "model_module": "@jupyter-widgets/controls",
          "model_name": "DescriptionStyleModel",
          "model_module_version": "1.5.0",
          "state": {
            "_model_module": "@jupyter-widgets/controls",
            "_model_module_version": "1.5.0",
            "_model_name": "DescriptionStyleModel",
            "_view_count": null,
            "_view_module": "@jupyter-widgets/base",
            "_view_module_version": "1.2.0",
            "_view_name": "StyleView",
            "description_width": ""
          }
        },
        "c750205ffff54244a5185c86842f9c49": {
          "model_module": "@jupyter-widgets/base",
          "model_name": "LayoutModel",
          "model_module_version": "1.2.0",
          "state": {
            "_model_module": "@jupyter-widgets/base",
            "_model_module_version": "1.2.0",
            "_model_name": "LayoutModel",
            "_view_count": null,
            "_view_module": "@jupyter-widgets/base",
            "_view_module_version": "1.2.0",
            "_view_name": "LayoutView",
            "align_content": null,
            "align_items": null,
            "align_self": null,
            "border": null,
            "bottom": null,
            "display": null,
            "flex": null,
            "flex_flow": null,
            "grid_area": null,
            "grid_auto_columns": null,
            "grid_auto_flow": null,
            "grid_auto_rows": null,
            "grid_column": null,
            "grid_gap": null,
            "grid_row": null,
            "grid_template_areas": null,
            "grid_template_columns": null,
            "grid_template_rows": null,
            "height": null,
            "justify_content": null,
            "justify_items": null,
            "left": null,
            "margin": null,
            "max_height": null,
            "max_width": null,
            "min_height": null,
            "min_width": null,
            "object_fit": null,
            "object_position": null,
            "order": null,
            "overflow": null,
            "overflow_x": null,
            "overflow_y": null,
            "padding": null,
            "right": null,
            "top": null,
            "visibility": null,
            "width": null
          }
        },
        "f9b233d94982418b924329f69367f44b": {
          "model_module": "@jupyter-widgets/controls",
          "model_name": "ProgressStyleModel",
          "model_module_version": "1.5.0",
          "state": {
            "_model_module": "@jupyter-widgets/controls",
            "_model_module_version": "1.5.0",
            "_model_name": "ProgressStyleModel",
            "_view_count": null,
            "_view_module": "@jupyter-widgets/base",
            "_view_module_version": "1.2.0",
            "_view_name": "StyleView",
            "bar_color": null,
            "description_width": ""
          }
        },
        "059383148a81410e842a86d734a6344f": {
          "model_module": "@jupyter-widgets/base",
          "model_name": "LayoutModel",
          "model_module_version": "1.2.0",
          "state": {
            "_model_module": "@jupyter-widgets/base",
            "_model_module_version": "1.2.0",
            "_model_name": "LayoutModel",
            "_view_count": null,
            "_view_module": "@jupyter-widgets/base",
            "_view_module_version": "1.2.0",
            "_view_name": "LayoutView",
            "align_content": null,
            "align_items": null,
            "align_self": null,
            "border": null,
            "bottom": null,
            "display": null,
            "flex": null,
            "flex_flow": null,
            "grid_area": null,
            "grid_auto_columns": null,
            "grid_auto_flow": null,
            "grid_auto_rows": null,
            "grid_column": null,
            "grid_gap": null,
            "grid_row": null,
            "grid_template_areas": null,
            "grid_template_columns": null,
            "grid_template_rows": null,
            "height": null,
            "justify_content": null,
            "justify_items": null,
            "left": null,
            "margin": null,
            "max_height": null,
            "max_width": null,
            "min_height": null,
            "min_width": null,
            "object_fit": null,
            "object_position": null,
            "order": null,
            "overflow": null,
            "overflow_x": null,
            "overflow_y": null,
            "padding": null,
            "right": null,
            "top": null,
            "visibility": null,
            "width": null
          }
        },
        "144c4a1b139f4f50adbe7d9445c36a96": {
          "model_module": "@jupyter-widgets/controls",
          "model_name": "DescriptionStyleModel",
          "model_module_version": "1.5.0",
          "state": {
            "_model_module": "@jupyter-widgets/controls",
            "_model_module_version": "1.5.0",
            "_model_name": "DescriptionStyleModel",
            "_view_count": null,
            "_view_module": "@jupyter-widgets/base",
            "_view_module_version": "1.2.0",
            "_view_name": "StyleView",
            "description_width": ""
          }
        },
        "e837c2d78595496a9cf6bfb4151df9a4": {
          "model_module": "@jupyter-widgets/controls",
          "model_name": "HBoxModel",
          "model_module_version": "1.5.0",
          "state": {
            "_dom_classes": [],
            "_model_module": "@jupyter-widgets/controls",
            "_model_module_version": "1.5.0",
            "_model_name": "HBoxModel",
            "_view_count": null,
            "_view_module": "@jupyter-widgets/controls",
            "_view_module_version": "1.5.0",
            "_view_name": "HBoxView",
            "box_style": "",
            "children": [
              "IPY_MODEL_837ca6d1c5704a37b8152b05980629cb",
              "IPY_MODEL_de510d3aecb74bb4b363640010035222",
              "IPY_MODEL_39309dff8db346dfaef3d4ec515309a3"
            ],
            "layout": "IPY_MODEL_9cc94badd06e45dd86b472b940b729df"
          }
        },
        "837ca6d1c5704a37b8152b05980629cb": {
          "model_module": "@jupyter-widgets/controls",
          "model_name": "HTMLModel",
          "model_module_version": "1.5.0",
          "state": {
            "_dom_classes": [],
            "_model_module": "@jupyter-widgets/controls",
            "_model_module_version": "1.5.0",
            "_model_name": "HTMLModel",
            "_view_count": null,
            "_view_module": "@jupyter-widgets/controls",
            "_view_module_version": "1.5.0",
            "_view_name": "HTMLView",
            "description": "",
            "description_tooltip": null,
            "layout": "IPY_MODEL_1dccb06407e8444aa1e0d01d184133a9",
            "placeholder": "​",
            "style": "IPY_MODEL_178260f6a7134d0e8d9464cb8984bf11",
            "value": "100%"
          }
        },
        "de510d3aecb74bb4b363640010035222": {
          "model_module": "@jupyter-widgets/controls",
          "model_name": "FloatProgressModel",
          "model_module_version": "1.5.0",
          "state": {
            "_dom_classes": [],
            "_model_module": "@jupyter-widgets/controls",
            "_model_module_version": "1.5.0",
            "_model_name": "FloatProgressModel",
            "_view_count": null,
            "_view_module": "@jupyter-widgets/controls",
            "_view_module_version": "1.5.0",
            "_view_name": "ProgressView",
            "bar_style": "success",
            "description": "",
            "description_tooltip": null,
            "layout": "IPY_MODEL_66ea049ec495454b990ff9b3f8dcbcf8",
            "max": 20,
            "min": 0,
            "orientation": "horizontal",
            "style": "IPY_MODEL_6dbf972782844619873bcd0fa3772ead",
            "value": 20
          }
        },
        "39309dff8db346dfaef3d4ec515309a3": {
          "model_module": "@jupyter-widgets/controls",
          "model_name": "HTMLModel",
          "model_module_version": "1.5.0",
          "state": {
            "_dom_classes": [],
            "_model_module": "@jupyter-widgets/controls",
            "_model_module_version": "1.5.0",
            "_model_name": "HTMLModel",
            "_view_count": null,
            "_view_module": "@jupyter-widgets/controls",
            "_view_module_version": "1.5.0",
            "_view_name": "HTMLView",
            "description": "",
            "description_tooltip": null,
            "layout": "IPY_MODEL_8e12430ca43647e38d7c9e2140ee918d",
            "placeholder": "​",
            "style": "IPY_MODEL_98670600e6734fb9a3e61f56a644d2f8",
            "value": " 20/20 [00:01&lt;00:00, 10.90it/s]"
          }
        },
        "9cc94badd06e45dd86b472b940b729df": {
          "model_module": "@jupyter-widgets/base",
          "model_name": "LayoutModel",
          "model_module_version": "1.2.0",
          "state": {
            "_model_module": "@jupyter-widgets/base",
            "_model_module_version": "1.2.0",
            "_model_name": "LayoutModel",
            "_view_count": null,
            "_view_module": "@jupyter-widgets/base",
            "_view_module_version": "1.2.0",
            "_view_name": "LayoutView",
            "align_content": null,
            "align_items": null,
            "align_self": null,
            "border": null,
            "bottom": null,
            "display": null,
            "flex": null,
            "flex_flow": null,
            "grid_area": null,
            "grid_auto_columns": null,
            "grid_auto_flow": null,
            "grid_auto_rows": null,
            "grid_column": null,
            "grid_gap": null,
            "grid_row": null,
            "grid_template_areas": null,
            "grid_template_columns": null,
            "grid_template_rows": null,
            "height": null,
            "justify_content": null,
            "justify_items": null,
            "left": null,
            "margin": null,
            "max_height": null,
            "max_width": null,
            "min_height": null,
            "min_width": null,
            "object_fit": null,
            "object_position": null,
            "order": null,
            "overflow": null,
            "overflow_x": null,
            "overflow_y": null,
            "padding": null,
            "right": null,
            "top": null,
            "visibility": null,
            "width": null
          }
        },
        "1dccb06407e8444aa1e0d01d184133a9": {
          "model_module": "@jupyter-widgets/base",
          "model_name": "LayoutModel",
          "model_module_version": "1.2.0",
          "state": {
            "_model_module": "@jupyter-widgets/base",
            "_model_module_version": "1.2.0",
            "_model_name": "LayoutModel",
            "_view_count": null,
            "_view_module": "@jupyter-widgets/base",
            "_view_module_version": "1.2.0",
            "_view_name": "LayoutView",
            "align_content": null,
            "align_items": null,
            "align_self": null,
            "border": null,
            "bottom": null,
            "display": null,
            "flex": null,
            "flex_flow": null,
            "grid_area": null,
            "grid_auto_columns": null,
            "grid_auto_flow": null,
            "grid_auto_rows": null,
            "grid_column": null,
            "grid_gap": null,
            "grid_row": null,
            "grid_template_areas": null,
            "grid_template_columns": null,
            "grid_template_rows": null,
            "height": null,
            "justify_content": null,
            "justify_items": null,
            "left": null,
            "margin": null,
            "max_height": null,
            "max_width": null,
            "min_height": null,
            "min_width": null,
            "object_fit": null,
            "object_position": null,
            "order": null,
            "overflow": null,
            "overflow_x": null,
            "overflow_y": null,
            "padding": null,
            "right": null,
            "top": null,
            "visibility": null,
            "width": null
          }
        },
        "178260f6a7134d0e8d9464cb8984bf11": {
          "model_module": "@jupyter-widgets/controls",
          "model_name": "DescriptionStyleModel",
          "model_module_version": "1.5.0",
          "state": {
            "_model_module": "@jupyter-widgets/controls",
            "_model_module_version": "1.5.0",
            "_model_name": "DescriptionStyleModel",
            "_view_count": null,
            "_view_module": "@jupyter-widgets/base",
            "_view_module_version": "1.2.0",
            "_view_name": "StyleView",
            "description_width": ""
          }
        },
        "66ea049ec495454b990ff9b3f8dcbcf8": {
          "model_module": "@jupyter-widgets/base",
          "model_name": "LayoutModel",
          "model_module_version": "1.2.0",
          "state": {
            "_model_module": "@jupyter-widgets/base",
            "_model_module_version": "1.2.0",
            "_model_name": "LayoutModel",
            "_view_count": null,
            "_view_module": "@jupyter-widgets/base",
            "_view_module_version": "1.2.0",
            "_view_name": "LayoutView",
            "align_content": null,
            "align_items": null,
            "align_self": null,
            "border": null,
            "bottom": null,
            "display": null,
            "flex": null,
            "flex_flow": null,
            "grid_area": null,
            "grid_auto_columns": null,
            "grid_auto_flow": null,
            "grid_auto_rows": null,
            "grid_column": null,
            "grid_gap": null,
            "grid_row": null,
            "grid_template_areas": null,
            "grid_template_columns": null,
            "grid_template_rows": null,
            "height": null,
            "justify_content": null,
            "justify_items": null,
            "left": null,
            "margin": null,
            "max_height": null,
            "max_width": null,
            "min_height": null,
            "min_width": null,
            "object_fit": null,
            "object_position": null,
            "order": null,
            "overflow": null,
            "overflow_x": null,
            "overflow_y": null,
            "padding": null,
            "right": null,
            "top": null,
            "visibility": null,
            "width": null
          }
        },
        "6dbf972782844619873bcd0fa3772ead": {
          "model_module": "@jupyter-widgets/controls",
          "model_name": "ProgressStyleModel",
          "model_module_version": "1.5.0",
          "state": {
            "_model_module": "@jupyter-widgets/controls",
            "_model_module_version": "1.5.0",
            "_model_name": "ProgressStyleModel",
            "_view_count": null,
            "_view_module": "@jupyter-widgets/base",
            "_view_module_version": "1.2.0",
            "_view_name": "StyleView",
            "bar_color": null,
            "description_width": ""
          }
        },
        "8e12430ca43647e38d7c9e2140ee918d": {
          "model_module": "@jupyter-widgets/base",
          "model_name": "LayoutModel",
          "model_module_version": "1.2.0",
          "state": {
            "_model_module": "@jupyter-widgets/base",
            "_model_module_version": "1.2.0",
            "_model_name": "LayoutModel",
            "_view_count": null,
            "_view_module": "@jupyter-widgets/base",
            "_view_module_version": "1.2.0",
            "_view_name": "LayoutView",
            "align_content": null,
            "align_items": null,
            "align_self": null,
            "border": null,
            "bottom": null,
            "display": null,
            "flex": null,
            "flex_flow": null,
            "grid_area": null,
            "grid_auto_columns": null,
            "grid_auto_flow": null,
            "grid_auto_rows": null,
            "grid_column": null,
            "grid_gap": null,
            "grid_row": null,
            "grid_template_areas": null,
            "grid_template_columns": null,
            "grid_template_rows": null,
            "height": null,
            "justify_content": null,
            "justify_items": null,
            "left": null,
            "margin": null,
            "max_height": null,
            "max_width": null,
            "min_height": null,
            "min_width": null,
            "object_fit": null,
            "object_position": null,
            "order": null,
            "overflow": null,
            "overflow_x": null,
            "overflow_y": null,
            "padding": null,
            "right": null,
            "top": null,
            "visibility": null,
            "width": null
          }
        },
        "98670600e6734fb9a3e61f56a644d2f8": {
          "model_module": "@jupyter-widgets/controls",
          "model_name": "DescriptionStyleModel",
          "model_module_version": "1.5.0",
          "state": {
            "_model_module": "@jupyter-widgets/controls",
            "_model_module_version": "1.5.0",
            "_model_name": "DescriptionStyleModel",
            "_view_count": null,
            "_view_module": "@jupyter-widgets/base",
            "_view_module_version": "1.2.0",
            "_view_name": "StyleView",
            "description_width": ""
          }
        }
      }
    }
  },
  "cells": [
    {
      "cell_type": "markdown",
      "metadata": {
        "id": "view-in-github",
        "colab_type": "text"
      },
      "source": [
        "<a href=\"https://colab.research.google.com/github/m-mehabadi/grad-maker/blob/main/_notebooks/UniversalAttackGenerator.ipynb\" target=\"_parent\"><img src=\"https://colab.research.google.com/assets/colab-badge.svg\" alt=\"Open In Colab\"/></a>"
      ]
    },
    {
      "cell_type": "markdown",
      "source": [
        "\n",
        "Areas:\n",
        "* Domain Generalization in Classification\n",
        "* Domain Generalization in Mitosis Detection\n",
        "* Universal Adversarial Example Generator\n",
        "* An Aproach to Optimize Robustness and Performance Simultaneously\n",
        "* Multi-Tasking using GradMaker\n",
        "* Applications in Federated Learning\n"
      ],
      "metadata": {
        "id": "E8WgzonygTWZ"
      }
    },
    {
      "cell_type": "code",
      "source": [
        "!pip install tqdm"
      ],
      "metadata": {
        "colab": {
          "base_uri": "https://localhost:8080/"
        },
        "id": "NRZoZuVybfin",
        "outputId": "93d3bce2-3668-41e8-8c9d-4da91146c477"
      },
      "execution_count": 27,
      "outputs": [
        {
          "output_type": "stream",
          "name": "stdout",
          "text": [
            "Looking in indexes: https://pypi.org/simple, https://us-python.pkg.dev/colab-wheels/public/simple/\n",
            "Requirement already satisfied: tqdm in /usr/local/lib/python3.7/dist-packages (4.64.0)\n"
          ]
        }
      ]
    },
    {
      "cell_type": "code",
      "execution_count": 28,
      "metadata": {
        "id": "iJMQ7eV0h8OH"
      },
      "outputs": [],
      "source": [
        "import torch\n",
        "import torch.nn as nn\n",
        "import torchvision\n",
        "import torchvision.datasets\n",
        "import torchvision.transforms as transforms\n",
        "import matplotlib.pyplot as plt\n",
        "import numpy as np\n",
        "\n",
        "import gc\n",
        "import torch.nn.functional as F\n",
        "from torch.autograd import Variable\n",
        "\n",
        "from tqdm.auto import tqdm"
      ]
    },
    {
      "cell_type": "code",
      "source": [
        "# config\n",
        "device = torch.device('cuda') if torch.cuda.is_available() else torch.device('cpu')\n",
        "\n",
        "# Param\n",
        "num_epochs = 10\n",
        "num_classes = 10\n",
        "batch_size = 200\n",
        "learning_rate = 0.001"
      ],
      "metadata": {
        "id": "u74EILoTirev"
      },
      "execution_count": 29,
      "outputs": []
    },
    {
      "cell_type": "code",
      "source": [
        "# MNIST datasets\n",
        "train_dataset = torchvision.datasets.MNIST(root='./', train=True, transform=transforms.ToTensor(), download=True)\n",
        "test_dataset = torchvision.datasets.MNIST(root='./', train=False, transform=transforms.ToTensor(), download=True)\n",
        "\n",
        "# MNIST dataloaders\n",
        "train_loader = torch.utils.data.DataLoader(dataset=train_dataset, batch_size=batch_size, shuffle=True)\n",
        "test_loader = torch.utils.data.DataLoader(dataset=test_dataset, batch_size=batch_size, shuffle=False)"
      ],
      "metadata": {
        "id": "wArywMbNix04"
      },
      "execution_count": 30,
      "outputs": []
    },
    {
      "cell_type": "code",
      "source": [
        "# CNN(two layer)\n",
        "class ConvNet(nn.Module):\n",
        "    def __init__(self, num_classes=10):\n",
        "        super(ConvNet, self).__init__()\n",
        "        self.layer1 = nn.Sequential(\n",
        "            nn.Conv2d(1, 16, kernel_size=5, stride=1, padding=2),\n",
        "            nn.BatchNorm2d(16),\n",
        "            nn.ReLU(),\n",
        "            nn.MaxPool2d(kernel_size=2, stride=2))\n",
        "        self.layer2 = nn.Sequential(\n",
        "            nn.Conv2d(16, 32, kernel_size=5, stride=1, padding=2),\n",
        "            nn.BatchNorm2d(32),\n",
        "            nn.ReLU(),\n",
        "            nn.MaxPool2d(kernel_size=2, stride=2))\n",
        "        self.fc = nn.Linear(7 * 7 * 32, num_classes)\n",
        "\n",
        "    def forward(self, x):\n",
        "        out = self.layer1(x)\n",
        "        out = self.layer2(out)\n",
        "        out = out.reshape(out.size(0), -1)\n",
        "        out = self.fc(out)\n",
        "        return out"
      ],
      "metadata": {
        "id": "zj9hJEY-iYaD"
      },
      "execution_count": 31,
      "outputs": []
    },
    {
      "cell_type": "code",
      "source": [
        "def validate(model, dloader, pert=None, is_batched=True):\n",
        "    model.eval()\n",
        "    correct = 0\n",
        "    total = 0\n",
        "    pert_ = pert(model, dloader) if (not is_batched) and (pert is not None) else None\n",
        "    for i, (images, labels) in enumerate(tqdm(dloader)):\n",
        "        images = images.to(device)\n",
        "        labels = labels.to(device)\n",
        "        \n",
        "        #\n",
        "        if pert is not None:\n",
        "            images = Variable(images.clone(), requires_grad=True)\n",
        "            pert_ = pert(model, images, labels) if is_batched else pert_\n",
        "            images = images.data.detach() + pert_.data.detach()\n",
        "        #\n",
        "        outputs = model(images)\n",
        "        _, predicted = torch.max(outputs.data, 1)\n",
        "        total += labels.size(0)\n",
        "        correct += (predicted == labels).sum().item()\n",
        "\n",
        "        #\n",
        "        # print(f\"Batch {i}/{len(dloader)}, processed.\")\n",
        "\n",
        "        gc_collect(pert_, images, labels, outputs, predicted, _)\n",
        "        empty_cache()\n",
        "    return (100 * correct / total)"
      ],
      "metadata": {
        "id": "xbwHn38JktUM"
      },
      "execution_count": 32,
      "outputs": []
    },
    {
      "cell_type": "code",
      "source": [
        "def gc_collect(*vars):\n",
        "    for var in vars:\n",
        "        del var\n",
        "    gc.collect()\n",
        "\n",
        "def empty_cache():\n",
        "    torch.cuda.empty_cache()"
      ],
      "metadata": {
        "id": "JOMa4bXAqURa"
      },
      "execution_count": 33,
      "outputs": []
    },
    {
      "cell_type": "code",
      "source": [
        "model = ConvNet(num_classes).to(device)\n",
        "\n",
        "# Loss and optimize\n",
        "criterion = nn.CrossEntropyLoss()\n",
        "optimizer = torch.optim.Adam(model.parameters(), lr=learning_rate)\n",
        "\n",
        "# Train\n",
        "model.train()\n",
        "total_step = len(train_loader)\n",
        "for epoch in tqdm(range(num_epochs)):\n",
        "    for i, (images, labels) in enumerate(train_loader):\n",
        "        images = images.to(device)\n",
        "        labels = labels.to(device)\n",
        "\n",
        "        # Forward pass\n",
        "        outputs = model(images)\n",
        "        loss = criterion(outputs, labels)\n",
        "\n",
        "        # Backprop and optimize\n",
        "        optimizer.zero_grad()\n",
        "        loss.backward()\n",
        "        optimizer.step()\n",
        "\n",
        "        # if (i + 1) % 100 == 0:\n",
        "        #     print (f'Epoch [{epoch + 1}/{num_epochs}], Step [{i + 1}/{total_step}], Training Loss: {loss.item():.4f}')\n",
        "\n",
        "# Test the model\n",
        "print(f'Model Accuracy on the 10000 test images: {validate(model, test_loader):.4f} %')"
      ],
      "metadata": {
        "id": "8oNT6HY4i95Q",
        "colab": {
          "base_uri": "https://localhost:8080/",
          "height": 98,
          "referenced_widgets": [
            "5c6b7f1d541743c7bc341f3efb92e380",
            "b0998cc565cf451aa8456ab044e9454b",
            "1764844b594144a081d5d2161d094335",
            "c2a50c1c80a64d7aa48bef5adc18285e",
            "5147a6e36c434cf48de6cd115c16aded",
            "cf3151404f14447091b5aa60b01e30c6",
            "6395ee273f774f96bfbe4b1a29bb6d22",
            "8c9a98893faa46f8aa68d02475207bbd",
            "59702565432f4dc896ef80b43cfed63a",
            "1eaf31340fa64c95965417ff5c951a6e",
            "e676215fe55d45c689c694acbcda7111",
            "23183e9d2b024d1d9f313e70881f133b",
            "2394156a9e4a47be84bd9a1b403d0a47",
            "02187a2cdb2d4f0aa0e58a1e3b5ee092",
            "8ebe8a5dd036470b94fb7cc46c566b74",
            "f3a1111f4c5f4917b90d5de50ea86fce",
            "85e0ff8cb3914d01a19f530fd56dd61f",
            "d68c3e4b93d84b7eaf13aadb088b28b8",
            "3abe5fae20184c15b11da824d6d567b2",
            "7ad9793ab3d84a30b2b1a7a75f94c656",
            "8ea9d6cf3c834a7fa978e9db29f7dd3e",
            "a0aa97fe6e114ed7bbf50b765afc4e04"
          ]
        },
        "outputId": "ab6b0e7d-3123-4f46-d58d-d02c6e2c51d8"
      },
      "execution_count": 34,
      "outputs": [
        {
          "output_type": "display_data",
          "data": {
            "text/plain": [
              "  0%|          | 0/10 [00:00<?, ?it/s]"
            ],
            "application/vnd.jupyter.widget-view+json": {
              "version_major": 2,
              "version_minor": 0,
              "model_id": "5c6b7f1d541743c7bc341f3efb92e380"
            }
          },
          "metadata": {}
        },
        {
          "output_type": "display_data",
          "data": {
            "text/plain": [
              "  0%|          | 0/50 [00:00<?, ?it/s]"
            ],
            "application/vnd.jupyter.widget-view+json": {
              "version_major": 2,
              "version_minor": 0,
              "model_id": "23183e9d2b024d1d9f313e70881f133b"
            }
          },
          "metadata": {}
        },
        {
          "output_type": "stream",
          "name": "stdout",
          "text": [
            "Model Accuracy on the 10000 test images: 98.5900 %\n"
          ]
        }
      ]
    },
    {
      "cell_type": "markdown",
      "source": [
        "### Now let's generate the attack\n"
      ],
      "metadata": {
        "id": "1Gu0Na3Cm17K"
      }
    },
    {
      "cell_type": "code",
      "source": [
        "def adv_clip(adv, real, alpha=0):\n",
        "    return torch.clamp(adv, min=torch.clamp(real-alpha, min=0.),\n",
        "                       max=torch.clamp(real+alpha, max=1.))"
      ],
      "metadata": {
        "id": "EZRHHYGPtooo"
      },
      "execution_count": 35,
      "outputs": []
    },
    {
      "cell_type": "code",
      "source": [
        "def accuracy(model, X, y):\n",
        "    outputs = model(X)\n",
        "    _, predicted = torch.max(outputs.data, 1)\n",
        "    total = y.size(0)\n",
        "    correct = (predicted == y).sum().item()\n",
        "    return correct / total"
      ],
      "metadata": {
        "id": "Cd_ila4WwHzG"
      },
      "execution_count": 36,
      "outputs": []
    },
    {
      "cell_type": "code",
      "source": [
        "def gradient_maker(grads):\n",
        "\n",
        "    from numpy import linalg as la\n",
        "\n",
        "    def nearestPD(A):\n",
        "\n",
        "        B = (A + A.T) / 2\n",
        "        _, s, V = la.svd(B)\n",
        "\n",
        "        H = np.dot(V.T, np.dot(np.diag(s), V))\n",
        "\n",
        "        A2 = (B + H) / 2\n",
        "\n",
        "        A3 = (A2 + A2.T) / 2\n",
        "\n",
        "        if isPD(A3):\n",
        "            return A3\n",
        "\n",
        "        spacing = np.spacing(la.norm(A))\n",
        "        \n",
        "        I = np.eye(A.shape[0])\n",
        "        k = 1\n",
        "        while not isPD(A3):\n",
        "            mineig = np.min(np.real(la.eigvals(A3)))\n",
        "            A3 += I * (-mineig * k**2 + spacing)\n",
        "            k += 1\n",
        "\n",
        "        return A3\n",
        "\n",
        "\n",
        "    def isPD(B):\n",
        "        try:\n",
        "            _ = la.cholesky(B)\n",
        "            return True\n",
        "        except la.LinAlgError:\n",
        "            return False\n",
        "\n",
        "    #\n",
        "    G = grads.T\n",
        "    n, d = grads.shape\n",
        "\n",
        "    #\n",
        "    A = G.T@G\n",
        "    A_inv = la.inv(nearestPD(A))\n",
        "    s = np.ones(n)\n",
        "    g = G@A_inv@s\n",
        "    # g *= (np.mean(la.norm(G.T, axis=1))/la.norm(g))\n",
        "\n",
        "    return g"
      ],
      "metadata": {
        "id": "oVDqfyKuA6Bu"
      },
      "execution_count": 57,
      "outputs": []
    },
    {
      "cell_type": "code",
      "source": [
        "def dX(model, X, y):\n",
        "    X = Variable(X.data, requires_grad=True)\n",
        "    outputs = model(X)\n",
        "    loss = F.cross_entropy(outputs, y)\n",
        "    loss.backward()\n",
        "    return X.grad.data.clone()"
      ],
      "metadata": {
        "id": "AMvW44JI2HO7"
      },
      "execution_count": 38,
      "outputs": []
    },
    {
      "cell_type": "markdown",
      "source": [
        "## Testcases \n",
        "Let's first define some globals:"
      ],
      "metadata": {
        "id": "ZF8-ObhKsjkH"
      }
    },
    {
      "cell_type": "code",
      "source": [
        "def imshow(X, index):\n",
        "    plt.imshow(X[index,0].cpu().detach().numpy(), cmap='gray')\n",
        "    plt.show()"
      ],
      "metadata": {
        "id": "u-kK4LCerS6B"
      },
      "execution_count": 39,
      "outputs": []
    },
    {
      "cell_type": "code",
      "source": [
        "eps = 0.1\n",
        "steps = 20\n",
        "alpha = eps/(0.75*steps)"
      ],
      "metadata": {
        "id": "eHX6o5krsu5v"
      },
      "execution_count": 40,
      "outputs": []
    },
    {
      "cell_type": "code",
      "source": [
        "X, y = next(iter(test_loader))\n",
        "X, y = X.to(device), y.to(device)"
      ],
      "metadata": {
        "id": "ozzGyXXYpqmP"
      },
      "execution_count": 41,
      "outputs": []
    },
    {
      "cell_type": "markdown",
      "source": [
        "### Testcase 1\n",
        "Let's see the effeciency of FGSM **attacks**"
      ],
      "metadata": {
        "id": "IUjBQTjvpMtP"
      }
    },
    {
      "cell_type": "code",
      "source": [
        "def fgsm(model, X, y, eps=0.1):\n",
        "    advs = X + eps * torch.sign(dX(model, X, y))\n",
        "    return adv_clip(advs, X, alpha=eps)"
      ],
      "metadata": {
        "id": "lPn194V9pKzX"
      },
      "execution_count": 42,
      "outputs": []
    },
    {
      "cell_type": "code",
      "source": [
        "imshow(fgsm(model, X, y, eps), 0)\n",
        "print(accuracy(model, fgsm(model, X, y, eps), y))"
      ],
      "metadata": {
        "colab": {
          "base_uri": "https://localhost:8080/",
          "height": 282
        },
        "id": "UaXiRo7oqLjC",
        "outputId": "1ea6932e-74f5-43d0-b177-9aac8994c695"
      },
      "execution_count": 43,
      "outputs": [
        {
          "output_type": "display_data",
          "data": {
            "text/plain": [
              "<Figure size 432x288 with 1 Axes>"
            ],
            "image/png": "[encoded data removed]"
          },
          "metadata": {
            "needs_background": "light"
          }
        },
        {
          "output_type": "stream",
          "name": "stdout",
          "text": [
            "0.215\n"
          ]
        }
      ]
    },
    {
      "cell_type": "code",
      "source": [
        "imshow(fgsm(model, X, y, alpha), 0)\n",
        "print(accuracy(model, fgsm(model, X, y, alpha), y))"
      ],
      "metadata": {
        "colab": {
          "base_uri": "https://localhost:8080/",
          "height": 282
        },
        "id": "f5G2foxaqpOg",
        "outputId": "114b8075-1df1-403d-ee55-9bd5df1c6e58"
      },
      "execution_count": 44,
      "outputs": [
        {
          "output_type": "display_data",
          "data": {
            "text/plain": [
              "<Figure size 432x288 with 1 Axes>"
            ],
            "image/png": "[encoded data removed]"
          },
          "metadata": {
            "needs_background": "light"
          }
        },
        {
          "output_type": "stream",
          "name": "stdout",
          "text": [
            "0.985\n"
          ]
        }
      ]
    },
    {
      "cell_type": "markdown",
      "source": [
        "### Testcase 2\n",
        "\n",
        "Let's see the efficiency of gradient maker in producing a simple one-step universal attack"
      ],
      "metadata": {
        "id": "c_X4PEjFq2UG"
      }
    },
    {
      "cell_type": "code",
      "source": [
        "def univ_1(model, X, y, eps=0.1):\n",
        "    X_grad = dX(model, X, y).cpu().detach().numpy().reshape(X.shape[0], -1)\n",
        "    onegrad = torch.from_numpy(gradient_maker(X_grad)).view(X.shape[1:]).to(device)\n",
        "    X_advs = adv_clip(X + eps * torch.sign(onegrad), X, eps)\n",
        "    return X_advs.type(torch.FloatTensor).to(device)"
      ],
      "metadata": {
        "id": "waaYXJX5q1wj"
      },
      "execution_count": 45,
      "outputs": []
    },
    {
      "cell_type": "code",
      "source": [
        "imshow(univ_1(model, X, y, eps), 0)\n",
        "print(accuracy(model, univ_1(model, X, y, eps), y))"
      ],
      "metadata": {
        "colab": {
          "base_uri": "https://localhost:8080/",
          "height": 282
        },
        "id": "zp9t1fzguFuw",
        "outputId": "21775794-3465-4c91-f7a5-81ba3aac4c61"
      },
      "execution_count": 46,
      "outputs": [
        {
          "output_type": "display_data",
          "data": {
            "text/plain": [
              "<Figure size 432x288 with 1 Axes>"
            ],
            "image/png": "[encoded data removed]"
          },
          "metadata": {
            "needs_background": "light"
          }
        },
        {
          "output_type": "stream",
          "name": "stdout",
          "text": [
            "0.885\n"
          ]
        }
      ]
    },
    {
      "cell_type": "code",
      "source": [
        "imshow(univ_1(model, X, y, alpha), 0)\n",
        "print(accuracy(model, univ_1(model, X, y, alpha), y))"
      ],
      "metadata": {
        "id": "lZfvNsOouIVQ",
        "colab": {
          "base_uri": "https://localhost:8080/",
          "height": 282
        },
        "outputId": "e5b4e91c-8d12-44b2-d15f-7e8f17bb9dd7"
      },
      "execution_count": 47,
      "outputs": [
        {
          "output_type": "display_data",
          "data": {
            "text/plain": [
              "<Figure size 432x288 with 1 Axes>"
            ],
            "image/png": "[encoded data removed]"
          },
          "metadata": {
            "needs_background": "light"
          }
        },
        {
          "output_type": "stream",
          "name": "stdout",
          "text": [
            "0.995\n"
          ]
        }
      ]
    },
    {
      "cell_type": "markdown",
      "source": [
        "Now, let's compare this with using simple fgsm as universal attack over the batch"
      ],
      "metadata": {
        "id": "BhL5yCCajgls"
      }
    },
    {
      "cell_type": "code",
      "source": [
        "accs = []\n",
        "for i in tqdm(range(X.shape[0])):\n",
        "    onegrad = torch.sign(dX(model, X, y))[i]\n",
        "    X_ = adv_clip(X + eps * onegrad, X, eps)\n",
        "    accs.append(accuracy(model, X_, y))\n",
        "np.mean(accs)"
      ],
      "metadata": {
        "id": "hsb7Weipj21s",
        "colab": {
          "base_uri": "https://localhost:8080/",
          "height": 66,
          "referenced_widgets": [
            "fd3a866e8bd048d1b103df5ff4bb97e8",
            "f15d34b6a87242b486acf64b98ca2a21",
            "0add945b73334e009fcc3c29a2774299",
            "803078b9c2a94d3d9fb5d793791477d7",
            "0caf3d55cdf64e1d830906224f62a2bc",
            "6f586dbb377c4a9189f5ce0107159bed",
            "8770334c5daa47bbb4c1a2546d77595c",
            "c750205ffff54244a5185c86842f9c49",
            "f9b233d94982418b924329f69367f44b",
            "059383148a81410e842a86d734a6344f",
            "144c4a1b139f4f50adbe7d9445c36a96"
          ]
        },
        "outputId": "fb1e4cee-b623-4c1b-b9f4-9e6e4a5a9984"
      },
      "execution_count": 48,
      "outputs": [
        {
          "output_type": "display_data",
          "data": {
            "text/plain": [
              "  0%|          | 0/200 [00:00<?, ?it/s]"
            ],
            "application/vnd.jupyter.widget-view+json": {
              "version_major": 2,
              "version_minor": 0,
              "model_id": "fd3a866e8bd048d1b103df5ff4bb97e8"
            }
          },
          "metadata": {}
        },
        {
          "output_type": "execute_result",
          "data": {
            "text/plain": [
              "0.845"
            ]
          },
          "metadata": {},
          "execution_count": 48
        }
      ]
    },
    {
      "cell_type": "markdown",
      "source": [
        "### Testcase 3"
      ],
      "metadata": {
        "id": "t0oXv514jbRN"
      }
    },
    {
      "cell_type": "code",
      "source": [
        "def univ_2(model, X, y):\n",
        "    print(steps, eps, alpha, steps*alpha)\n",
        "    for step in tqdm(range(steps)):\n",
        "        X_grad = dX(model, X, y).cpu().detach().numpy().reshape(X.shape[0], -1)\n",
        "        onegrad = torch.from_numpy(gradient_maker(X_grad)).view(X.shape[1:]).to(device)\n",
        "        X_advs = adv_clip(X + alpha * torch.sign(onegrad), X, eps).type(torch.FloatTensor).to(device)\n",
        "        X = Variable(X_advs.data, requires_grad=False)\n",
        "\n",
        "        #\n",
        "        gc_collect(X_advs, X_grad)\n",
        "        empty_cache()\n",
        "    return X"
      ],
      "metadata": {
        "id": "n9DQAPbxjdgp"
      },
      "execution_count": 49,
      "outputs": []
    },
    {
      "cell_type": "code",
      "source": [
        "X_ = univ_2(model, X, y)\n",
        "imshow(X_, 0)\n",
        "print(accuracy(model, X_, y))"
      ],
      "metadata": {
        "colab": {
          "base_uri": "https://localhost:8080/",
          "height": 332,
          "referenced_widgets": [
            "e837c2d78595496a9cf6bfb4151df9a4",
            "837ca6d1c5704a37b8152b05980629cb",
            "de510d3aecb74bb4b363640010035222",
            "39309dff8db346dfaef3d4ec515309a3",
            "9cc94badd06e45dd86b472b940b729df",
            "1dccb06407e8444aa1e0d01d184133a9",
            "178260f6a7134d0e8d9464cb8984bf11",
            "66ea049ec495454b990ff9b3f8dcbcf8",
            "6dbf972782844619873bcd0fa3772ead",
            "8e12430ca43647e38d7c9e2140ee918d",
            "98670600e6734fb9a3e61f56a644d2f8"
          ]
        },
        "id": "ZVip9yOpRvOi",
        "outputId": "8b438a12-a8fb-4db1-c6e9-980928bac5f3"
      },
      "execution_count": 50,
      "outputs": [
        {
          "output_type": "stream",
          "name": "stdout",
          "text": [
            "20 0.1 0.006666666666666667 0.13333333333333333\n"
          ]
        },
        {
          "output_type": "display_data",
          "data": {
            "text/plain": [
              "  0%|          | 0/20 [00:00<?, ?it/s]"
            ],
            "application/vnd.jupyter.widget-view+json": {
              "version_major": 2,
              "version_minor": 0,
              "model_id": "e837c2d78595496a9cf6bfb4151df9a4"
            }
          },
          "metadata": {}
        },
        {
          "output_type": "display_data",
          "data": {
            "text/plain": [
              "<Figure size 432x288 with 1 Axes>"
            ],
            "image/png": "[encoded data removed]"
          },
          "metadata": {
            "needs_background": "light"
          }
        },
        {
          "output_type": "stream",
          "name": "stdout",
          "text": [
            "0.96\n"
          ]
        }
      ]
    },
    {
      "cell_type": "code",
      "source": [
        "X_grad = dX(model, X, y).cpu().detach().numpy().reshape(X.shape[0], -1)\n",
        "print(X_grad.shape)"
      ],
      "metadata": {
        "id": "EZzCyWAOTUNJ",
        "colab": {
          "base_uri": "https://localhost:8080/"
        },
        "outputId": "813fd4b8-59f9-49ee-aebb-7b70049dfd8f"
      },
      "execution_count": 54,
      "outputs": [
        {
          "output_type": "stream",
          "name": "stdout",
          "text": [
            "(200, 784)\n"
          ]
        }
      ]
    },
    {
      "cell_type": "code",
      "source": [
        "X_grad = np.random.randn(200, 784)"
      ],
      "metadata": {
        "id": "OE603hdW7zMf"
      },
      "execution_count": 78,
      "outputs": []
    },
    {
      "cell_type": "code",
      "source": [
        "onegrad = gradient_maker(X_grad)\n",
        "print(onegrad.shape)"
      ],
      "metadata": {
        "id": "HMiK_pT0Tau7",
        "colab": {
          "base_uri": "https://localhost:8080/"
        },
        "outputId": "f1fe1010-0369-465c-a8e1-87a7e44aca90"
      },
      "execution_count": 79,
      "outputs": [
        {
          "output_type": "stream",
          "name": "stdout",
          "text": [
            "(784,)\n"
          ]
        }
      ]
    },
    {
      "cell_type": "code",
      "source": [
        "print(np.min(X_grad@onegrad), np.max(X_grad@onegrad))"
      ],
      "metadata": {
        "id": "vwZhxADgTqsD",
        "colab": {
          "base_uri": "https://localhost:8080/"
        },
        "outputId": "67252329-2d22-44cb-e404-93f5fd9ccc06"
      },
      "execution_count": 80,
      "outputs": [
        {
          "output_type": "stream",
          "name": "stdout",
          "text": [
            "0.9999999999999956 1.0000000000000049\n"
          ]
        }
      ]
    },
    {
      "cell_type": "code",
      "source": [
        "def fake_gradient_maker(grads):\n",
        "    return grads[0]\n",
        "\n",
        "def log_essentials(grads):\n",
        "    #\n",
        "    eps = np.finfo(np.linalg.norm(grads).dtype).eps\n",
        "    TOLERANCE = max(eps * np.array(grads.shape))\n",
        "\n",
        "    #\n",
        "    U, s, V = np.linalg.svd(grads)\n",
        "    \n",
        "    #\n",
        "    print(f\"Tolerance={TOLERANCE}, Norm of Sing={np.linalg.norm(s)/s.size}, Rank={np.sum(s > TOLERANCE)}, Rank with 1e-14={np.sum(s > 1e-14)}\")\n",
        "\n",
        "    x = np.linalg.lstsq(X_grad[:-1].T, X_grad[-1].T, None)"
      ],
      "metadata": {
        "id": "rHhFdjoSr3uv"
      },
      "execution_count": null,
      "outputs": []
    },
    {
      "cell_type": "code",
      "source": [
        "A = X_grad\n",
        "eps = np.finfo(np.linalg.norm(A).dtype).eps\n",
        "TOLERANCE = max(eps * np.array(A.shape))\n",
        "\n",
        "U, s, V = np.linalg.svd(A)\n",
        "print(s)\n",
        "print(TOLERANCE)\n",
        "print(np.sum(s > TOLERANCE))\n",
        "\n",
        "TOLERANCE = 1e-14\n",
        "print(np.sum(s > TOLERANCE))"
      ],
      "metadata": {
        "id": "O4h5c4bKT2Ty",
        "colab": {
          "base_uri": "https://localhost:8080/"
        },
        "outputId": "4d8c4196-be3d-4447-b92d-80deebf2f73e"
      },
      "execution_count": 81,
      "outputs": [
        {
          "output_type": "stream",
          "name": "stdout",
          "text": [
            "[41.84505839 41.67203426 40.90564275 40.72406368 40.43931766 40.21278974\n",
            " 39.91943319 39.70570761 39.47157684 39.36646066 39.34398525 39.12689861\n",
            " 38.92511861 38.63062535 38.35638945 38.22812875 37.93062531 37.82991013\n",
            " 37.64834751 37.39468663 37.23687588 37.08612348 36.79903253 36.63589854\n",
            " 36.45318115 36.33395838 35.9641412  35.88010548 35.74159517 35.66646942\n",
            " 35.49197377 35.48111619 35.27815912 35.02651752 34.94131487 34.80073657\n",
            " 34.49323265 34.42682372 34.33473242 34.28188776 34.24800955 34.18177806\n",
            " 33.97479005 33.82253281 33.71734336 33.62595669 33.47165905 33.36843684\n",
            " 33.30838887 33.06125056 32.78665206 32.71366107 32.65911249 32.39033859\n",
            " 32.32065321 32.17518114 32.06890941 31.97609988 31.9182094  31.71997505\n",
            " 31.64175427 31.47534883 31.19108922 31.07910851 30.89744051 30.85875272\n",
            " 30.78680541 30.66567853 30.47059427 30.36866963 30.24845263 30.04987129\n",
            " 30.02330027 29.92966945 29.80483683 29.70016051 29.56127091 29.54284888\n",
            " 29.34089979 29.29932845 29.13756138 29.07054442 28.9996811  28.8835491\n",
            " 28.69607932 28.60915582 28.55711433 28.47436413 28.18973852 28.01914014\n",
            " 27.86576568 27.83350369 27.75480129 27.58776155 27.51620803 27.41189119\n",
            " 27.24527368 27.14830483 27.02560103 26.86070309 26.79628051 26.62884879\n",
            " 26.55369846 26.42430247 26.26521158 26.08393782 26.02668733 25.97318728\n",
            " 25.84317236 25.78088583 25.65696245 25.42048916 25.34043569 25.17907586\n",
            " 25.12507088 25.06934522 25.00450597 24.80990779 24.71411932 24.63757412\n",
            " 24.51953147 24.37221759 24.22817488 24.17438714 24.11703674 24.02421023\n",
            " 23.84321497 23.75040619 23.67823176 23.59501135 23.23462971 23.18010096\n",
            " 23.16374949 22.96500151 22.92139986 22.82335072 22.66760584 22.59002426\n",
            " 22.51669602 22.32875991 22.21813348 22.13286046 21.95074922 21.88885527\n",
            " 21.8353818  21.74889321 21.52502222 21.35481892 21.2875027  21.20033071\n",
            " 21.11904441 20.94947959 20.90511775 20.83738426 20.74230882 20.48602396\n",
            " 20.42768661 20.31382208 20.2724101  20.05603502 19.92619036 19.78264574\n",
            " 19.64887498 19.51764537 19.42600278 19.36078563 19.13823602 19.06295601\n",
            " 18.95555528 18.8509057  18.80077731 18.71139128 18.55903011 18.42438463\n",
            " 18.3081589  18.26636195 18.14990321 18.04575565 17.792245   17.56067989\n",
            " 17.39769233 17.32471524 17.26434773 17.13705873 17.0320414  16.81115845\n",
            " 16.43913584 16.36216617 16.26190589 16.20688569 16.13879876 15.84114646\n",
            " 15.67840503 15.54056403 15.44048784 15.37131618 15.10829739 14.70487768\n",
            " 14.66497515 13.89482913]\n",
            "1.7408297026122455e-13\n",
            "200\n",
            "200\n"
          ]
        }
      ]
    },
    {
      "cell_type": "code",
      "source": [
        "x = np.linalg.lstsq(X_grad[:-1].T, X_grad[-1].T, None)"
      ],
      "metadata": {
        "id": "b_61WeqL41Pk"
      },
      "execution_count": 82,
      "outputs": []
    },
    {
      "cell_type": "code",
      "source": [
        "np.linalg.norm((X_grad[:-1].T@x[0])-X_grad[-1])**2"
      ],
      "metadata": {
        "colab": {
          "base_uri": "https://localhost:8080/"
        },
        "id": "M9gVDouB5ZV0",
        "outputId": "9c7bb081-ba52-483d-fb2f-43e706c8a6a3"
      },
      "execution_count": 83,
      "outputs": [
        {
          "output_type": "execute_result",
          "data": {
            "text/plain": [
              "638.1228515053233"
            ]
          },
          "metadata": {},
          "execution_count": 83
        }
      ]
    },
    {
      "cell_type": "code",
      "source": [
        "x[1]"
      ],
      "metadata": {
        "colab": {
          "base_uri": "https://localhost:8080/"
        },
        "id": "5_GnwRCQ562F",
        "outputId": "cd694997-0421-4b8e-cf96-b32da80f41c2"
      },
      "execution_count": 84,
      "outputs": [
        {
          "output_type": "execute_result",
          "data": {
            "text/plain": [
              "array([638.12285151])"
            ]
          },
          "metadata": {},
          "execution_count": 84
        }
      ]
    },
    {
      "cell_type": "code",
      "source": [
        ""
      ],
      "metadata": {
        "id": "drCeFzDt5_6h"
      },
      "execution_count": null,
      "outputs": []
    }
  ]
}