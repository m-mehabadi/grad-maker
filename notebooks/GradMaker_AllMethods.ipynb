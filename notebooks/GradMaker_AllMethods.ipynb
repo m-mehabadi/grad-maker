{
  "nbformat": 4,
  "nbformat_minor": 0,
  "metadata": {
    "colab": {
      "name": "GradMaker-AllMethods.ipynb",
      "provenance": [],
      "collapsed_sections": [],
      "authorship_tag": "ABX9TyMwKXOYIZBaewfWHyvO71fh",
      "include_colab_link": true
    },
    "kernelspec": {
      "name": "python3",
      "display_name": "Python 3"
    },
    "language_info": {
      "name": "python"
    }
  },
  "cells": [
    {
      "cell_type": "markdown",
      "metadata": {
        "id": "view-in-github",
        "colab_type": "text"
      },
      "source": [
        "<a href=\"https://colab.research.google.com/github/m-mehabadi/grad-maker/blob/main/notebooks/GradMaker_AllMethods.ipynb\" target=\"_parent\"><img src=\"https://colab.research.google.com/assets/colab-badge.svg\" alt=\"Open In Colab\"/></a>"
      ]
    },
    {
      "cell_type": "code",
      "execution_count": null,
      "metadata": {
        "id": "MnFxfX4i1CQX"
      },
      "outputs": [],
      "source": [
        "import numpy as np\n",
        "import matplotlib.pyplot as plt"
      ]
    },
    {
      "cell_type": "markdown",
      "source": [
        "### Method 1 Version 0"
      ],
      "metadata": {
        "id": "4QnKcGUB8xw4"
      }
    },
    {
      "cell_type": "code",
      "source": [
        "def gradient_maker(domain_grads, epsilon=0.5, alpha=0.01):\n",
        "\n",
        "    dgr = domain_grads\n",
        "    number_of_domains, dim = dgr.shape\n",
        "    g = np.zeros(dim)\n",
        "    u_ = np.zeros(number_of_domains)\n",
        "\n",
        "    # dgr_bar = np.sum(dgr, axis=1)/dim\n",
        "    iter = 0\n",
        "    while not np.min(dgr@g)/dim >= 0.99 * epsilon:\n",
        "        if iter >= 100:\n",
        "            break\n",
        "        \n",
        "        # print(\"||||||||||||||||||||||||||||||||||||||||||||||||||||||||||||||||||||||||||||\")\n",
        "        # print(f\"u is {u_}\")\n",
        "        # print(f\"g is {g}\")\n",
        "        g_bar = np.sum(g)/dim\n",
        "        # E = g_bar.item()*dim*dgr_bar\n",
        "        inner = dgr@g\n",
        "        print(f\"Iter={iter}: g_bar={g_bar}, Inner=({inner[0]}, {inner[1]}), Condition={np.min(dgr@g)/dim}\")\n",
        "\n",
        "\n",
        "        u_ = u_ + alpha*(epsilon - (dgr@g)/dim)\n",
        "        # g = (1./number_of_domains)*np.sum(((1+(u_>=0)*u_).reshape(number_of_domains, 1))*dgr, axis=0)\n",
        "        g = (1./number_of_domains)*np.sum(((1+u_).reshape(number_of_domains, 1))*dgr, axis=0)\n",
        "        iter += 1\n",
        "    return g"
      ],
      "metadata": {
        "id": "ZJSrIrju82eS"
      },
      "execution_count": null,
      "outputs": []
    },
    {
      "cell_type": "markdown",
      "source": [
        "### Method 1 Version 1: With standardization"
      ],
      "metadata": {
        "id": "1SxK6L548WuJ"
      }
    },
    {
      "cell_type": "code",
      "source": [
        "def gradient_maker(domain_grads, epsilon=0.5, alpha=0.01):\n",
        "    # def log():\n",
        "    #     # print(\"||||||||||||||||||||||||||||||||||||||||||||||||||||||||||||||||||||||||||||\")\n",
        "    #     # print(f\"u is {u_}\")\n",
        "    #     # print(f\"g is {g}\")\n",
        "    #     g_bar = np.sum(g)/dim\n",
        "    #     # E = g_bar.item()*dim*dgr_bar\n",
        "    #     inner = dgr@g/dim\n",
        "    #     print(f\"Iter={iter}: g_bar={g_bar}, Inner=({inner[0]}, {inner[1]}), Condition={np.min(dgr@g/dim)}\")\n",
        "\n",
        "    dgr = domain_grads\n",
        "    number_of_domains, dim = dgr.shape\n",
        "\n",
        "    #\n",
        "    _mean = np.mean(dgr, axis=1)[:, np.newaxis]\n",
        "    _std = np.std(dgr, axis=1)[:, np.newaxis]\n",
        "    dgr = (dgr-_mean)/_std\n",
        "    \n",
        "    #\n",
        "    g = np.random.randn(dim)\n",
        "    u_ = np.zeros(number_of_domains)\n",
        "    \n",
        "    iter = 0\n",
        "    while not np.min(dgr@g/dim) >= epsilon:\n",
        "        if iter >= 100:\n",
        "            break\n",
        "        \n",
        "        # log()\n",
        "\n",
        "        u_ = u_ + alpha*(1.01*epsilon - (dgr@g)/dim)\n",
        "        # g = (1./number_of_domains)*np.sum(((1+(u_>=0)*u_).reshape(number_of_domains, 1))*dgr, axis=0)\n",
        "        g = (1./number_of_domains)*np.sum(((1+u_).reshape(number_of_domains, 1))*dgr, axis=0)\n",
        "        iter += 1\n",
        "    # log()\n",
        "    return g"
      ],
      "metadata": {
        "id": "vWrqoG7F8Mab"
      },
      "execution_count": null,
      "outputs": []
    },
    {
      "cell_type": "markdown",
      "source": [
        "### Method 1 Version 2: Normalization and scaling back"
      ],
      "metadata": {
        "id": "Q9blgpPA8Zc3"
      }
    },
    {
      "cell_type": "code",
      "source": [
        "def gradient_maker(domain_grads, epsilon=0.5, alpha=0.01, eff=0.1):\n",
        "    ###### NOTES:\n",
        "    ### make sure that `domain_grads` dtype is float precision not integer or long.\n",
        "\n",
        "    def log():\n",
        "        # print(f\"g={g}\")\n",
        "        print(f\"Iter={iter}, Condition={np.min(dgr@g/dim)}\")\n",
        "    \n",
        "    def null(A, eps=1e-15):\n",
        "        u, s, vh = np.linalg.svd(A)\n",
        "        # print(vh)\n",
        "        null_space = np.compress(s <= eps, vh, axis=0)\n",
        "        return null_space.T\n",
        "\n",
        "    def null(A):\n",
        "        from scipy.linalg import null_space\n",
        "        n = null_space(A, rcond=1)\n",
        "        if n.shape[1] < 1:\n",
        "            return False, None\n",
        "        r = np.sqrt(np.sum((A@n)**2, axis=0)/n.shape[1])\n",
        "        if np.min(r) >= 1e-2:\n",
        "            return False, None\n",
        "        return True, n.T[np.argmin(r)].reshape(-1, 1)\n",
        "    \n",
        "    def scale():\n",
        "        G = np.concatenate((g.reshape(1, -1), domain_grads), axis=0)\n",
        "        is_fine, n = null(G@G.T)\n",
        "        if not is_fine:\n",
        "            return np.mean(np.sqrt(np.sum(domain_grads**2, axis=1)))/np.sqrt(np.sum(g**2))\n",
        "        # print(n)\n",
        "        n /= np.sum(n[1:])\n",
        "        # print(n)\n",
        "        return np.abs(n[0,0])\n",
        "\n",
        "    dgr = np.copy(domain_grads)\n",
        "    number_of_domains, dim = dgr.shape\n",
        "\n",
        "    #\n",
        "    dgr /= np.sqrt(np.sum(dgr**2, axis=1))[:, np.newaxis]\n",
        "    \n",
        "    #\n",
        "    g = np.random.randn(dim)\n",
        "    g /= np.sqrt(np.sum(g**2))\n",
        "    u_ = np.zeros(number_of_domains)\n",
        "    \n",
        "    iter = 0\n",
        "    while not np.min(dgr@g/dim) >= epsilon:\n",
        "\n",
        "        log()\n",
        "        \n",
        "        u_ = u_ + alpha*((1.+eff)*epsilon - (dgr@g)/dim)\n",
        "        g = (1./number_of_domains)*np.sum(((1+u_).reshape(number_of_domains, 1))*dgr, axis=0)\n",
        "\n",
        "        iter += 1\n",
        "    \n",
        "    log()\n",
        "    return scale()*g"
      ],
      "metadata": {
        "id": "x89pLB0M8a5W"
      },
      "execution_count": null,
      "outputs": []
    },
    {
      "cell_type": "markdown",
      "source": [
        "### Method 2 Version 0"
      ],
      "metadata": {
        "id": "T0jy4vgB8dCf"
      }
    },
    {
      "cell_type": "code",
      "source": [
        "def gradient_maker(grads, rho=10.):\n",
        "    log = lambda : print(f\"Iter={iter}, Condition={np.min(G.T@G@s)}\")\n",
        "    norm = np.linalg.norm\n",
        "\n",
        "    G = grads.T\n",
        "    A = G.T@G\n",
        "    g_ = np.mean(grads, axis=0)\n",
        "\n",
        "\n",
        "    n, d = grads.shape\n",
        "\n",
        "    #\n",
        "    iter = 1\n",
        "\n",
        "    s = np.random.randn(n)\n",
        "    s /= np.sum(s).item()\n",
        "    u = np.zeros(n)\n",
        "    v = np.zeros(1)\n",
        "\n",
        "    while np.min(G.T@G@s) < 0:\n",
        "\n",
        "        # computing the gradient of the Lagrangian w.r.t s, u, v\n",
        "        L_s = n*A@s - n*G.T@g_ + np.sum(-(u+rho*np.maximum(np.zeros(n), -A@s))*A*(A@s<=0), axis=0).T \\\n",
        "                                            + (v+rho*(np.sum(s)-1.))*np.ones(n)\n",
        "        L_u = np.maximum(np.zeros(n), -A@s)\n",
        "        L_v = np.sum(s)-1.\n",
        "\n",
        "        #\n",
        "        beta = 1 / iter\n",
        "        alpha = beta/np.sqrt(norm(L_s)**2+norm(L_u)**2+norm(L_v)**2)\n",
        "\n",
        "        # update rules\n",
        "        s = s - alpha*L_s\n",
        "        u = u + alpha*L_u\n",
        "        v = v + alpha*L_v\n",
        "\n",
        "        #\n",
        "        log()\n",
        "        iter += 1\n",
        "    \n",
        "    return G@s"
      ],
      "metadata": {
        "id": "D1QcwefG8fjR"
      },
      "execution_count": null,
      "outputs": []
    },
    {
      "cell_type": "markdown",
      "source": [
        "### Method 2 Version 1: using `CVXPY`"
      ],
      "metadata": {
        "id": "CImPbzdc--iq"
      }
    },
    {
      "cell_type": "code",
      "source": [
        "!pip install cvxpy"
      ],
      "metadata": {
        "id": "EFmNgfCY_CVc"
      },
      "execution_count": null,
      "outputs": []
    },
    {
      "cell_type": "code",
      "source": [
        "def gradient_maker(grads):\n",
        "    \"\"\"\n",
        "    - make sure to install `cvxpy`. you can use: `pip install cvxpy`\n",
        "    - `grads` in a numpy's `ndarray`\n",
        "    - `grads.shape == (n, d)`, where `n` is the number of domains and `d` is the dimension\n",
        "    - this method will return a tuple of size two, where:\n",
        "        * the first one is the generalized vector to use with size `d`\n",
        "        * the second one is the weight vector of the linear combination\n",
        "    - finally, use g, _ = gradient_maker(grads), if you have no need to use the 2nd return\n",
        "    \"\"\"\n",
        "\n",
        "    import cvxpy as cp\n",
        "    from numpy import linalg as la\n",
        "\n",
        "    def nearestPD(A):\n",
        "\n",
        "        B = (A + A.T) / 2\n",
        "        _, s, V = la.svd(B)\n",
        "\n",
        "        H = np.dot(V.T, np.dot(np.diag(s), V))\n",
        "\n",
        "        A2 = (B + H) / 2\n",
        "\n",
        "        A3 = (A2 + A2.T) / 2\n",
        "\n",
        "        if isPD(A3):\n",
        "            return A3\n",
        "\n",
        "        spacing = np.spacing(la.norm(A))\n",
        "        \n",
        "        I = np.eye(A.shape[0])\n",
        "        k = 1\n",
        "        while not isPD(A3):\n",
        "            mineig = np.min(np.real(la.eigvals(A3)))\n",
        "            A3 += I * (-mineig * k**2 + spacing)\n",
        "            k += 1\n",
        "\n",
        "        return A3\n",
        "\n",
        "\n",
        "    def isPD(B):\n",
        "        try:\n",
        "            _ = la.cholesky(B)\n",
        "            return True\n",
        "        except la.LinAlgError:\n",
        "            return False\n",
        "    \n",
        "    #\n",
        "    n, d = grads.shape\n",
        "    G = grads.T\n",
        "    g_ = np.mean(grads, axis=0).reshape(-1, 1)\n",
        "\n",
        "    #\n",
        "    P = nearestPD(n*G.T@G)\n",
        "    q = -n*G.T@g_\n",
        "    F = -G.T@G\n",
        "    h = np.zeros(n, dtype=np.float32)\n",
        "    A = np.ones(n, dtype=np.float32).reshape(1, -1)\n",
        "    b = np.ones((1, 1), dtype=np.float32)\n",
        "\n",
        "    # define opt variable\n",
        "    x = cp.Variable(n)\n",
        "    prob = cp.Problem(cp.Minimize((1/2)*cp.quad_form(x, P) + q.T @ x),\n",
        "                    [F @ x <= h,\n",
        "                    A @ x == b])\n",
        "    #\n",
        "    prob.solve()\n",
        "    s = np.array(x.value)\n",
        "\n",
        "    return G@s, s"
      ],
      "metadata": {
        "id": "M05v1CRd_HH5"
      },
      "execution_count": null,
      "outputs": []
    },
    {
      "cell_type": "markdown",
      "source": [
        "### Method 2 Version 3: Searching among different solvers and using scaling"
      ],
      "metadata": {
        "id": "-I4Gvvvx_nsy"
      }
    },
    {
      "cell_type": "code",
      "source": [
        "def gradient_maker(grads, solver=None):\n",
        "    \"\"\"\n",
        "    - make sure to install `cvxpy`. you can use: `pip install cvxpy`\n",
        "    - `grads` in a numpy's `ndarray`\n",
        "    - `grads.shape == (n, d)`, where `n` is the number of domains and `d` is the dimension\n",
        "    - this method will return a tuple of size two, where:\n",
        "        * the first one is the generalized vector to use with size `d`\n",
        "        * the second one is the weight vector of the linear combination\n",
        "    - finally, use g, _ = gradient_maker(grads), if you have no need to use the 2nd return\n",
        "    \"\"\"\n",
        "\n",
        "    import cvxpy as cp\n",
        "    from numpy import linalg as la\n",
        "\n",
        "    def nearestPD(A):\n",
        "\n",
        "        B = (A + A.T) / 2\n",
        "        _, s, V = la.svd(B)\n",
        "\n",
        "        H = np.dot(V.T, np.dot(np.diag(s), V))\n",
        "\n",
        "        A2 = (B + H) / 2\n",
        "\n",
        "        A3 = (A2 + A2.T) / 2\n",
        "\n",
        "        if isPD(A3):\n",
        "            return A3\n",
        "\n",
        "        spacing = np.spacing(la.norm(A))\n",
        "        \n",
        "        I = np.eye(A.shape[0])\n",
        "        k = 1\n",
        "        while not isPD(A3):\n",
        "            mineig = np.min(np.real(la.eigvals(A3)))\n",
        "            A3 += I * (-mineig * k**2 + spacing)\n",
        "            k += 1\n",
        "\n",
        "        return A3\n",
        "\n",
        "\n",
        "    def isPD(B):\n",
        "        try:\n",
        "            _ = la.cholesky(B)\n",
        "            return True\n",
        "        except la.LinAlgError:\n",
        "            return False\n",
        "\n",
        "    #\n",
        "    G = grads.T\n",
        "    n, d = grads.shape\n",
        "    g_ = np.mean(grads, axis=0).reshape(-1, 1)\n",
        "\n",
        "    #\n",
        "    P = nearestPD(n*G.T@G)\n",
        "    q = -n*G.T@g_\n",
        "    F = -G.T@G\n",
        "    h = np.zeros(n, dtype=np.float32)\n",
        "    A = np.ones(n, dtype=np.float32).reshape(1, -1)\n",
        "    b = np.ones((1, 1), dtype=np.float32)\n",
        "\n",
        "    # define opt variable\n",
        "    x = cp.Variable(n)\n",
        "    prob = cp.Problem(cp.Minimize((1/2)*cp.quad_form(x, P) + q.T @ x),\n",
        "                    [F @ x <= h,\n",
        "                    A @ x == b])\n",
        "    #\n",
        "    if solver is None:\n",
        "        return cp.OSQP\n",
        "    prob.solve(solver=solver, verbose=False)\n",
        "    s = np.array(x.value)\n",
        "\n",
        "    return G@s, s\n",
        "\n",
        "def gm_search(grads, return_first=True, verbose=0):\n",
        "    import gc\n",
        "    import cvxpy as cp\n",
        "    from numpy.linalg import norm\n",
        "\n",
        "    def gc_collect(*vars):\n",
        "        for var in vars:\n",
        "            del var\n",
        "        gc.collect()\n",
        "    \n",
        "    def get_solver(solver):\n",
        "        return eval('cp.'+solver)\n",
        "    \n",
        "    def gm_search_in_scales(grads, solver=None):\n",
        "        min_inner = -float('inf')\n",
        "        g = None\n",
        "        scales = range(20)\n",
        "        for scale in scales:\n",
        "            try:\n",
        "                _scale = 1e1**float(scale)\n",
        "                dgr = np.copy(grads)\n",
        "                dgr /= norm(dgr, axis=1).reshape(-1, 1)\n",
        "                dgr *= _scale\n",
        "\n",
        "                g_scaled, _ = gradient_maker(dgr, solver)\n",
        "\n",
        "                # we need to scale it back\n",
        "                g_scaled_back = np.mean(norm(grads, axis=1))/norm(g_scaled) * g_scaled\n",
        "\n",
        "                # then, we will replace the scaled back g with g if min_inner is increased\n",
        "                if np.min(grads@g_scaled_back) >= min_inner:\n",
        "                    g = np.copy(g_scaled_back)\n",
        "                    min_inner = np.min(grads@g_scaled_back)\n",
        "                \n",
        "                #\n",
        "                if verbose==2:\n",
        "                    print(\"----------------\")\n",
        "                    print(f\"the minimum inner product found with scaling {_scale} is {np.min(dgr@g_scaled)}\")\n",
        "                    print(f\"the minimum inner product found without scaling is {np.min(grads@g_scaled_back)}\")\n",
        "\n",
        "                #\n",
        "                gc_collect(_scale, dgr, g_scaled, g_scaled_back)\n",
        "            except:\n",
        "                break\n",
        "        return g\n",
        "    \n",
        "    # excluding: 'SCIP'\n",
        "    qp_solvers = ['OSQP','CPLEX','NAG','ECOS','GUROBI','MOSEK','CVXOPT','SCS','XPRESS']\n",
        "    \n",
        "    #\n",
        "    min_inner = -float('inf')\n",
        "    g = None\n",
        "\n",
        "    for solver in qp_solvers:\n",
        "\n",
        "        if verbose>=1:\n",
        "            print()\n",
        "            print(f\"############## Solver {solver} ##############\")\n",
        "\n",
        "        _g = gm_search_in_scales(grads, get_solver(solver))\n",
        "\n",
        "        if _g is None:\n",
        "            continue\n",
        "        \n",
        "        if verbose>=1:\n",
        "            print()\n",
        "            print(f\"best result with solver = {solver} is {np.min(grads@_g)}\")\n",
        "\n",
        "        if return_first and np.min(grads@_g) > 0. :\n",
        "            g = np.copy(_g)\n",
        "            break\n",
        "\n",
        "        if np.min(grads@_g) >= min_inner:\n",
        "            g = np.copy(_g)\n",
        "            min_inner = np.min(grads@_g)\n",
        "        \n",
        "        #\n",
        "        gc_collect(_g)\n",
        "    \n",
        "    if g is None:\n",
        "        print(\"FOUND NOTHING!!!!\")\n",
        "        g = np.mean(grads, axis=0)\n",
        "\n",
        "    if verbose>=1:\n",
        "        print()\n",
        "        print(\"============================================================\")\n",
        "        print(f\"final result is {np.min(grads@g)}\")\n",
        "\n",
        "    return g"
      ],
      "metadata": {
        "id": "OK0jx-yn_s_B"
      },
      "execution_count": null,
      "outputs": []
    },
    {
      "cell_type": "markdown",
      "source": [
        "### Method 3: Perceptron-based algorithm"
      ],
      "metadata": {
        "id": "T5-HCVmDAGZS"
      }
    },
    {
      "cell_type": "code",
      "source": [
        "import numpy as np\n",
        "import matplotlib.pyplot as plt\n",
        "import cvxpy as cp\n",
        "\n",
        "import torch\n",
        "import torch.nn as nn\n",
        "import torch.optim as optim\n",
        "\n",
        "from tqdm import tqdm"
      ],
      "metadata": {
        "id": "nLiGRf_gAsx_"
      },
      "execution_count": null,
      "outputs": []
    },
    {
      "cell_type": "code",
      "source": [
        "def gmaker(grads, epochs = 100, method=\"simple\", start=\"zero\", verbose=1):\n",
        "    lr = 0.01\n",
        "    n, d = grads.shape\n",
        "    w = np.random.randn(d) if start==\"normal\" else np.zeros(d)\n",
        "    for e in range(epochs):\n",
        "        ge = grads[e%n]\n",
        "        w_new = w + lr * (1. - (ge@w > 0)) * ge\n",
        "        w = w_new if method==\"simple\" else w_new/np.linalg.norm(w_new)\n",
        "    pos_count = np.sum(grads@w>0)\n",
        "    total_count = n\n",
        "    if verbose > 0:\n",
        "        print(f\"For {epochs} epochs: {pos_count} out of {n}\")\n",
        "    return w, (pos_count, max_count, total_count)\n",
        "\n",
        "def gmaker_torch(grads, epochs = 100, method=\"simple\", start=\"zero\", verbose=1, device=None):\n",
        "    device = torch.device('cuda' if torch.cuda.is_available() else 'cpu') if device is None else device\n",
        "    lr = 0.01\n",
        "    n, d = grads.size()\n",
        "    w = torch.randn(d) if start==\"normal\" else torch.zeros(d)\n",
        "    w = w.to(device)\n",
        "    for e in range(epochs):\n",
        "        ge = grads[e%n]\n",
        "        w_new = w + lr * (1. - (ge@w > 0).int()) * ge\n",
        "        w = w_new if method==\"simple\" else w_new/torch.norm(w_new)\n",
        "    pos_count = torch.sum(grads@w > 0)\n",
        "    total_count = n\n",
        "    if verbose > 0:\n",
        "        print(f\"For {epochs} epochs: {pos_count} out of {n}\")\n",
        "    return w, (pos_count, max_count, total_count)"
      ],
      "metadata": {
        "id": "eEV22CcUAGCa"
      },
      "execution_count": null,
      "outputs": []
    },
    {
      "cell_type": "markdown",
      "source": [
        "#### Without `max_count` in the `return` statement"
      ],
      "metadata": {
        "id": "ABy7RdPmBITU"
      }
    },
    {
      "cell_type": "code",
      "source": [
        "def gradient_maker(grads, epochs = 100000, method=\"simple\", start=\"zero\", verbose=1, device=None):\n",
        "    device = torch.device('cuda' if torch.cuda.is_available() else 'cpu') if device is None else device\n",
        "    lr = 0.01\n",
        "    n, d = grads.size()\n",
        "    w = torch.randn(d) if start==\"normal\" else torch.zeros(d)\n",
        "    w = w.to(device)\n",
        "    for e in range(epochs):\n",
        "        ge = grads[e%n]\n",
        "        w_new = w + lr * (1. - (ge@w > 0).int()) * ge\n",
        "        w = w_new if method==\"simple\" else w_new/torch.norm(w_new)\n",
        "    pos_count = torch.sum(grads@w > 0)\n",
        "    total_count = n\n",
        "    if verbose > 0:\n",
        "        print(f\"For {epochs} epochs: {pos_count} out of {n}\")\n",
        "    return w, (pos_count, total_count)"
      ],
      "metadata": {
        "id": "eNQiu0prBMT7"
      },
      "execution_count": null,
      "outputs": []
    }
  ]
}