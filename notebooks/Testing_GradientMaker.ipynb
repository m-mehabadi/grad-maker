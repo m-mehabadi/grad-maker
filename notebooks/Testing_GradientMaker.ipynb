{
  "nbformat": 4,
  "nbformat_minor": 0,
  "metadata": {
    "colab": {
      "name": "Testing-GradientMaker.ipynb",
      "provenance": [],
      "collapsed_sections": [],
      "include_colab_link": true
    },
    "kernelspec": {
      "name": "python3",
      "display_name": "Python 3"
    },
    "language_info": {
      "name": "python"
    }
  },
  "cells": [
    {
      "cell_type": "markdown",
      "metadata": {
        "id": "view-in-github",
        "colab_type": "text"
      },
      "source": [
        "<a href=\"https://colab.research.google.com/github/m-mehabadi/grad-maker/blob/main/notebooks/Testing_GradientMaker.ipynb\" target=\"_parent\"><img src=\"https://colab.research.google.com/assets/colab-badge.svg\" alt=\"Open In Colab\"/></a>"
      ]
    },
    {
      "cell_type": "markdown",
      "source": [
        "http://www.cs.cmu.edu/~pradeepr/convexopt/Lecture_Slides/dual-ascent.pdf\n",
        "\n",
        "https://web.stanford.edu/class/ee364b/lectures/primal_dual_subgrad_slides.pdf\n",
        "\n",
        "https://www.cvxpy.org/examples/basic/quadratic_program.html"
      ],
      "metadata": {
        "id": "BphVoTyaLF5t"
      }
    },
    {
      "cell_type": "code",
      "execution_count": 1,
      "metadata": {
        "id": "WIHWSu69D0a-"
      },
      "outputs": [],
      "source": [
        "import numpy as np\n",
        "import matplotlib.pyplot as plt\n",
        "import cvxpy as cp\n",
        "\n",
        "import torch\n",
        "import torch.nn as nn\n",
        "import torch.optim as optim\n",
        "\n",
        "from tqdm import tqdm"
      ]
    },
    {
      "cell_type": "code",
      "source": [
        "def gmaker(grads, epochs = 100, method=\"simple\"):\n",
        "    lr = 0.01\n",
        "    n, d = grads.shape\n",
        "    w = np.random.randn(d)\n",
        "    max_count = 0\n",
        "    for e in range(epochs):\n",
        "        ge = grads[e%n]\n",
        "        w_new = w + lr * (1. - (ge@w >= 0)) * ge\n",
        "        # w = w_new/np.linalg.norm(w_new)\n",
        "        w = w_new if method==\"simple\" else w_new/np.linalg.norm(w_new)\n",
        "        pos_count = np.sum(grads@w>=0)\n",
        "        max_count = pos_count if pos_count >= max_count else max_count\n",
        "        # if pos_count >= max_count:\n",
        "        #     max_count = pos_count\n",
        "    print(f\"{pos_count} out of {n}, and maximum of {max_count}\")\n",
        "    return w, (pos_count, max_count)"
      ],
      "metadata": {
        "id": "hO4Z0knYNzlI"
      },
      "execution_count": 22,
      "outputs": []
    },
    {
      "cell_type": "markdown",
      "source": [
        "### Testcases\n",
        "\n",
        "Now let's write some test cases to make sure everything is working correctly\n"
      ],
      "metadata": {
        "id": "PWTyzUQQ5zrR"
      }
    },
    {
      "cell_type": "code",
      "source": [
        "shape = (2000, 7840)\n",
        "grads = 1e-10*(1000*(np.random.randn(*shape)+1))*np.random.randn(*shape)"
      ],
      "metadata": {
        "id": "Gf2DEMZXd0iQ"
      },
      "execution_count": 3,
      "outputs": []
    },
    {
      "cell_type": "code",
      "source": [
        "epochs_power = 4\n",
        "counts = []\n",
        "for i in [10**j for j in range(epochs_power)]:\n",
        "    g, (pos_count, _) = gmaker(grads, epochs=i)\n",
        "    counts.append(pos_count)\n",
        "plt.plot(list(range(epochs_power)), counts)"
      ],
      "metadata": {
        "id": "dDDbsRwAvKBA",
        "colab": {
          "base_uri": "https://localhost:8080/",
          "height": 352
        },
        "outputId": "cc5d4983-73a8-4350-eb89-ca00eae11b7e"
      },
      "execution_count": 23,
      "outputs": [
        {
          "output_type": "stream",
          "name": "stdout",
          "text": [
            "967 out of 2000, and maximum of 967\n",
            "998 out of 2000, and maximum of 998\n",
            "977 out of 2000, and maximum of 977\n",
            "979 out of 2000, and maximum of 979\n"
          ]
        },
        {
          "output_type": "execute_result",
          "data": {
            "text/plain": [
              "[<matplotlib.lines.Line2D at 0x7ff6ee41d690>]"
            ]
          },
          "metadata": {},
          "execution_count": 23
        },
        {
          "output_type": "display_data",
          "data": {
            "text/plain": [
              "<Figure size 432x288 with 1 Axes>"
            ],
            "image/png": "[encoded data removed]"
          },
          "metadata": {
            "needs_background": "light"
          }
        }
      ]
    }
  ]
}