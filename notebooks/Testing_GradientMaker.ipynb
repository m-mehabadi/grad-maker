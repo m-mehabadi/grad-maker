{
  "nbformat": 4,
  "nbformat_minor": 0,
  "metadata": {
    "colab": {
      "name": "Testing-GradientMaker.ipynb",
      "provenance": [],
      "collapsed_sections": [],
      "include_colab_link": true
    },
    "kernelspec": {
      "name": "python3",
      "display_name": "Python 3"
    },
    "language_info": {
      "name": "python"
    }
  },
  "cells": [
    {
      "cell_type": "markdown",
      "metadata": {
        "id": "view-in-github",
        "colab_type": "text"
      },
      "source": [
        "<a href=\"https://colab.research.google.com/github/m-mehabadi/grad-maker/blob/main/notebooks/Testing_GradientMaker.ipynb\" target=\"_parent\"><img src=\"https://colab.research.google.com/assets/colab-badge.svg\" alt=\"Open In Colab\"/></a>"
      ]
    },
    {
      "cell_type": "markdown",
      "source": [
        "http://www.cs.cmu.edu/~pradeepr/convexopt/Lecture_Slides/dual-ascent.pdf\n",
        "\n",
        "https://web.stanford.edu/class/ee364b/lectures/primal_dual_subgrad_slides.pdf\n",
        "\n",
        "https://www.cvxpy.org/examples/basic/quadratic_program.html"
      ],
      "metadata": {
        "id": "BphVoTyaLF5t"
      }
    },
    {
      "cell_type": "code",
      "execution_count": 2,
      "metadata": {
        "id": "WIHWSu69D0a-"
      },
      "outputs": [],
      "source": [
        "from tqdm import tqdm\n",
        "import numpy as np\n",
        "import matplotlib.pyplot as plt\n",
        "import cvxpy as cp"
      ]
    },
    {
      "cell_type": "code",
      "source": [
        "# def gradient_maker(grads):\n",
        "#     from scipy.special import expit\n",
        "#     sigmoid = lambda x : expit(x)\n",
        "\n",
        "#     eps = 1e-5\n",
        "#     lr = 0.01\n",
        "#     n, d = grads.shape\n",
        "    \n",
        "#     g = np.random.randn(d)\n",
        "\n",
        "#     pbar = tqdm(range(1000))\n",
        "#     for i in pbar:\n",
        "#         a = sigmoid(grads@g-eps)\n",
        "#         g += lr * grads.T@((a-a**2)/np.sum(a))\n",
        "\n",
        "#         pbar.set_description(\"Processing %.2f\" % (np.sum(grads@g>=0)/n))\n",
        "#     return g"
      ],
      "metadata": {
        "id": "wPrAgDbWh1Zj"
      },
      "execution_count": 12,
      "outputs": []
    },
    {
      "cell_type": "code",
      "source": [
        "import torch\n",
        "import torch.nn as nn\n",
        "import torch.optim as optim\n",
        "from tqdm import tqdm\n",
        "\n",
        "class GradientMaker(nn.Module):\n",
        "    def __init__(self, W, eps=1e-5):\n",
        "        super().__init__()\n",
        "        self._eps = eps\n",
        "        self._n, self._d = W.shape\n",
        "        self._W = W\n",
        "\n",
        "        # define parameters\n",
        "        self._g = nn.Parameter(torch.ones(self._d))\n",
        "    \n",
        "    def forward(self):\n",
        "        z = self._W@self._g-self._eps\n",
        "        # a = torch.sigmoid(z) * torch.heaviside(z, torch.tensor([1.]))\n",
        "        a = torch.sigmoid(z) * (z>=0)\n",
        "        return torch.sum(a)/self._n\n",
        "\n",
        "shape = (2000, 7840)\n",
        "grads = 1e-10*(1000*(torch.randn(*shape)+1))*torch.randn(*shape)\n",
        "\n",
        "gmaker = GradientMaker(grads)\n",
        "opt = optim.Adam(gmaker.parameters())\n",
        "\n",
        "get_params = lambda: next(iter(gmaker.parameters())).clone().detach()\n",
        "\n",
        "\n",
        "gmaker.train()\n",
        "# pbar = tqdm(range(20))\n",
        "for epoch in range(200):\n",
        "    opt.zero_grad()\n",
        "    y = gmaker()\n",
        "    loss = -1. * torch.log(y)\n",
        "    loss.backward()\n",
        "    opt.step()\n",
        "\n",
        "    print(f\"Epoch:{epoch}, Loss:{loss.item():.3}, PosPortion: {(torch.sum(grads@get_params()>=0)/shape[0]):.3}\")"
      ],
      "metadata": {
        "colab": {
          "base_uri": "https://localhost:8080/"
        },
        "id": "uMnsp-C7Ds1R",
        "outputId": "c070509c-cb22-4300-f370-3348cfd429a6"
      },
      "execution_count": 21,
      "outputs": [
        {
          "output_type": "stream",
          "name": "stdout",
          "text": [
            "Epoch:0, Loss:2.29, PosPortion: 0.493\n",
            "Epoch:1, Loss:2.29, PosPortion: 0.493\n",
            "Epoch:2, Loss:2.29, PosPortion: 0.493\n",
            "Epoch:3, Loss:2.28, PosPortion: 0.493\n",
            "Epoch:4, Loss:2.28, PosPortion: 0.493\n",
            "Epoch:5, Loss:2.28, PosPortion: 0.493\n",
            "Epoch:6, Loss:2.28, PosPortion: 0.493\n",
            "Epoch:7, Loss:2.28, PosPortion: 0.493\n",
            "Epoch:8, Loss:2.28, PosPortion: 0.493\n",
            "Epoch:9, Loss:2.28, PosPortion: 0.493\n",
            "Epoch:10, Loss:2.28, PosPortion: 0.493\n",
            "Epoch:11, Loss:2.28, PosPortion: 0.493\n",
            "Epoch:12, Loss:2.28, PosPortion: 0.493\n",
            "Epoch:13, Loss:2.28, PosPortion: 0.493\n",
            "Epoch:14, Loss:2.28, PosPortion: 0.493\n",
            "Epoch:15, Loss:2.28, PosPortion: 0.493\n",
            "Epoch:16, Loss:2.28, PosPortion: 0.493\n",
            "Epoch:17, Loss:2.28, PosPortion: 0.493\n",
            "Epoch:18, Loss:2.28, PosPortion: 0.493\n",
            "Epoch:19, Loss:2.28, PosPortion: 0.493\n",
            "Epoch:20, Loss:2.28, PosPortion: 0.493\n",
            "Epoch:21, Loss:2.28, PosPortion: 0.493\n",
            "Epoch:22, Loss:2.28, PosPortion: 0.493\n",
            "Epoch:23, Loss:2.28, PosPortion: 0.494\n",
            "Epoch:24, Loss:2.28, PosPortion: 0.494\n",
            "Epoch:25, Loss:2.28, PosPortion: 0.494\n",
            "Epoch:26, Loss:2.28, PosPortion: 0.494\n",
            "Epoch:27, Loss:2.28, PosPortion: 0.494\n",
            "Epoch:28, Loss:2.28, PosPortion: 0.494\n",
            "Epoch:29, Loss:2.28, PosPortion: 0.494\n",
            "Epoch:30, Loss:2.28, PosPortion: 0.494\n",
            "Epoch:31, Loss:2.28, PosPortion: 0.494\n",
            "Epoch:32, Loss:2.28, PosPortion: 0.494\n",
            "Epoch:33, Loss:2.28, PosPortion: 0.494\n",
            "Epoch:34, Loss:2.28, PosPortion: 0.494\n",
            "Epoch:35, Loss:2.28, PosPortion: 0.494\n",
            "Epoch:36, Loss:2.28, PosPortion: 0.493\n",
            "Epoch:37, Loss:2.28, PosPortion: 0.493\n",
            "Epoch:38, Loss:2.27, PosPortion: 0.493\n",
            "Epoch:39, Loss:2.27, PosPortion: 0.493\n",
            "Epoch:40, Loss:2.27, PosPortion: 0.493\n",
            "Epoch:41, Loss:2.27, PosPortion: 0.493\n",
            "Epoch:42, Loss:2.27, PosPortion: 0.493\n",
            "Epoch:43, Loss:2.27, PosPortion: 0.494\n",
            "Epoch:44, Loss:2.27, PosPortion: 0.494\n",
            "Epoch:45, Loss:2.27, PosPortion: 0.494\n",
            "Epoch:46, Loss:2.27, PosPortion: 0.494\n",
            "Epoch:47, Loss:2.27, PosPortion: 0.494\n",
            "Epoch:48, Loss:2.27, PosPortion: 0.494\n",
            "Epoch:49, Loss:2.27, PosPortion: 0.494\n",
            "Epoch:50, Loss:2.27, PosPortion: 0.494\n",
            "Epoch:51, Loss:2.27, PosPortion: 0.494\n",
            "Epoch:52, Loss:2.27, PosPortion: 0.494\n",
            "Epoch:53, Loss:2.27, PosPortion: 0.494\n",
            "Epoch:54, Loss:2.27, PosPortion: 0.494\n",
            "Epoch:55, Loss:2.27, PosPortion: 0.495\n",
            "Epoch:56, Loss:2.27, PosPortion: 0.494\n",
            "Epoch:57, Loss:2.27, PosPortion: 0.494\n",
            "Epoch:58, Loss:2.27, PosPortion: 0.494\n",
            "Epoch:59, Loss:2.27, PosPortion: 0.495\n",
            "Epoch:60, Loss:2.27, PosPortion: 0.495\n",
            "Epoch:61, Loss:2.27, PosPortion: 0.495\n",
            "Epoch:62, Loss:2.27, PosPortion: 0.494\n",
            "Epoch:63, Loss:2.27, PosPortion: 0.494\n",
            "Epoch:64, Loss:2.27, PosPortion: 0.494\n",
            "Epoch:65, Loss:2.27, PosPortion: 0.494\n",
            "Epoch:66, Loss:2.27, PosPortion: 0.494\n",
            "Epoch:67, Loss:2.27, PosPortion: 0.493\n",
            "Epoch:68, Loss:2.27, PosPortion: 0.493\n",
            "Epoch:69, Loss:2.27, PosPortion: 0.493\n",
            "Epoch:70, Loss:2.27, PosPortion: 0.493\n",
            "Epoch:71, Loss:2.27, PosPortion: 0.493\n",
            "Epoch:72, Loss:2.27, PosPortion: 0.493\n",
            "Epoch:73, Loss:2.27, PosPortion: 0.493\n",
            "Epoch:74, Loss:2.27, PosPortion: 0.493\n",
            "Epoch:75, Loss:2.27, PosPortion: 0.493\n",
            "Epoch:76, Loss:2.27, PosPortion: 0.493\n",
            "Epoch:77, Loss:2.27, PosPortion: 0.493\n",
            "Epoch:78, Loss:2.27, PosPortion: 0.493\n",
            "Epoch:79, Loss:2.27, PosPortion: 0.493\n",
            "Epoch:80, Loss:2.27, PosPortion: 0.493\n",
            "Epoch:81, Loss:2.27, PosPortion: 0.493\n",
            "Epoch:82, Loss:2.27, PosPortion: 0.493\n",
            "Epoch:83, Loss:2.27, PosPortion: 0.493\n",
            "Epoch:84, Loss:2.27, PosPortion: 0.493\n",
            "Epoch:85, Loss:2.27, PosPortion: 0.493\n",
            "Epoch:86, Loss:2.27, PosPortion: 0.493\n",
            "Epoch:87, Loss:2.26, PosPortion: 0.493\n",
            "Epoch:88, Loss:2.26, PosPortion: 0.493\n",
            "Epoch:89, Loss:2.26, PosPortion: 0.493\n",
            "Epoch:90, Loss:2.26, PosPortion: 0.493\n",
            "Epoch:91, Loss:2.26, PosPortion: 0.493\n",
            "Epoch:92, Loss:2.26, PosPortion: 0.493\n",
            "Epoch:93, Loss:2.26, PosPortion: 0.493\n",
            "Epoch:94, Loss:2.26, PosPortion: 0.493\n",
            "Epoch:95, Loss:2.26, PosPortion: 0.493\n",
            "Epoch:96, Loss:2.26, PosPortion: 0.493\n",
            "Epoch:97, Loss:2.26, PosPortion: 0.493\n",
            "Epoch:98, Loss:2.26, PosPortion: 0.493\n",
            "Epoch:99, Loss:2.26, PosPortion: 0.493\n",
            "Epoch:100, Loss:2.26, PosPortion: 0.493\n",
            "Epoch:101, Loss:2.26, PosPortion: 0.493\n",
            "Epoch:102, Loss:2.26, PosPortion: 0.493\n",
            "Epoch:103, Loss:2.26, PosPortion: 0.493\n",
            "Epoch:104, Loss:2.26, PosPortion: 0.493\n",
            "Epoch:105, Loss:2.26, PosPortion: 0.493\n",
            "Epoch:106, Loss:2.26, PosPortion: 0.493\n",
            "Epoch:107, Loss:2.26, PosPortion: 0.493\n",
            "Epoch:108, Loss:2.26, PosPortion: 0.493\n",
            "Epoch:109, Loss:2.26, PosPortion: 0.493\n",
            "Epoch:110, Loss:2.26, PosPortion: 0.493\n",
            "Epoch:111, Loss:2.26, PosPortion: 0.493\n",
            "Epoch:112, Loss:2.26, PosPortion: 0.493\n",
            "Epoch:113, Loss:2.26, PosPortion: 0.493\n",
            "Epoch:114, Loss:2.26, PosPortion: 0.493\n",
            "Epoch:115, Loss:2.26, PosPortion: 0.493\n",
            "Epoch:116, Loss:2.26, PosPortion: 0.494\n",
            "Epoch:117, Loss:2.26, PosPortion: 0.494\n",
            "Epoch:118, Loss:2.26, PosPortion: 0.494\n",
            "Epoch:119, Loss:2.26, PosPortion: 0.494\n",
            "Epoch:120, Loss:2.26, PosPortion: 0.494\n",
            "Epoch:121, Loss:2.26, PosPortion: 0.494\n",
            "Epoch:122, Loss:2.26, PosPortion: 0.494\n",
            "Epoch:123, Loss:2.26, PosPortion: 0.494\n",
            "Epoch:124, Loss:2.26, PosPortion: 0.494\n",
            "Epoch:125, Loss:2.26, PosPortion: 0.494\n",
            "Epoch:126, Loss:2.26, PosPortion: 0.494\n",
            "Epoch:127, Loss:2.26, PosPortion: 0.494\n",
            "Epoch:128, Loss:2.26, PosPortion: 0.494\n",
            "Epoch:129, Loss:2.26, PosPortion: 0.494\n",
            "Epoch:130, Loss:2.26, PosPortion: 0.494\n",
            "Epoch:131, Loss:2.26, PosPortion: 0.494\n",
            "Epoch:132, Loss:2.26, PosPortion: 0.494\n",
            "Epoch:133, Loss:2.26, PosPortion: 0.494\n",
            "Epoch:134, Loss:2.26, PosPortion: 0.494\n",
            "Epoch:135, Loss:2.26, PosPortion: 0.494\n",
            "Epoch:136, Loss:2.26, PosPortion: 0.494\n",
            "Epoch:137, Loss:2.26, PosPortion: 0.494\n",
            "Epoch:138, Loss:2.26, PosPortion: 0.494\n",
            "Epoch:139, Loss:2.26, PosPortion: 0.494\n",
            "Epoch:140, Loss:2.26, PosPortion: 0.494\n",
            "Epoch:141, Loss:2.26, PosPortion: 0.494\n",
            "Epoch:142, Loss:2.26, PosPortion: 0.495\n",
            "Epoch:143, Loss:2.26, PosPortion: 0.495\n",
            "Epoch:144, Loss:2.26, PosPortion: 0.494\n",
            "Epoch:145, Loss:2.26, PosPortion: 0.494\n",
            "Epoch:146, Loss:2.26, PosPortion: 0.495\n",
            "Epoch:147, Loss:2.26, PosPortion: 0.495\n",
            "Epoch:148, Loss:2.26, PosPortion: 0.495\n",
            "Epoch:149, Loss:2.26, PosPortion: 0.495\n",
            "Epoch:150, Loss:2.26, PosPortion: 0.495\n",
            "Epoch:151, Loss:2.26, PosPortion: 0.495\n",
            "Epoch:152, Loss:2.26, PosPortion: 0.495\n",
            "Epoch:153, Loss:2.26, PosPortion: 0.495\n",
            "Epoch:154, Loss:2.26, PosPortion: 0.495\n",
            "Epoch:155, Loss:2.26, PosPortion: 0.495\n",
            "Epoch:156, Loss:2.26, PosPortion: 0.495\n",
            "Epoch:157, Loss:2.26, PosPortion: 0.495\n",
            "Epoch:158, Loss:2.26, PosPortion: 0.495\n",
            "Epoch:159, Loss:2.26, PosPortion: 0.495\n",
            "Epoch:160, Loss:2.26, PosPortion: 0.495\n",
            "Epoch:161, Loss:2.26, PosPortion: 0.495\n",
            "Epoch:162, Loss:2.26, PosPortion: 0.495\n",
            "Epoch:163, Loss:2.26, PosPortion: 0.495\n",
            "Epoch:164, Loss:2.26, PosPortion: 0.495\n",
            "Epoch:165, Loss:2.26, PosPortion: 0.495\n",
            "Epoch:166, Loss:2.26, PosPortion: 0.495\n",
            "Epoch:167, Loss:2.26, PosPortion: 0.495\n",
            "Epoch:168, Loss:2.26, PosPortion: 0.495\n",
            "Epoch:169, Loss:2.26, PosPortion: 0.495\n",
            "Epoch:170, Loss:2.26, PosPortion: 0.495\n",
            "Epoch:171, Loss:2.26, PosPortion: 0.495\n",
            "Epoch:172, Loss:2.26, PosPortion: 0.495\n",
            "Epoch:173, Loss:2.26, PosPortion: 0.495\n",
            "Epoch:174, Loss:2.26, PosPortion: 0.495\n",
            "Epoch:175, Loss:2.26, PosPortion: 0.495\n",
            "Epoch:176, Loss:2.26, PosPortion: 0.495\n",
            "Epoch:177, Loss:2.26, PosPortion: 0.495\n",
            "Epoch:178, Loss:2.26, PosPortion: 0.495\n",
            "Epoch:179, Loss:2.26, PosPortion: 0.495\n",
            "Epoch:180, Loss:2.26, PosPortion: 0.495\n",
            "Epoch:181, Loss:2.26, PosPortion: 0.495\n",
            "Epoch:182, Loss:2.26, PosPortion: 0.495\n",
            "Epoch:183, Loss:2.26, PosPortion: 0.495\n",
            "Epoch:184, Loss:2.26, PosPortion: 0.495\n",
            "Epoch:185, Loss:2.26, PosPortion: 0.495\n",
            "Epoch:186, Loss:2.26, PosPortion: 0.495\n",
            "Epoch:187, Loss:2.26, PosPortion: 0.495\n",
            "Epoch:188, Loss:2.26, PosPortion: 0.495\n",
            "Epoch:189, Loss:2.26, PosPortion: 0.495\n",
            "Epoch:190, Loss:2.26, PosPortion: 0.495\n",
            "Epoch:191, Loss:2.26, PosPortion: 0.495\n",
            "Epoch:192, Loss:2.26, PosPortion: 0.495\n",
            "Epoch:193, Loss:2.26, PosPortion: 0.495\n",
            "Epoch:194, Loss:2.26, PosPortion: 0.495\n",
            "Epoch:195, Loss:2.26, PosPortion: 0.495\n",
            "Epoch:196, Loss:2.26, PosPortion: 0.495\n",
            "Epoch:197, Loss:2.25, PosPortion: 0.495\n",
            "Epoch:198, Loss:2.25, PosPortion: 0.495\n",
            "Epoch:199, Loss:2.25, PosPortion: 0.495\n"
          ]
        }
      ]
    },
    {
      "cell_type": "markdown",
      "source": [
        "### Testcases\n",
        "\n",
        "Now let's write some test cases to make sure everything is working correctly\n"
      ],
      "metadata": {
        "id": "PWTyzUQQ5zrR"
      }
    },
    {
      "cell_type": "code",
      "source": [
        "shape = (2000, 7840)\n",
        "grads = 1e-10*(1000*(np.random.randn(*shape)+1))*np.random.randn(*shape)"
      ],
      "metadata": {
        "id": "Gf2DEMZXd0iQ"
      },
      "execution_count": 4,
      "outputs": []
    },
    {
      "cell_type": "code",
      "source": [
        "g = gradient_maker(grads)"
      ],
      "metadata": {
        "id": "dDDbsRwAvKBA",
        "colab": {
          "base_uri": "https://localhost:8080/",
          "height": 345
        },
        "outputId": "0a8d9912-d1ee-47f3-dc3c-ea8e9b917dad"
      },
      "execution_count": 13,
      "outputs": [
        {
          "output_type": "stream",
          "name": "stderr",
          "text": [
            "Processing 0.50:  31%|███       | 306/1000 [00:18<00:42, 16.41it/s]\n"
          ]
        },
        {
          "output_type": "error",
          "ename": "KeyboardInterrupt",
          "evalue": "ignored",
          "traceback": [
            "\u001b[0;31m---------------------------------------------------------------------------\u001b[0m",
            "\u001b[0;31mKeyboardInterrupt\u001b[0m                         Traceback (most recent call last)",
            "\u001b[0;32m<ipython-input-13-9b20eed6bdd0>\u001b[0m in \u001b[0;36m<module>\u001b[0;34m()\u001b[0m\n\u001b[0;32m----> 1\u001b[0;31m \u001b[0mg\u001b[0m \u001b[0;34m=\u001b[0m \u001b[0mgradient_maker\u001b[0m\u001b[0;34m(\u001b[0m\u001b[0mgrads\u001b[0m\u001b[0;34m)\u001b[0m\u001b[0;34m\u001b[0m\u001b[0;34m\u001b[0m\u001b[0m\n\u001b[0m",
            "\u001b[0;32m<ipython-input-12-65b26fac1713>\u001b[0m in \u001b[0;36mgradient_maker\u001b[0;34m(grads)\u001b[0m\n\u001b[1;32m     10\u001b[0m \u001b[0;34m\u001b[0m\u001b[0m\n\u001b[1;32m     11\u001b[0m     \u001b[0mpbar\u001b[0m \u001b[0;34m=\u001b[0m \u001b[0mtqdm\u001b[0m\u001b[0;34m(\u001b[0m\u001b[0mrange\u001b[0m\u001b[0;34m(\u001b[0m\u001b[0;36m1000\u001b[0m\u001b[0;34m)\u001b[0m\u001b[0;34m)\u001b[0m\u001b[0;34m\u001b[0m\u001b[0;34m\u001b[0m\u001b[0m\n\u001b[0;32m---> 12\u001b[0;31m     \u001b[0;32mfor\u001b[0m \u001b[0mi\u001b[0m \u001b[0;32min\u001b[0m \u001b[0mpbar\u001b[0m\u001b[0;34m:\u001b[0m\u001b[0;34m\u001b[0m\u001b[0;34m\u001b[0m\u001b[0m\n\u001b[0m\u001b[1;32m     13\u001b[0m         \u001b[0ma\u001b[0m \u001b[0;34m=\u001b[0m \u001b[0msigmoid\u001b[0m\u001b[0;34m(\u001b[0m\u001b[0mgrads\u001b[0m\u001b[0;34m@\u001b[0m\u001b[0mg\u001b[0m\u001b[0;34m-\u001b[0m\u001b[0meps\u001b[0m\u001b[0;34m)\u001b[0m\u001b[0;34m\u001b[0m\u001b[0;34m\u001b[0m\u001b[0m\n\u001b[1;32m     14\u001b[0m         \u001b[0mg\u001b[0m \u001b[0;34m+=\u001b[0m \u001b[0mlr\u001b[0m \u001b[0;34m*\u001b[0m \u001b[0mgrads\u001b[0m\u001b[0;34m.\u001b[0m\u001b[0mT\u001b[0m\u001b[0;34m@\u001b[0m\u001b[0;34m(\u001b[0m\u001b[0;34m(\u001b[0m\u001b[0ma\u001b[0m\u001b[0;34m-\u001b[0m\u001b[0ma\u001b[0m\u001b[0;34m**\u001b[0m\u001b[0;36m2\u001b[0m\u001b[0;34m)\u001b[0m\u001b[0;34m/\u001b[0m\u001b[0mnp\u001b[0m\u001b[0;34m.\u001b[0m\u001b[0msum\u001b[0m\u001b[0;34m(\u001b[0m\u001b[0ma\u001b[0m\u001b[0;34m)\u001b[0m\u001b[0;34m)\u001b[0m\u001b[0;34m\u001b[0m\u001b[0;34m\u001b[0m\u001b[0m\n",
            "\u001b[0;32m/usr/local/lib/python3.7/dist-packages/tqdm/std.py\u001b[0m in \u001b[0;36m__iter__\u001b[0;34m(self)\u001b[0m\n\u001b[1;32m   1203\u001b[0m                     \u001b[0mdt\u001b[0m \u001b[0;34m=\u001b[0m \u001b[0mcur_t\u001b[0m \u001b[0;34m-\u001b[0m \u001b[0mlast_print_t\u001b[0m\u001b[0;34m\u001b[0m\u001b[0;34m\u001b[0m\u001b[0m\n\u001b[1;32m   1204\u001b[0m                     \u001b[0;32mif\u001b[0m \u001b[0mdt\u001b[0m \u001b[0;34m>=\u001b[0m \u001b[0mmininterval\u001b[0m \u001b[0;32mand\u001b[0m \u001b[0mcur_t\u001b[0m \u001b[0;34m>=\u001b[0m \u001b[0mmin_start_t\u001b[0m\u001b[0;34m:\u001b[0m\u001b[0;34m\u001b[0m\u001b[0;34m\u001b[0m\u001b[0m\n\u001b[0;32m-> 1205\u001b[0;31m                         \u001b[0mself\u001b[0m\u001b[0;34m.\u001b[0m\u001b[0mupdate\u001b[0m\u001b[0;34m(\u001b[0m\u001b[0mn\u001b[0m \u001b[0;34m-\u001b[0m \u001b[0mlast_print_n\u001b[0m\u001b[0;34m)\u001b[0m\u001b[0;34m\u001b[0m\u001b[0;34m\u001b[0m\u001b[0m\n\u001b[0m\u001b[1;32m   1206\u001b[0m                         \u001b[0mlast_print_n\u001b[0m \u001b[0;34m=\u001b[0m \u001b[0mself\u001b[0m\u001b[0;34m.\u001b[0m\u001b[0mlast_print_n\u001b[0m\u001b[0;34m\u001b[0m\u001b[0;34m\u001b[0m\u001b[0m\n\u001b[1;32m   1207\u001b[0m                         \u001b[0mlast_print_t\u001b[0m \u001b[0;34m=\u001b[0m \u001b[0mself\u001b[0m\u001b[0;34m.\u001b[0m\u001b[0mlast_print_t\u001b[0m\u001b[0;34m\u001b[0m\u001b[0;34m\u001b[0m\u001b[0m\n",
            "\u001b[0;32m/usr/local/lib/python3.7/dist-packages/tqdm/std.py\u001b[0m in \u001b[0;36mupdate\u001b[0;34m(self, n)\u001b[0m\n\u001b[1;32m   1254\u001b[0m                     \u001b[0mself\u001b[0m\u001b[0;34m.\u001b[0m\u001b[0m_ema_dn\u001b[0m\u001b[0;34m(\u001b[0m\u001b[0mdn\u001b[0m\u001b[0;34m)\u001b[0m\u001b[0;34m\u001b[0m\u001b[0;34m\u001b[0m\u001b[0m\n\u001b[1;32m   1255\u001b[0m                     \u001b[0mself\u001b[0m\u001b[0;34m.\u001b[0m\u001b[0m_ema_dt\u001b[0m\u001b[0;34m(\u001b[0m\u001b[0mdt\u001b[0m\u001b[0;34m)\u001b[0m\u001b[0;34m\u001b[0m\u001b[0;34m\u001b[0m\u001b[0m\n\u001b[0;32m-> 1256\u001b[0;31m                 \u001b[0mself\u001b[0m\u001b[0;34m.\u001b[0m\u001b[0mrefresh\u001b[0m\u001b[0;34m(\u001b[0m\u001b[0mlock_args\u001b[0m\u001b[0;34m=\u001b[0m\u001b[0mself\u001b[0m\u001b[0;34m.\u001b[0m\u001b[0mlock_args\u001b[0m\u001b[0;34m)\u001b[0m\u001b[0;34m\u001b[0m\u001b[0;34m\u001b[0m\u001b[0m\n\u001b[0m\u001b[1;32m   1257\u001b[0m                 \u001b[0;32mif\u001b[0m \u001b[0mself\u001b[0m\u001b[0;34m.\u001b[0m\u001b[0mdynamic_miniters\u001b[0m\u001b[0;34m:\u001b[0m\u001b[0;34m\u001b[0m\u001b[0;34m\u001b[0m\u001b[0m\n\u001b[1;32m   1258\u001b[0m                     \u001b[0;31m# If no `miniters` was specified, adjust automatically to the\u001b[0m\u001b[0;34m\u001b[0m\u001b[0;34m\u001b[0m\u001b[0;34m\u001b[0m\u001b[0m\n",
            "\u001b[0;32m/usr/local/lib/python3.7/dist-packages/tqdm/std.py\u001b[0m in \u001b[0;36mrefresh\u001b[0;34m(self, nolock, lock_args)\u001b[0m\n\u001b[1;32m   1359\u001b[0m             \u001b[0;32melse\u001b[0m\u001b[0;34m:\u001b[0m\u001b[0;34m\u001b[0m\u001b[0;34m\u001b[0m\u001b[0m\n\u001b[1;32m   1360\u001b[0m                 \u001b[0mself\u001b[0m\u001b[0;34m.\u001b[0m\u001b[0m_lock\u001b[0m\u001b[0;34m.\u001b[0m\u001b[0macquire\u001b[0m\u001b[0;34m(\u001b[0m\u001b[0;34m)\u001b[0m\u001b[0;34m\u001b[0m\u001b[0;34m\u001b[0m\u001b[0m\n\u001b[0;32m-> 1361\u001b[0;31m         \u001b[0mself\u001b[0m\u001b[0;34m.\u001b[0m\u001b[0mdisplay\u001b[0m\u001b[0;34m(\u001b[0m\u001b[0;34m)\u001b[0m\u001b[0;34m\u001b[0m\u001b[0;34m\u001b[0m\u001b[0m\n\u001b[0m\u001b[1;32m   1362\u001b[0m         \u001b[0;32mif\u001b[0m \u001b[0;32mnot\u001b[0m \u001b[0mnolock\u001b[0m\u001b[0;34m:\u001b[0m\u001b[0;34m\u001b[0m\u001b[0;34m\u001b[0m\u001b[0m\n\u001b[1;32m   1363\u001b[0m             \u001b[0mself\u001b[0m\u001b[0;34m.\u001b[0m\u001b[0m_lock\u001b[0m\u001b[0;34m.\u001b[0m\u001b[0mrelease\u001b[0m\u001b[0;34m(\u001b[0m\u001b[0;34m)\u001b[0m\u001b[0;34m\u001b[0m\u001b[0;34m\u001b[0m\u001b[0m\n",
            "\u001b[0;32m/usr/local/lib/python3.7/dist-packages/tqdm/std.py\u001b[0m in \u001b[0;36mdisplay\u001b[0;34m(self, msg, pos)\u001b[0m\n\u001b[1;32m   1507\u001b[0m         \u001b[0;32mif\u001b[0m \u001b[0mpos\u001b[0m\u001b[0;34m:\u001b[0m\u001b[0;34m\u001b[0m\u001b[0;34m\u001b[0m\u001b[0m\n\u001b[1;32m   1508\u001b[0m             \u001b[0mself\u001b[0m\u001b[0;34m.\u001b[0m\u001b[0mmoveto\u001b[0m\u001b[0;34m(\u001b[0m\u001b[0mpos\u001b[0m\u001b[0;34m)\u001b[0m\u001b[0;34m\u001b[0m\u001b[0;34m\u001b[0m\u001b[0m\n\u001b[0;32m-> 1509\u001b[0;31m         \u001b[0mself\u001b[0m\u001b[0;34m.\u001b[0m\u001b[0msp\u001b[0m\u001b[0;34m(\u001b[0m\u001b[0mself\u001b[0m\u001b[0;34m.\u001b[0m\u001b[0m__str__\u001b[0m\u001b[0;34m(\u001b[0m\u001b[0;34m)\u001b[0m \u001b[0;32mif\u001b[0m \u001b[0mmsg\u001b[0m \u001b[0;32mis\u001b[0m \u001b[0;32mNone\u001b[0m \u001b[0;32melse\u001b[0m \u001b[0mmsg\u001b[0m\u001b[0;34m)\u001b[0m\u001b[0;34m\u001b[0m\u001b[0;34m\u001b[0m\u001b[0m\n\u001b[0m\u001b[1;32m   1510\u001b[0m         \u001b[0;32mif\u001b[0m \u001b[0mpos\u001b[0m\u001b[0;34m:\u001b[0m\u001b[0;34m\u001b[0m\u001b[0;34m\u001b[0m\u001b[0m\n\u001b[1;32m   1511\u001b[0m             \u001b[0mself\u001b[0m\u001b[0;34m.\u001b[0m\u001b[0mmoveto\u001b[0m\u001b[0;34m(\u001b[0m\u001b[0;34m-\u001b[0m\u001b[0mpos\u001b[0m\u001b[0;34m)\u001b[0m\u001b[0;34m\u001b[0m\u001b[0;34m\u001b[0m\u001b[0m\n",
            "\u001b[0;32m/usr/local/lib/python3.7/dist-packages/tqdm/std.py\u001b[0m in \u001b[0;36mprint_status\u001b[0;34m(s)\u001b[0m\n\u001b[1;32m    348\u001b[0m         \u001b[0;32mdef\u001b[0m \u001b[0mprint_status\u001b[0m\u001b[0;34m(\u001b[0m\u001b[0ms\u001b[0m\u001b[0;34m)\u001b[0m\u001b[0;34m:\u001b[0m\u001b[0;34m\u001b[0m\u001b[0;34m\u001b[0m\u001b[0m\n\u001b[1;32m    349\u001b[0m             \u001b[0mlen_s\u001b[0m \u001b[0;34m=\u001b[0m \u001b[0mdisp_len\u001b[0m\u001b[0;34m(\u001b[0m\u001b[0ms\u001b[0m\u001b[0;34m)\u001b[0m\u001b[0;34m\u001b[0m\u001b[0;34m\u001b[0m\u001b[0m\n\u001b[0;32m--> 350\u001b[0;31m             \u001b[0mfp_write\u001b[0m\u001b[0;34m(\u001b[0m\u001b[0;34m'\\r'\u001b[0m \u001b[0;34m+\u001b[0m \u001b[0ms\u001b[0m \u001b[0;34m+\u001b[0m \u001b[0;34m(\u001b[0m\u001b[0;34m' '\u001b[0m \u001b[0;34m*\u001b[0m \u001b[0mmax\u001b[0m\u001b[0;34m(\u001b[0m\u001b[0mlast_len\u001b[0m\u001b[0;34m[\u001b[0m\u001b[0;36m0\u001b[0m\u001b[0;34m]\u001b[0m \u001b[0;34m-\u001b[0m \u001b[0mlen_s\u001b[0m\u001b[0;34m,\u001b[0m \u001b[0;36m0\u001b[0m\u001b[0;34m)\u001b[0m\u001b[0;34m)\u001b[0m\u001b[0;34m)\u001b[0m\u001b[0;34m\u001b[0m\u001b[0;34m\u001b[0m\u001b[0m\n\u001b[0m\u001b[1;32m    351\u001b[0m             \u001b[0mlast_len\u001b[0m\u001b[0;34m[\u001b[0m\u001b[0;36m0\u001b[0m\u001b[0;34m]\u001b[0m \u001b[0;34m=\u001b[0m \u001b[0mlen_s\u001b[0m\u001b[0;34m\u001b[0m\u001b[0;34m\u001b[0m\u001b[0m\n\u001b[1;32m    352\u001b[0m \u001b[0;34m\u001b[0m\u001b[0m\n",
            "\u001b[0;32m/usr/local/lib/python3.7/dist-packages/tqdm/std.py\u001b[0m in \u001b[0;36mfp_write\u001b[0;34m(s)\u001b[0m\n\u001b[1;32m    341\u001b[0m \u001b[0;34m\u001b[0m\u001b[0m\n\u001b[1;32m    342\u001b[0m         \u001b[0;32mdef\u001b[0m \u001b[0mfp_write\u001b[0m\u001b[0;34m(\u001b[0m\u001b[0ms\u001b[0m\u001b[0;34m)\u001b[0m\u001b[0;34m:\u001b[0m\u001b[0;34m\u001b[0m\u001b[0;34m\u001b[0m\u001b[0m\n\u001b[0;32m--> 343\u001b[0;31m             \u001b[0mfp\u001b[0m\u001b[0;34m.\u001b[0m\u001b[0mwrite\u001b[0m\u001b[0;34m(\u001b[0m\u001b[0m_unicode\u001b[0m\u001b[0;34m(\u001b[0m\u001b[0ms\u001b[0m\u001b[0;34m)\u001b[0m\u001b[0;34m)\u001b[0m\u001b[0;34m\u001b[0m\u001b[0;34m\u001b[0m\u001b[0m\n\u001b[0m\u001b[1;32m    344\u001b[0m             \u001b[0mfp_flush\u001b[0m\u001b[0;34m(\u001b[0m\u001b[0;34m)\u001b[0m\u001b[0;34m\u001b[0m\u001b[0;34m\u001b[0m\u001b[0m\n\u001b[1;32m    345\u001b[0m \u001b[0;34m\u001b[0m\u001b[0m\n",
            "\u001b[0;32m/usr/local/lib/python3.7/dist-packages/tqdm/utils.py\u001b[0m in \u001b[0;36minner\u001b[0;34m(*args, **kwargs)\u001b[0m\n\u001b[1;32m    143\u001b[0m         \u001b[0;32mdef\u001b[0m \u001b[0minner\u001b[0m\u001b[0;34m(\u001b[0m\u001b[0;34m*\u001b[0m\u001b[0margs\u001b[0m\u001b[0;34m,\u001b[0m \u001b[0;34m**\u001b[0m\u001b[0mkwargs\u001b[0m\u001b[0;34m)\u001b[0m\u001b[0;34m:\u001b[0m\u001b[0;34m\u001b[0m\u001b[0;34m\u001b[0m\u001b[0m\n\u001b[1;32m    144\u001b[0m             \u001b[0;32mtry\u001b[0m\u001b[0;34m:\u001b[0m\u001b[0;34m\u001b[0m\u001b[0;34m\u001b[0m\u001b[0m\n\u001b[0;32m--> 145\u001b[0;31m                 \u001b[0;32mreturn\u001b[0m \u001b[0mfunc\u001b[0m\u001b[0;34m(\u001b[0m\u001b[0;34m*\u001b[0m\u001b[0margs\u001b[0m\u001b[0;34m,\u001b[0m \u001b[0;34m**\u001b[0m\u001b[0mkwargs\u001b[0m\u001b[0;34m)\u001b[0m\u001b[0;34m\u001b[0m\u001b[0;34m\u001b[0m\u001b[0m\n\u001b[0m\u001b[1;32m    146\u001b[0m             \u001b[0;32mexcept\u001b[0m \u001b[0mOSError\u001b[0m \u001b[0;32mas\u001b[0m \u001b[0me\u001b[0m\u001b[0;34m:\u001b[0m\u001b[0;34m\u001b[0m\u001b[0;34m\u001b[0m\u001b[0m\n\u001b[1;32m    147\u001b[0m                 \u001b[0;32mif\u001b[0m \u001b[0me\u001b[0m\u001b[0;34m.\u001b[0m\u001b[0merrno\u001b[0m \u001b[0;34m!=\u001b[0m \u001b[0;36m5\u001b[0m\u001b[0;34m:\u001b[0m\u001b[0;34m\u001b[0m\u001b[0;34m\u001b[0m\u001b[0m\n",
            "\u001b[0;32m/usr/local/lib/python3.7/dist-packages/ipykernel/iostream.py\u001b[0m in \u001b[0;36mwrite\u001b[0;34m(self, string)\u001b[0m\n\u001b[1;32m    406\u001b[0m                     \u001b[0mself\u001b[0m\u001b[0;34m.\u001b[0m\u001b[0mflush\u001b[0m\u001b[0;34m(\u001b[0m\u001b[0;34m)\u001b[0m\u001b[0;34m\u001b[0m\u001b[0;34m\u001b[0m\u001b[0m\n\u001b[1;32m    407\u001b[0m             \u001b[0;32melse\u001b[0m\u001b[0;34m:\u001b[0m\u001b[0;34m\u001b[0m\u001b[0;34m\u001b[0m\u001b[0m\n\u001b[0;32m--> 408\u001b[0;31m                 \u001b[0mself\u001b[0m\u001b[0;34m.\u001b[0m\u001b[0m_schedule_flush\u001b[0m\u001b[0;34m(\u001b[0m\u001b[0;34m)\u001b[0m\u001b[0;34m\u001b[0m\u001b[0;34m\u001b[0m\u001b[0m\n\u001b[0m\u001b[1;32m    409\u001b[0m \u001b[0;34m\u001b[0m\u001b[0m\n\u001b[1;32m    410\u001b[0m     \u001b[0;32mdef\u001b[0m \u001b[0mwritelines\u001b[0m\u001b[0;34m(\u001b[0m\u001b[0mself\u001b[0m\u001b[0;34m,\u001b[0m \u001b[0msequence\u001b[0m\u001b[0;34m)\u001b[0m\u001b[0;34m:\u001b[0m\u001b[0;34m\u001b[0m\u001b[0;34m\u001b[0m\u001b[0m\n",
            "\u001b[0;32m/usr/local/lib/python3.7/dist-packages/ipykernel/iostream.py\u001b[0m in \u001b[0;36m_schedule_flush\u001b[0;34m(self)\u001b[0m\n\u001b[1;32m    330\u001b[0m         \u001b[0;32mdef\u001b[0m \u001b[0m_schedule_in_thread\u001b[0m\u001b[0;34m(\u001b[0m\u001b[0;34m)\u001b[0m\u001b[0;34m:\u001b[0m\u001b[0;34m\u001b[0m\u001b[0;34m\u001b[0m\u001b[0m\n\u001b[1;32m    331\u001b[0m             \u001b[0mself\u001b[0m\u001b[0;34m.\u001b[0m\u001b[0m_io_loop\u001b[0m\u001b[0;34m.\u001b[0m\u001b[0mcall_later\u001b[0m\u001b[0;34m(\u001b[0m\u001b[0mself\u001b[0m\u001b[0;34m.\u001b[0m\u001b[0mflush_interval\u001b[0m\u001b[0;34m,\u001b[0m \u001b[0mself\u001b[0m\u001b[0;34m.\u001b[0m\u001b[0m_flush\u001b[0m\u001b[0;34m)\u001b[0m\u001b[0;34m\u001b[0m\u001b[0;34m\u001b[0m\u001b[0m\n\u001b[0;32m--> 332\u001b[0;31m         \u001b[0mself\u001b[0m\u001b[0;34m.\u001b[0m\u001b[0mpub_thread\u001b[0m\u001b[0;34m.\u001b[0m\u001b[0mschedule\u001b[0m\u001b[0;34m(\u001b[0m\u001b[0m_schedule_in_thread\u001b[0m\u001b[0;34m)\u001b[0m\u001b[0;34m\u001b[0m\u001b[0;34m\u001b[0m\u001b[0m\n\u001b[0m\u001b[1;32m    333\u001b[0m \u001b[0;34m\u001b[0m\u001b[0m\n\u001b[1;32m    334\u001b[0m     \u001b[0;32mdef\u001b[0m \u001b[0mflush\u001b[0m\u001b[0;34m(\u001b[0m\u001b[0mself\u001b[0m\u001b[0;34m)\u001b[0m\u001b[0;34m:\u001b[0m\u001b[0;34m\u001b[0m\u001b[0;34m\u001b[0m\u001b[0m\n",
            "\u001b[0;32m/usr/local/lib/python3.7/dist-packages/ipykernel/iostream.py\u001b[0m in \u001b[0;36mschedule\u001b[0;34m(self, f)\u001b[0m\n\u001b[1;32m    201\u001b[0m             \u001b[0mself\u001b[0m\u001b[0;34m.\u001b[0m\u001b[0m_events\u001b[0m\u001b[0;34m.\u001b[0m\u001b[0mappend\u001b[0m\u001b[0;34m(\u001b[0m\u001b[0mf\u001b[0m\u001b[0;34m)\u001b[0m\u001b[0;34m\u001b[0m\u001b[0;34m\u001b[0m\u001b[0m\n\u001b[1;32m    202\u001b[0m             \u001b[0;31m# wake event thread (message content is ignored)\u001b[0m\u001b[0;34m\u001b[0m\u001b[0;34m\u001b[0m\u001b[0;34m\u001b[0m\u001b[0m\n\u001b[0;32m--> 203\u001b[0;31m             \u001b[0mself\u001b[0m\u001b[0;34m.\u001b[0m\u001b[0m_event_pipe\u001b[0m\u001b[0;34m.\u001b[0m\u001b[0msend\u001b[0m\u001b[0;34m(\u001b[0m\u001b[0;34mb''\u001b[0m\u001b[0;34m)\u001b[0m\u001b[0;34m\u001b[0m\u001b[0;34m\u001b[0m\u001b[0m\n\u001b[0m\u001b[1;32m    204\u001b[0m         \u001b[0;32melse\u001b[0m\u001b[0;34m:\u001b[0m\u001b[0;34m\u001b[0m\u001b[0;34m\u001b[0m\u001b[0m\n\u001b[1;32m    205\u001b[0m             \u001b[0mf\u001b[0m\u001b[0;34m(\u001b[0m\u001b[0;34m)\u001b[0m\u001b[0;34m\u001b[0m\u001b[0;34m\u001b[0m\u001b[0m\n",
            "\u001b[0;32m/usr/local/lib/python3.7/dist-packages/zmq/sugar/socket.py\u001b[0m in \u001b[0;36msend\u001b[0;34m(self, data, flags, copy, track, routing_id, group)\u001b[0m\n\u001b[1;32m    616\u001b[0m                 )\n\u001b[1;32m    617\u001b[0m             \u001b[0mdata\u001b[0m\u001b[0;34m.\u001b[0m\u001b[0mgroup\u001b[0m \u001b[0;34m=\u001b[0m \u001b[0mgroup\u001b[0m\u001b[0;34m\u001b[0m\u001b[0;34m\u001b[0m\u001b[0m\n\u001b[0;32m--> 618\u001b[0;31m         \u001b[0;32mreturn\u001b[0m \u001b[0msuper\u001b[0m\u001b[0;34m(\u001b[0m\u001b[0;34m)\u001b[0m\u001b[0;34m.\u001b[0m\u001b[0msend\u001b[0m\u001b[0;34m(\u001b[0m\u001b[0mdata\u001b[0m\u001b[0;34m,\u001b[0m \u001b[0mflags\u001b[0m\u001b[0;34m=\u001b[0m\u001b[0mflags\u001b[0m\u001b[0;34m,\u001b[0m \u001b[0mcopy\u001b[0m\u001b[0;34m=\u001b[0m\u001b[0mcopy\u001b[0m\u001b[0;34m,\u001b[0m \u001b[0mtrack\u001b[0m\u001b[0;34m=\u001b[0m\u001b[0mtrack\u001b[0m\u001b[0;34m)\u001b[0m\u001b[0;34m\u001b[0m\u001b[0;34m\u001b[0m\u001b[0m\n\u001b[0m\u001b[1;32m    619\u001b[0m \u001b[0;34m\u001b[0m\u001b[0m\n\u001b[1;32m    620\u001b[0m     def send_multipart(\n",
            "\u001b[0;32mzmq/backend/cython/socket.pyx\u001b[0m in \u001b[0;36mzmq.backend.cython.socket.Socket.send\u001b[0;34m()\u001b[0m\n",
            "\u001b[0;32mzmq/backend/cython/socket.pyx\u001b[0m in \u001b[0;36mzmq.backend.cython.socket.Socket.send\u001b[0;34m()\u001b[0m\n",
            "\u001b[0;32mzmq/backend/cython/socket.pyx\u001b[0m in \u001b[0;36mzmq.backend.cython.socket._send_copy\u001b[0;34m()\u001b[0m\n",
            "\u001b[0;32m/usr/local/lib/python3.7/dist-packages/zmq/backend/cython/checkrc.pxd\u001b[0m in \u001b[0;36mzmq.backend.cython.checkrc._check_rc\u001b[0;34m()\u001b[0m\n",
            "\u001b[0;31mKeyboardInterrupt\u001b[0m: "
          ]
        }
      ]
    },
    {
      "cell_type": "code",
      "source": [
        "np.min(grads@g)"
      ],
      "metadata": {
        "colab": {
          "base_uri": "https://localhost:8080/"
        },
        "id": "WoRUOONGp2XN",
        "outputId": "7ce10c36-54cc-405b-cbf3-26fa5fd1346a"
      },
      "execution_count": 6,
      "outputs": [
        {
          "output_type": "execute_result",
          "data": {
            "text/plain": [
              "-4.236641056337677e-05"
            ]
          },
          "metadata": {},
          "execution_count": 6
        }
      ]
    },
    {
      "cell_type": "code",
      "source": [
        "import torch"
      ],
      "metadata": {
        "id": "wBd1Ngptw-e-"
      },
      "execution_count": null,
      "outputs": []
    }
  ]
}