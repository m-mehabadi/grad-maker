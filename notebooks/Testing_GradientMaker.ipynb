{
  "nbformat": 4,
  "nbformat_minor": 0,
  "metadata": {
    "colab": {
      "name": "Testing-GradientMaker.ipynb",
      "provenance": [],
      "collapsed_sections": [],
      "include_colab_link": true
    },
    "kernelspec": {
      "name": "python3",
      "display_name": "Python 3"
    },
    "language_info": {
      "name": "python"
    },
    "gpuClass": "standard"
  },
  "cells": [
    {
      "cell_type": "markdown",
      "metadata": {
        "id": "view-in-github",
        "colab_type": "text"
      },
      "source": [
        "<a href=\"https://colab.research.google.com/github/m-mehabadi/grad-maker/blob/main/notebooks/Testing_GradientMaker.ipynb\" target=\"_parent\"><img src=\"https://colab.research.google.com/assets/colab-badge.svg\" alt=\"Open In Colab\"/></a>"
      ]
    },
    {
      "cell_type": "markdown",
      "source": [
        "http://www.cs.cmu.edu/~pradeepr/convexopt/Lecture_Slides/dual-ascent.pdf\n",
        "\n",
        "https://web.stanford.edu/class/ee364b/lectures/primal_dual_subgrad_slides.pdf\n",
        "\n",
        "https://www.cvxpy.org/examples/basic/quadratic_program.html"
      ],
      "metadata": {
        "id": "BphVoTyaLF5t"
      }
    },
    {
      "cell_type": "code",
      "execution_count": 3,
      "metadata": {
        "id": "WIHWSu69D0a-"
      },
      "outputs": [],
      "source": [
        "import numpy as np\n",
        "import matplotlib.pyplot as plt\n",
        "import cvxpy as cp\n",
        "\n",
        "import torch\n",
        "import torch.nn as nn\n",
        "import torch.optim as optim\n",
        "\n",
        "from tqdm import tqdm"
      ]
    },
    {
      "cell_type": "code",
      "source": [
        "def gmaker(grads, epochs = 100, method=\"simple\", start=\"zero\", verbose=1):\n",
        "    lr = 0.01\n",
        "    n, d = grads.shape\n",
        "    w = np.random.randn(d) if start==\"normal\" else np.zeros(d)\n",
        "    max_count = 0\n",
        "    # max_w = None\n",
        "    for e in range(epochs):\n",
        "        ge = grads[e%n]\n",
        "        w_new = w + lr * (1. - (ge@w > 0)) * ge\n",
        "        # w = w_new/np.linalg.norm(w_new)\n",
        "        w = w_new if method==\"simple\" else w_new/np.linalg.norm(w_new)\n",
        "        # pos_count = np.sum(grads@w>0)\n",
        "        # max_count = pos_count if pos_count >= max_count else max_count\n",
        "        # max_w = w if pos_count >= max_count else max_w\n",
        "        # if pos_count >= max_count:\n",
        "        #     max_count = pos_count\n",
        "    \n",
        "    pos_count = np.sum(grads@w>0)\n",
        "    total_count = n\n",
        "\n",
        "    if verbose > 0:\n",
        "        # print(f\"For {epochs} epochs: {pos_count} out of {n}, and maximum of {max_count}\")\n",
        "        print(f\"For {epochs} epochs: {pos_count} out of {n}\")\n",
        "    \n",
        "    return w, (pos_count, max_count, total_count)\n",
        "\n",
        "def gmaker_torch(grads, epochs = 100, method=\"simple\", start=\"zero\", verbose=1, device=None):\n",
        "    device = torch.device('cuda' if torch.cuda.is_available() else 'cpu') if device is None else device\n",
        "    lr = 0.01\n",
        "    n, d = grads.size()\n",
        "    w = torch.randn(d) if start==\"normal\" else torch.zeros(d)\n",
        "    w = w.to(device)\n",
        "    max_count = 0\n",
        "    for e in range(epochs):\n",
        "        ge = grads[e%n]\n",
        "        w_new = w + lr * (1. - (ge@w > 0).int()) * ge\n",
        "        w = w_new if method==\"simple\" else w_new/torch.norm(w_new)\n",
        "        # w = w_new/np.linalg.norm(w_new)\n",
        "        # max_count = pos_count if pos_count >= max_count else max_count\n",
        "        # if pos_count >= max_count:\n",
        "        #     max_count = pos_count\n",
        "    \n",
        "    pos_count = torch.sum(grads@w > 0)\n",
        "    total_count = n\n",
        "\n",
        "    if verbose > 0:\n",
        "        # print(f\"For {epochs} epochs: {pos_count} out of {n}, and maximum of {max_count}\")\n",
        "        print(f\"For {epochs} epochs: {pos_count} out of {n}\")\n",
        "    \n",
        "    return w, (pos_count, max_count, total_count)"
      ],
      "metadata": {
        "id": "hO4Z0knYNzlI"
      },
      "execution_count": 34,
      "outputs": []
    },
    {
      "cell_type": "markdown",
      "source": [
        "### Testcases\n",
        "\n",
        "Now let's write some test cases to make sure everything is working correctly\n"
      ],
      "metadata": {
        "id": "PWTyzUQQ5zrR"
      }
    },
    {
      "cell_type": "markdown",
      "source": [
        "### Pytorch test"
      ],
      "metadata": {
        "id": "8Wlk8OYWTT83"
      }
    },
    {
      "cell_type": "markdown",
      "source": [
        "#### CPU test"
      ],
      "metadata": {
        "id": "ZPBlcFltUmiQ"
      }
    },
    {
      "cell_type": "code",
      "source": [
        "size = (2000, 7840)\n",
        "grads = torch.randn(size).to('cpu')\n",
        "gmaker_torch(grads, device='cpu', epochs=10000)"
      ],
      "metadata": {
        "colab": {
          "base_uri": "https://localhost:8080/"
        },
        "id": "bNpSGJ5WUeqJ",
        "outputId": "f9a0fbbe-910c-4dec-bff1-0acfa127de3f"
      },
      "execution_count": 14,
      "outputs": [
        {
          "output_type": "stream",
          "name": "stdout",
          "text": [
            "For 10000 epochs: 1997 out of 2000\n"
          ]
        },
        {
          "output_type": "execute_result",
          "data": {
            "text/plain": [
              "(tensor([-0.2214,  0.0871,  0.2956,  ...,  0.2232,  0.5875, -0.2027]),\n",
              " (tensor(1997), 0, 2000))"
            ]
          },
          "metadata": {},
          "execution_count": 14
        }
      ]
    },
    {
      "cell_type": "markdown",
      "source": [
        "#### GPU test"
      ],
      "metadata": {
        "id": "pFdf1tn9Uoxw"
      }
    },
    {
      "cell_type": "code",
      "source": [
        "size = (2000, 7840)\n",
        "grads = torch.randn(size).to('cuda')\n",
        "gmaker_torch(grads)"
      ],
      "metadata": {
        "colab": {
          "base_uri": "https://localhost:8080/"
        },
        "id": "C224u4qgTTPx",
        "outputId": "7a69070e-5b1e-4723-8213-cac19eec95ee"
      },
      "execution_count": 4,
      "outputs": [
        {
          "output_type": "stream",
          "name": "stdout",
          "text": [
            "For 100 epochs: 1028 out of 2000, and maximum of 1062\n"
          ]
        },
        {
          "output_type": "execute_result",
          "data": {
            "text/plain": [
              "(tensor([-0.1040, -0.0144, -0.0493,  ..., -0.0979, -0.0286, -0.1028],\n",
              "        device='cuda:0'),\n",
              " (tensor(1028, device='cuda:0'), tensor(1062, device='cuda:0'), 2000))"
            ]
          },
          "metadata": {},
          "execution_count": 4
        }
      ]
    },
    {
      "cell_type": "markdown",
      "source": [
        "### Testcase 1:"
      ],
      "metadata": {
        "id": "I36QveNmUe5n"
      }
    },
    {
      "cell_type": "code",
      "source": [
        "shape = (2000, 7840)\n",
        "grads = 1e-10*(1000*(np.random.randn(*shape)+1))*np.random.randn(*shape)"
      ],
      "metadata": {
        "id": "Gf2DEMZXd0iQ"
      },
      "execution_count": 35,
      "outputs": []
    },
    {
      "cell_type": "code",
      "source": [
        "epochs_power = 6\n",
        "counts = []\n",
        "for i in [10**j for j in range(epochs_power)]:\n",
        "    g, (pos_count, _, _) = gmaker(grads, epochs=i, start=\"zero\")\n",
        "    counts.append(pos_count)\n",
        "plt.plot(list(range(epochs_power)), counts)"
      ],
      "metadata": {
        "id": "dDDbsRwAvKBA",
        "colab": {
          "base_uri": "https://localhost:8080/",
          "height": 386
        },
        "outputId": "140b018d-3f22-4887-d056-e192ac9f9eee"
      },
      "execution_count": 36,
      "outputs": [
        {
          "output_type": "stream",
          "name": "stdout",
          "text": [
            "For 1 epochs: 992 out of 2000\n",
            "For 10 epochs: 989 out of 2000\n",
            "For 100 epochs: 1040 out of 2000\n",
            "For 1000 epochs: 1363 out of 2000\n",
            "For 10000 epochs: 1995 out of 2000\n",
            "For 100000 epochs: 2000 out of 2000\n"
          ]
        },
        {
          "output_type": "execute_result",
          "data": {
            "text/plain": [
              "[<matplotlib.lines.Line2D at 0x7f3273c041d0>]"
            ]
          },
          "metadata": {},
          "execution_count": 36
        },
        {
          "output_type": "display_data",
          "data": {
            "text/plain": [
              "<Figure size 432x288 with 1 Axes>"
            ],
            "image/png": "[encoded data removed]"
          },
          "metadata": {
            "needs_background": "light"
          }
        }
      ]
    },
    {
      "cell_type": "markdown",
      "source": [
        "### Testcase 2:\n",
        "Let's see how this algorithm works on vectors in lower dimensional spaces from the high dimensional space ($R^d$) they belong to."
      ],
      "metadata": {
        "id": "ZVvHCcinUhbd"
      }
    },
    {
      "cell_type": "code",
      "source": [
        "def plotter(x, poses, iden=1):\n",
        "    plt.figure(figsize=(16, 10))\n",
        "    if iden>0: plt.plot(x, x, label=\"identity (for comparison)\")\n",
        "    plt.plot(x, poses, label=\"num of positives found\")\n",
        "    plt.legend()\n",
        "    plt.show()"
      ],
      "metadata": {
        "id": "o3XKk6yUAwYJ"
      },
      "execution_count": 42,
      "outputs": []
    },
    {
      "cell_type": "markdown",
      "source": [
        "#### One dimensional subspace:"
      ],
      "metadata": {
        "id": "Bat9ZWIAVCUR"
      }
    },
    {
      "cell_type": "code",
      "source": [
        "n, d = 100, 2000\n",
        "\n",
        "# u1 = np.random.randn(d)\n",
        "u1 = np.zeros(d)\n",
        "u2 = np.random.randn(d)\n",
        "\n",
        "point = lambda t: t*(u2-u1) + u1\n",
        "\n",
        "vecs = []\n",
        "for i in range(n):\n",
        "    vecs.append(point(np.random.randn()))\n",
        "grads = np.stack(vecs, axis=0)\n",
        "print(grads.shape)"
      ],
      "metadata": {
        "colab": {
          "base_uri": "https://localhost:8080/"
        },
        "id": "TmA_PRsTVBVx",
        "outputId": "03d525ad-9c59-4d30-9388-4df7e2cbd6c7"
      },
      "execution_count": 23,
      "outputs": [
        {
          "output_type": "stream",
          "name": "stdout",
          "text": [
            "(100, 2000)\n"
          ]
        }
      ]
    },
    {
      "cell_type": "code",
      "source": [
        "g, _ = gmaker(grads, epochs=10000)\n",
        "print(g.shape)\n",
        "print(grads@g>=0)"
      ],
      "metadata": {
        "colab": {
          "base_uri": "https://localhost:8080/"
        },
        "id": "I1puNon-Wl8z",
        "outputId": "0589fe44-dd8e-44da-f7dc-af58062093f1"
      },
      "execution_count": 24,
      "outputs": [
        {
          "output_type": "stream",
          "name": "stdout",
          "text": [
            "For 10000 epochs: 48 out of 100\n",
            "(2000,)\n",
            "[False  True  True False False False  True False  True False False  True\n",
            " False False False  True False  True False False False  True  True  True\n",
            "  True False  True  True False  True  True  True False False False  True\n",
            " False False  True False  True False  True  True False  True False  True\n",
            "  True False  True False False  True  True  True False False  True False\n",
            "  True False False  True False False False False  True  True False  True\n",
            "  True False False False  True  True  True  True  True  True False  True\n",
            " False False  True  True False False False  True False False False False\n",
            "  True  True False  True]\n"
          ]
        }
      ]
    },
    {
      "cell_type": "markdown",
      "source": [
        "### Linear subspace with arbitrary dimension $d_{sub}<=d$"
      ],
      "metadata": {
        "id": "2cC0Z_UBd1Lz"
      }
    },
    {
      "cell_type": "code",
      "source": [
        "n, d = 100, 2000\n",
        "\n",
        "class PointGenerator():\n",
        "    def __init__(self, d_sub, d, U=None):\n",
        "        ### U is the set of vectors as basis of the subspace.\n",
        "        ### If tuple is passed, then d_sub number of random vectors in R^d\n",
        "        ### will be generated using `np.random.randn` function.\n",
        "\n",
        "        self.d_sub = d_sub\n",
        "        self.d = d\n",
        "        self.U = U if U is not None else np.random.randn(d_sub, d)\n",
        "    \n",
        "    def point(self, w=None):\n",
        "        w = w if w is not None else np.random.randn(self.d_sub)\n",
        "        return self.U.T@w\n",
        "    \n",
        "    def pt(self, w=None):\n",
        "        return self.point(w)"
      ],
      "metadata": {
        "id": "xXj7ceNveSjz"
      },
      "execution_count": 26,
      "outputs": []
    },
    {
      "cell_type": "code",
      "source": [
        "pgen = PointGenerator(1, d)\n",
        "\n",
        "print(pgen.point(np.array([0])))\n",
        "print(pgen.point())"
      ],
      "metadata": {
        "colab": {
          "base_uri": "https://localhost:8080/"
        },
        "id": "PgioqibTpJy0",
        "outputId": "3d0c11c2-383b-457a-9623-f45f7a1c80bc"
      },
      "execution_count": 27,
      "outputs": [
        {
          "output_type": "stream",
          "name": "stdout",
          "text": [
            "[0. 0. 0. ... 0. 0. 0.]\n",
            "[-0.18617785 -1.620955   -1.22568143 ...  0.77379389  1.96184585\n",
            "  0.95120968]\n"
          ]
        }
      ]
    },
    {
      "cell_type": "markdown",
      "source": [
        "#### Fix $d$ and $d_{sub}$, see the effect of the number of points"
      ],
      "metadata": {
        "id": "H-02dk6X-SWA"
      }
    },
    {
      "cell_type": "code",
      "source": [
        "epochs = 10000\n",
        "max_n, d_sub, d = 100, 50, 100\n",
        "\n",
        "pgen = PointGenerator(d_sub, d)\n",
        "\n",
        "_range = range(1, max_n+1)\n",
        "poses = []\n",
        "for n in tqdm(_range):\n",
        "    points = np.stack([pgen.point() for i in range(n)], axis=0)\n",
        "    _, (pos_count, _, _) = gmaker(points, epochs=epochs, verbose=0)\n",
        "    poses.append(pos_count)\n",
        "\n",
        "plotter(list(_range), poses)\n",
        "plotter(list(_range), np.array(poses)/np.array(_range), iden=0)"
      ],
      "metadata": {
        "colab": {
          "base_uri": "https://localhost:8080/",
          "height": 1000
        },
        "id": "N--MVbzi_XS4",
        "outputId": "8be153f2-63ad-4a8f-b712-4f27a04a787c"
      },
      "execution_count": 48,
      "outputs": [
        {
          "output_type": "stream",
          "name": "stderr",
          "text": [
            "100%|██████████| 100/100 [00:07<00:00, 12.92it/s]\n"
          ]
        },
        {
          "output_type": "display_data",
          "data": {
            "text/plain": [
              "<Figure size 1152x720 with 1 Axes>"
            ],
            "image/png": "[encoded data removed]"
          },
          "metadata": {
            "needs_background": "light"
          }
        },
        {
          "output_type": "display_data",
          "data": {
            "text/plain": [
              "<Figure size 1152x720 with 1 Axes>"
            ],
            "image/png": "[encoded data removed]"
          },
          "metadata": {
            "needs_background": "light"
          }
        }
      ]
    },
    {
      "cell_type": "markdown",
      "source": [
        "#### Fix $d$ and number of points, $d_{sub}$ varries"
      ],
      "metadata": {
        "id": "MjPz82ry_H4R"
      }
    }
  ]
}